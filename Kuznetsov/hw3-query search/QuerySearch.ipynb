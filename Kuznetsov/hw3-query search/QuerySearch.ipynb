{
 "cells": [
  {
   "cell_type": "code",
   "execution_count": 1,
   "metadata": {
    "collapsed": false
   },
   "outputs": [],
   "source": [
    "from sklearn.datasets import fetch_20newsgroups\n",
    "from sklearn.feature_extraction.text import TfidfVectorizer\n",
    "from nltk.stem import SnowballStemmer\n",
    "from nltk import word_tokenize\n",
    "from sklearn.metrics.pairwise import cosine_similarity\n",
    "import numpy as np"
   ]
  },
  {
   "cell_type": "code",
   "execution_count": 2,
   "metadata": {
    "collapsed": false
   },
   "outputs": [
    {
     "name": "stdout",
     "output_type": "stream",
     "text": [
      "Names of topics:  ['comp.os.ms-windows.misc', 'comp.sys.ibm.pc.hardware', 'rec.autos', 'rec.sport.hockey', 'sci.space']\n"
     ]
    }
   ],
   "source": [
    "newsgroups = fetch_20newsgroups(categories=['comp.sys.ibm.pc.hardware','comp.os.ms-windows.misc','rec.autos',\n",
    "                                                  'rec.sport.hockey', 'sci.space'], subset='all', shuffle=True, random_state=1)\n",
    "print 'Names of topics: ', list(newsgroups.target_names)"
   ]
  },
  {
   "cell_type": "markdown",
   "metadata": {},
   "source": [
    "### Tokenizer"
   ]
  },
  {
   "cell_type": "code",
   "execution_count": 3,
   "metadata": {
    "collapsed": false
   },
   "outputs": [],
   "source": [
    "stemmer = SnowballStemmer('english').stem\n",
    "def stem_tokenize(text):\n",
    "    return [stemmer(i) for i in word_tokenize(text)]"
   ]
  },
  {
   "cell_type": "markdown",
   "metadata": {},
   "source": [
    "## TF-IDF"
   ]
  },
  {
   "cell_type": "code",
   "execution_count": 4,
   "metadata": {
    "collapsed": false
   },
   "outputs": [],
   "source": [
    "tfidf = TfidfVectorizer(stop_words='english',analyzer='word', tokenizer=stem_tokenize)\n",
    "newsgroups_tfidf = tfidf.fit_transform(newsgroups.data)"
   ]
  },
  {
   "cell_type": "code",
   "execution_count": 5,
   "metadata": {
    "collapsed": false
   },
   "outputs": [
    {
     "name": "stdout",
     "output_type": "stream",
     "text": [
      "topics:  5\n",
      "documents:  4943\n"
     ]
    }
   ],
   "source": [
    "print 'topics: ', len(newsgroups.target_names)\n",
    "print 'documents: ', newsgroups_tfidf.shape[0]"
   ]
  },
  {
   "cell_type": "code",
   "execution_count": 11,
   "metadata": {
    "collapsed": false
   },
   "outputs": [],
   "source": [
    "def most_similar(query, first_n_documents):\n",
    "    # compute TF-IDF for query\n",
    "    query_tfidf = tfidf.transform([query])\n",
    "    \n",
    "    # print TF-IDF value for each word in query\n",
    "    words = query.split(' ', 1)\n",
    "    for k in range(0, len(words)):\n",
    "        print words[k], ': ', query_tfidf.data[k]\n",
    "    print '\\n'\n",
    "    \n",
    "    # compute cosine similarity between query and each document in corpus\n",
    "    cos_sim = {}\n",
    "    count = 0\n",
    "    for document in newsgroups_tfidf:\n",
    "        cos_sim[newsgroups.data[count]] = cosine_similarity(document, query_tfidf)[0][0]\n",
    "        count+=1\n",
    "    \n",
    "    # sort result by max cosine similarity\n",
    "    top_document = sorted(cos_sim.values(), reverse=True)\n",
    "    \n",
    "    for i in range(0, first_n_documents):\n",
    "        text = cos_sim.keys()[cos_sim.values().index(top_document[i])]\n",
    "        str= text.split('\\n')\n",
    "        print 'Similarity: ', top_document[i], '\\n'\n",
    "        \n",
    "        # print the first 5 string in each document\n",
    "        for j in range(0,5):\n",
    "            print str[j].encode(\"ascii\", \"ignore\")\n",
    "        print '-----------------------------------\\n'"
   ]
  },
  {
   "cell_type": "code",
   "execution_count": 12,
   "metadata": {
    "collapsed": false
   },
   "outputs": [
    {
     "name": "stdout",
     "output_type": "stream",
     "text": [
      "Russia :  0.734449512124\n",
      "champion :  0.678663329008\n",
      "\n",
      "\n",
      "Similarity:  0.193366914083 \n",
      "\n",
      "From: pgf@srl03.cacs.usl.edu (Phil G. Fraering)\n",
      "Subject: Re: U.S. Government and Science and Technolgy Investment\n",
      "Organization: Univ. of Southwestern Louisiana\n",
      "Lines: 24\n",
      "\n",
      "-----------------------------------\n",
      "\n",
      "Similarity:  0.162946447611 \n",
      "\n",
      "Organization: University of Maine System\n",
      "From: The Always Fanatical: Patrick Ellis <IO11330@MAINE.MAINE.EDU>\n",
      "Subject: Re: 1993 NHL Draft\n",
      " <1993Apr20.184627.4585@newshub.ariel.yorku.ca>\n",
      " <1993Apr21.064605.24531@CSD-NewsHost.Stanford.EDU>\n",
      "-----------------------------------\n",
      "\n"
     ]
    }
   ],
   "source": [
    "most_similar(\"Russia champion\", 2)"
   ]
  },
  {
   "cell_type": "code",
   "execution_count": 13,
   "metadata": {
    "collapsed": false
   },
   "outputs": [
    {
     "name": "stdout",
     "output_type": "stream",
     "text": [
      "Spaceship :  1.0\n",
      "\n",
      "\n",
      "Similarity:  0.303144022377 \n",
      "\n",
      "From: higgins@fnalf.fnal.gov (Bill Higgins-- Beam Jockey)\n",
      "Subject: The Dream Machines: book on vaporware spacecraft\n",
      "Organization: Fermi National Accelerator Laboratory\n",
      "Lines: 133\n",
      "NNTP-Posting-Host: fnalf.fnal.gov\n",
      "-----------------------------------\n",
      "\n",
      "Similarity:  0.216501621336 \n",
      "\n",
      "From: kudla@acm.rpi.edu (Robert Kudla)\n",
      "Subject: Re: Diamond SS24X, Win 3.1, Mouse cursor\n",
      "Nntp-Posting-Host: hermes.acm.rpi.edu\n",
      "Lines: 16\n",
      "\n",
      "-----------------------------------\n",
      "\n",
      "Similarity:  0.14204429275 \n",
      "\n",
      "From: kudla@acm.rpi.edu (Robert Kudla)\n",
      "Subject: Re: Warning on Copy II PC Board + Help on Copying?\n",
      "Keywords: Mislead, Misinform, Misdirect, COPY\n",
      "Article-I.D.: rpi.y3g53tr\n",
      "Lines: 40\n",
      "-----------------------------------\n",
      "\n"
     ]
    }
   ],
   "source": [
    "most_similar(\"Spaceship\", 3)"
   ]
  },
  {
   "cell_type": "code",
   "execution_count": 15,
   "metadata": {
    "collapsed": false
   },
   "outputs": [
    {
     "name": "stdout",
     "output_type": "stream",
     "text": [
      "machine :  0.6180784167\n",
      "learning :  0.786116448632\n",
      "\n",
      "\n",
      "Similarity:  0.235040845418 \n",
      "\n",
      "Organization: University of Central Florida - Computer Services\n",
      "From: Mark Woodruff <CDA90038@UCF1VM.BITNET>\n",
      "Subject: Many people on one machine\n",
      "Lines: 9\n",
      "\n",
      "-----------------------------------\n",
      "\n",
      "Similarity:  0.197225166317 \n",
      "\n",
      "From: lukka@klaava.Helsinki.FI (Tuomas J Lukka)\n",
      "Subject: Re: Challenge to Microsoft supporters.\n",
      "Organization: University of Helsinki\n",
      "Lines: 13\n",
      "\n",
      "-----------------------------------\n",
      "\n",
      "Similarity:  0.170669342726 \n",
      "\n",
      "From: gryphon@openage.openage.com (The Golden Gryphon)\n",
      "Subject: Re: Intel, the Pentium and Linux\n",
      "Article-I.D.: openage.1993Apr04.175934.8526\n",
      "Organization: Open Age, Inc.\n",
      "Lines: 40\n",
      "-----------------------------------\n",
      "\n",
      "Similarity:  0.147139351263 \n",
      "\n",
      "From: kentiler@matt.ksu.ksu.edu (Kent P. Iler)\n",
      "Subject: Procomm Plus for windows problems....\n",
      "Organization: Kansas State University\n",
      "Lines: 10\n",
      "NNTP-Posting-Host: matt.ksu.ksu.edu\n",
      "-----------------------------------\n",
      "\n",
      "Similarity:  0.145598134853 \n",
      "\n",
      "From: john@wa3wbu.UUCP (John Gayman)\n",
      "Subject: Another happy Gateway owner\n",
      "Organization: WA3WBU, Marysville, PA\n",
      "Lines: 43\n",
      "\n",
      "-----------------------------------\n",
      "\n"
     ]
    }
   ],
   "source": [
    "most_similar(\"machine learning\", 5)"
   ]
  },
  {
   "cell_type": "code",
   "execution_count": 23,
   "metadata": {
    "collapsed": false
   },
   "outputs": [
    {
     "name": "stdout",
     "output_type": "stream",
     "text": [
      "NHL :  0.751851563218\n",
      "stars :  0.659332410008\n",
      "\n",
      "\n",
      "Similarity:  0.349742578653 \n",
      "\n",
      "From: Karim Edvard Ahmed <ka0k+@andrew.cmu.edu>\n",
      "Subject: Re: Truly a sad day for hockey\n",
      "Organization: Senior, Economics, Carnegie Mellon, Pittsburgh, PA\n",
      "Lines: 17\n",
      "NNTP-Posting-Host: po5.andrew.cmu.edu\n",
      "-----------------------------------\n",
      "\n",
      "Similarity:  0.304003654709 \n",
      "\n",
      "From: alvstad@mari.acc-admin.stolaf.edu (Mad Dog)\n",
      "Subject: Truly a sad day for hockey\n",
      "Organization: St. Olaf College; Northfield, MN\n",
      "Lines: 19\n",
      "\n",
      "-----------------------------------\n",
      "\n",
      "Similarity:  0.284191849585 \n",
      "\n",
      "From: dwarf@bcarh601.bnr.ca (W. Jim Jordan)\n",
      "Subject: Re: Truly a sad day for hockey\n",
      "Nntp-Posting-Host: bcarh601\n",
      "Organization: Bell-Northern Research Ltd., Ottawa, Ontario, Canada\n",
      "Lines: 19\n",
      "-----------------------------------\n",
      "\n",
      "Similarity:  0.226217756345 \n",
      "\n",
      "From: MLINDROOS@FINABO.ABO.FI (Marcus Lindroos INF)\n",
      "Subject: Re: Too Many Europeans in NHL\n",
      "In-Reply-To: rauser@fraser.sfu.ca's message of Tue, 6 Apr 1993 02:16:48 GMT\n",
      "Organization: Abo Akademi University, Finland\n",
      "X-News-Reader: VMS NEWS 1.24\n",
      "-----------------------------------\n",
      "\n",
      "Similarity:  0.192735645421 \n",
      "\n",
      "From: anthonyp@sco.COM (Anthony Picilaidis)\n",
      "Subject: NHL Draft\n",
      "Organization: SCO Canada, Inc.\n",
      "Lines: 3\n",
      "\n",
      "-----------------------------------\n",
      "\n"
     ]
    }
   ],
   "source": [
    "most_similar(\"NHL stars\", 5)"
   ]
  }
 ],
 "metadata": {
  "kernelspec": {
   "display_name": "Python 2",
   "language": "python",
   "name": "python2"
  },
  "language_info": {
   "codemirror_mode": {
    "name": "ipython",
    "version": 2
   },
   "file_extension": ".py",
   "mimetype": "text/x-python",
   "name": "python",
   "nbconvert_exporter": "python",
   "pygments_lexer": "ipython2",
   "version": "2.7.11"
  }
 },
 "nbformat": 4,
 "nbformat_minor": 0
}
