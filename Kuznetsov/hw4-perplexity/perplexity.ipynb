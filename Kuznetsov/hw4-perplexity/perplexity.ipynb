{
 "cells": [
  {
   "cell_type": "code",
   "execution_count": 128,
   "metadata": {
    "collapsed": true
   },
   "outputs": [],
   "source": [
    "import io\n",
    "import math\n",
    "import nltk\n",
    "import string\n",
    "import lxml.html as html"
   ]
  },
  {
   "cell_type": "code",
   "execution_count": 116,
   "metadata": {
    "collapsed": true
   },
   "outputs": [],
   "source": [
    "# parse autonews.ru\n",
    "def parse_autonews(pages):\n",
    "    autonews = 'http://www.autonews.ru'\n",
    "    for page in range(1, pages):\n",
    "\n",
    "        # get urls for page\n",
    "        main_page = html.parse('http://www.autonews.ru/news/list/' + str(page) + '/')\n",
    "        urls = main_page.getroot().xpath('//ul[@class=\"news-list__list\"]//a[@href]/@href')\n",
    "        articles_list_autonews = []\n",
    "\n",
    "        try:\n",
    "            for url in urls:\n",
    "                article = html.parse(autonews + url)\n",
    "\n",
    "                # get text for each url and encode it\n",
    "                texts = article.getroot().xpath('//*[contains(@class, \"article__\")]/text()')\n",
    "                texts = [''.join(t).encode('utf-8', 'ignore').decode('utf-8') for t in texts]\n",
    "                page_texts = ''.join(texts)\n",
    "\n",
    "                # remove '\\n' and spaces\n",
    "                page_texts = page_texts.replace('\\n', ' ').replace('\\r', '')\n",
    "                page_texts = \" \".join(page_texts.split())\n",
    "                articles_list_autonews.append(page_texts)\n",
    "        except IOError:\n",
    "            continue\n",
    "    return articles_list_autonews"
   ]
  },
  {
   "cell_type": "code",
   "execution_count": 160,
   "metadata": {
    "collapsed": true
   },
   "outputs": [],
   "source": [
    "# parse ria.ru/science\n",
    "def parse_science(date):\n",
    "    science = 'http://ria.ru'\n",
    "    for page in range(1, date):\n",
    "        if page < 10:\n",
    "            page = '0' + str(page)\n",
    "\n",
    "        try:\n",
    "            # get urls for page\n",
    "            main_page_science = html.parse('http://ria.ru/science/201605' + str(page) + '/')\n",
    "            urls = main_page_science.getroot().xpath('//div[@class=\"b-list\"]//a[@href]/@href')\n",
    "            articles_list_science = []\n",
    "        \n",
    "            for url in urls:\n",
    "                article = html.parse(science + url)\n",
    "\n",
    "                # get text for each url and encode it\n",
    "                texts = article.getroot().xpath('//*[contains(@class, \"b-article__body\")]/p/text()')\n",
    "                page_texts = ''.join(texts)\n",
    "\n",
    "                # remove '\\n' and spaces\n",
    "                page_texts = page_texts.replace('\\n', ' ').replace('\\r', '')\n",
    "                page_texts = \" \".join(page_texts.split())\n",
    "                articles_list_science.append(page_texts)\n",
    "        except IOError:\n",
    "            continue\n",
    "    return articles_list_science"
   ]
  },
  {
   "cell_type": "code",
   "execution_count": 65,
   "metadata": {
    "collapsed": true
   },
   "outputs": [],
   "source": [
    "# read 2-grams and 3-grams\n",
    "def load_ngrams(in_file):\n",
    "    input_f = io.open(in_file, \"r\", encoding='utf8')\n",
    "    n_dict = {}\n",
    "    for line in input_f:\n",
    "        line = line.replace('\\n', '').split('\\t')\n",
    "        n_dict[tuple(line[0:])] = int(line[0])\n",
    "    input_f.close()\n",
    "    return n_dict"
   ]
  },
  {
   "cell_type": "code",
   "execution_count": 143,
   "metadata": {
    "collapsed": true
   },
   "outputs": [],
   "source": [
    "# split corpus on words\n",
    "def tokenize(corpus):\n",
    "    news_list = corpus\n",
    "    words = []\n",
    "    for text in news_list:\n",
    "        text_str = ''.join(text)\n",
    "        line = nltk.word_tokenize(text_str)\n",
    "        line = [word.encode(\"utf-8\").decode(\"utf-8\").lower() for word in line if word not in string.punctuation\n",
    "                        and word not in [u'\\u2012', u'\\u2013', u'\\u2014', u'\\u2015', u'``', u\"''\"]]\n",
    "        words += line\n",
    "    return words"
   ]
  },
  {
   "cell_type": "code",
   "execution_count": 151,
   "metadata": {
    "collapsed": false
   },
   "outputs": [],
   "source": [
    "def compute_perplexity(category, n3_gram, n2_gram):\n",
    "    sum_probability = 0\n",
    "    unknown_words = 0\n",
    "    min_probability = 1\n",
    "    sum_log = 0\n",
    "    \n",
    "    current_probability= {}\n",
    "    \n",
    "    for i in range(2, len(category)):\n",
    "        try:\n",
    "            current_probability[i] = (n3_gram[(category[i-2], category[i-1], category[i])] + 0.0) \n",
    "            / n2_gram[(category[i-2],category[i-1])]\n",
    "            sum_probability += current_probability\n",
    "            if current_probability[i] < min_probability:\n",
    "                min_probability = current_probability[i]\n",
    "        except KeyError:\n",
    "            unknown_words +=1\n",
    "    print (unknown_words, len(category), sum_probability)\n",
    "    known_words = len(category) - unknown_words\n",
    "    min_probability /= 10.0\n",
    "    probability_to_substract = (unknown_words * min_probability + 0.0) / known_words\n",
    "    for i in range(2, len(category)):\n",
    "        try:\n",
    "            sum_log += math.log(current_probability[i] - probability_to_substract, 2)\n",
    "        except KeyError:\n",
    "            sum_log += math.log(min_probability, 2)\n",
    "\n",
    "    return sum_log"
   ]
  },
  {
   "cell_type": "code",
   "execution_count": 152,
   "metadata": {
    "collapsed": false
   },
   "outputs": [
    {
     "name": "stdout",
     "output_type": "stream",
     "text": [
      "6750525\n"
     ]
    }
   ],
   "source": [
    "n2_gram = load_ngrams(\"2grams-3/2grams-3.txt\")\n",
    "print len(n2_gram.keys())"
   ]
  },
  {
   "cell_type": "code",
   "execution_count": 68,
   "metadata": {
    "collapsed": false
   },
   "outputs": [
    {
     "name": "stdout",
     "output_type": "stream",
     "text": [
      "4655170\n"
     ]
    }
   ],
   "source": [
    "n3_gram = load_ngrams(\"3grams-3/3grams-3.txt\")\n",
    "print len(n3_gram.keys())"
   ]
  },
  {
   "cell_type": "code",
   "execution_count": 157,
   "metadata": {
    "collapsed": true
   },
   "outputs": [],
   "source": [
    "autonews = parse_autonews(20)"
   ]
  },
  {
   "cell_type": "code",
   "execution_count": 161,
   "metadata": {
    "collapsed": false
   },
   "outputs": [],
   "source": [
    "science = parse_science(20)"
   ]
  },
  {
   "cell_type": "code",
   "execution_count": 162,
   "metadata": {
    "collapsed": false
   },
   "outputs": [],
   "source": [
    "auto =  tokenize(autonews)\n",
    "scn = tokenize(science)"
   ]
  },
  {
   "cell_type": "code",
   "execution_count": 163,
   "metadata": {
    "collapsed": false
   },
   "outputs": [
    {
     "name": "stdout",
     "output_type": "stream",
     "text": [
      "(5096, 5098, 0)\n",
      "('Perplexity for autonews = ', 6.123155440306526)\n"
     ]
    }
   ],
   "source": [
    "auto_perplexity = compute_perplexity(auto, n3_gram, n2_gram)\n",
    "print(\"Perplexity for autonews = \",2**(-sum_log_2 / len(auto)))"
   ]
  },
  {
   "cell_type": "code",
   "execution_count": 164,
   "metadata": {
    "collapsed": false
   },
   "outputs": [
    {
     "name": "stdout",
     "output_type": "stream",
     "text": [
      "(4761, 4763, 0)\n",
      "('Perplexity for science = ', 6.955466527532807)\n"
     ]
    }
   ],
   "source": [
    "scn_perplexity = compute_perplexity(scn, n3_gram, n2_gram)\n",
    "print(\"Perplexity for science = \",2**(-sum_log_2 / len(scn)))"
   ]
  },
  {
   "cell_type": "markdown",
   "metadata": {},
   "source": [
    "Perplexity for autonews is less then perplexity for science. It means that autonews corpus adapted better then science corpus for current model."
   ]
  }
 ],
 "metadata": {
  "kernelspec": {
   "display_name": "Python 2",
   "language": "python",
   "name": "python2"
  },
  "language_info": {
   "codemirror_mode": {
    "name": "ipython",
    "version": 2
   },
   "file_extension": ".py",
   "mimetype": "text/x-python",
   "name": "python",
   "nbconvert_exporter": "python",
   "pygments_lexer": "ipython2",
   "version": "2.7.11"
  }
 },
 "nbformat": 4,
 "nbformat_minor": 0
}
