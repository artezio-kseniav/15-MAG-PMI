{
 "cells": [
  {
   "cell_type": "code",
   "execution_count": 6,
   "metadata": {
    "collapsed": true
   },
   "outputs": [],
   "source": [
    "import lxml.html as html\n",
    "import io\n",
    "import nltk as nl\n",
    "import string\n",
    "import math\n",
    "import newspaper\n",
    "from newspaper import Article"
   ]
  },
  {
   "cell_type": "code",
   "execution_count": 28,
   "metadata": {
    "collapsed": false
   },
   "outputs": [
    {
     "name": "stderr",
     "output_type": "stream",
     "text": [
      "CRITICAL:newspaper.network:[REQUEST FAILED] (<requests.packages.urllib3.connectionpool.HTTPConnectionPool object at 0x00000000FD3390B8>, 'Connection to fregat.com.ru timed out. (connect timeout=7)')\n"
     ]
    }
   ],
   "source": [
    "mk_paper = newspaper.build(u'http://www.mk.ru/')"
   ]
  },
  {
   "cell_type": "code",
   "execution_count": 3,
   "metadata": {
    "collapsed": false
   },
   "outputs": [
    {
     "name": "stderr",
     "output_type": "stream",
     "text": [
      "CRITICAL:newspaper.article:jpeg error with PIL, cannot concatenate 'str' and 'NoneType' objects\n"
     ]
    }
   ],
   "source": [
    "def get_corpus(category,num_texts):\n",
    "    num = 0\n",
    "    all_text = \"\"\n",
    "    for article in mk_paper.articles:\n",
    "        if num == num_texts:\n",
    "            break\n",
    "        if article.url.find(category) != -1:\n",
    "            tmp = Article(article.url)\n",
    "            tmp.download()\n",
    "            tmp.parse()\n",
    "            all_text += tmp.text + '\\n'\n",
    "            num += 1\n",
    "    return all_text\n",
    "def get_grams(file):\n",
    "    f = io.open(file, \"r\", encoding='utf8')\n",
    "    n_dict = {}\n",
    "    for line in f:\n",
    "        line = line.replace('\\n', '').split('\\t')\n",
    "        n_dict[tuple(line[0:])] = int(line[0])\n",
    "    f.close()\n",
    "    return n_dict\n",
    "\n",
    "def prepare(cat_text):\n",
    "    ftext = []\n",
    "    for fline in cat_text:\n",
    "        ftext = ftext + nl.word_tokenize(fline)\n",
    "        for item in ftext:\n",
    "            if item in string.punctuation:\n",
    "                ftext.remove(item)\n",
    "    return ftext\n",
    "\n",
    "def calc_perp(text, tgram, bgram):\n",
    "    sum_prob = 0\n",
    "    uwords = 0\n",
    "    curr_prob= {}\n",
    "    min_prob = 1\n",
    "    for i in range(2, len(text)):\n",
    "        try:\n",
    "            curr_prob[i] = (tgram[(text[i-2], text[i-1], text[i])] + 0.0) / bgram[(text[i-2],text[i-1])]\n",
    "            sum_prob += curr_prob\n",
    "            if curr_prob[i] < min_prob:\n",
    "                min_prob = curr_prob[i]\n",
    "        except KeyError:\n",
    "            uwords +=1\n",
    "    kwords = len(text) - uwords\n",
    "    min_prob /= 10.0\n",
    "    psub = (uwords * min_prob + 0.0) / kwords  \n",
    "    sum = 0\n",
    "    for i in range(2, len(text)):\n",
    "        try:\n",
    "            sum += math.log(curr_prob[i] - psub, 2)\n",
    "        except KeyError:\n",
    "            sum += math.log(min_prob, 2)\n",
    "\n",
    "    return 2**(-sum/len(text))\n",
    "\n",
    "sports =  get_corpus('www.mk.ru/sport',3)\n",
    "politics = get_corpus('www.mk.ru/politics',3)"
   ]
  },
  {
   "cell_type": "code",
   "execution_count": 9,
   "metadata": {
    "collapsed": false
   },
   "outputs": [],
   "source": [
    "b_grams = load_ngrams('2grams.txt')\n",
    "t_grams = load_ngrams('3grams.txt')"
   ]
  },
  {
   "cell_type": "code",
   "execution_count": 26,
   "metadata": {
    "collapsed": false
   },
   "outputs": [
    {
     "name": "stdout",
     "output_type": "stream",
     "text": [
      "Sports perplexity   =  9.95918502855\n",
      "Politics perplexity =  9.96275050375\n"
     ]
    }
   ],
   "source": [
    "print \"Sports perplexity   = \",calc_perp(prepare(sports), b_grams, t_grams)\n",
    "print \"Politics perplexity = \",calc_perp(prepare(politics), b_grams, t_grams)"
   ]
  }
 ],
 "metadata": {
  "kernelspec": {
   "display_name": "Python 2",
   "language": "python",
   "name": "python2"
  },
  "language_info": {
   "codemirror_mode": {
    "name": "ipython",
    "version": 2
   },
   "file_extension": ".py",
   "mimetype": "text/x-python",
   "name": "python",
   "nbconvert_exporter": "python",
   "pygments_lexer": "ipython2",
   "version": "2.7.11"
  }
 },
 "nbformat": 4,
 "nbformat_minor": 0
}
