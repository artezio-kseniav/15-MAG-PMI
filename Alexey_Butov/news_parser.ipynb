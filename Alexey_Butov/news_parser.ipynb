import lxml.html as html
import re
from selenium import webdriver
import time
from collections import defaultdict

news_url = 'http://www.telegraph.co.uk/news/'
news_topics = ['politics', 'uk', 'world', 'science', 'entertainment']

chrome_driver = webdriver.Chrome("./chromedriver.exe")

news_corpus = defaultdict(list) #������� ��������, ��������� �� ��������

for news_topic in news_topics:
    topic_page = news_url + news_topic + '/' #�������� ������ �� ������ � ���������
    
    #��������� � webdriver
    chrome_driver.get(topic_page) 
    
    #������� ������ `Load More` ��� �������� �������� ������ ��������
    for iteration in range(0, 30): 
        #������
        print("Clicks: %d out of %d " % (iteration, 30), end = '\r' ) 
        
        time.sleep(5) #���� ����� �� �������� ��������
        elems = chrome_driver.find_elements_by_xpath('//a[@class="load-more__button js-load-more__button"]') #���� ������
        if len(elems) != 0: #��������� ������, ����� ������� ������ ���
            elems[0].click() #Load More
        else:
            break #��������������, ���� ������ ���, ������ ������ ��������
        time.sleep(5)
    
    #����� ��� ������ �� ������� �� �������� ����� ������� ������ Load More
    found_urls = chrome_driver.find_elements_by_xpath('//div[@class="list-of-entities__item-link"]/a')
    news_urls = [] #������ ������
    for url in found_urls:
        href = url.get_attribute('href')
        news_urls.append(href)
    
    #������� ������ ������� � ��������� � ������ ���������� ��������
    count = 0
    news_count = len(news_urls)
    for news_page in news_urls:
        #� ������� lxml ������ �������� � ��������
        news_html = html.parse(news_page) 
        
        #������ ���� ����� �������� �������� ������ ����� �������, ������ �� ��� ���������� ������������ � ������� �������
        letters = news_html.getroot().xpath('//span[@class="m_first-letter"]') 
        news_first_letter = ''
        if len(letters) != 0: #��������� ������, ����� ������ ��������� �� ����
            news_first_letter = ''.join(letters[0].itertext()) #����� ������ ����� �� ���������
        
        #�������� ��������� �������
        header = news_html.getroot().xpath('//h1[@itemprop="headline name"]/text()')
        #������� �� ��������� ������ '\n'
        news_header = re.sub('\n', '', ''.join(header))
        
        #�������� ����� �������
        text = news_html.getroot().xpath('//div[@class="component-content"]/p/text()')
        text = ''.join(text)
        news_text = text
        
        #������� � Telegraph Media Group Limited 2016, ���� ��������� ������ � ������� �������
        index = text.find('�') 
        if index != -1:
            news_text = text[0:text.index('�')]
            
        #���������� ������ ����� �������
        news = news_header +'\n' + news_first_letter + ''.join(news_text)
        
        #��������� � ������
        news_corpus[news_topic].append(news)
        
        #������
        count+=1
        print("Topic: %s, Parsing progress: %d out of %d " % (news_topic, count, news_count), end = '\r' )
		
		chrome_driver.close()
		
		# ������ �������
news_corpus_size = 0
for news_topic in news_topics:
    print(news_topic, ": ", len(news_corpus[news_topic]))
    news_corpus_size += len(news_corpus[news_topic])
print("News Corpus Size : ", news_corpus_size)

# ������ � ����
with open('./news.txt', 'w', encoding='utf-8') as f:
        for news_topic in news_topics:
            f.write(news_topic + '\n')
            for news in news_corpus[news_topic]:
                f.write(str(news) + '\n')