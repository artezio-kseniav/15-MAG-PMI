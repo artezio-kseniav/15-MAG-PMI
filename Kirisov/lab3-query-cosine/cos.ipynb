{
 "cells": [
  {
   "cell_type": "code",
   "execution_count": 1,
   "metadata": {
    "collapsed": false
   },
   "outputs": [],
   "source": [
    "import string\n",
    "import numpy as np\n",
    "import nltk\n",
    "from sklearn.datasets import fetch_20newsgroups\n",
    "from sklearn.feature_extraction.text import TfidfVectorizer\n",
    "from nltk.stem.porter import PorterStemmer\n",
    "from sklearn.metrics.pairwise import cosine_similarity"
   ]
  },
  {
   "cell_type": "code",
   "execution_count": 2,
   "metadata": {
    "collapsed": false
   },
   "outputs": [],
   "source": [
    "news = fetch_20newsgroups(\n",
    "    categories=['sci.space', 'talk.politics.guns', 'comp.graphics', 'comp.sys.ibm.pc.hardware'],\n",
    "    subset='all',\n",
    "    shuffle=True)"
   ]
  },
  {
   "cell_type": "code",
   "execution_count": 3,
   "metadata": {
    "collapsed": false
   },
   "outputs": [
    {
     "name": "stdout",
     "output_type": "stream",
     "text": [
      "documents : 3852\n",
      "categories: 4\n",
      "['comp.graphics', 'comp.sys.ibm.pc.hardware', 'sci.space', 'talk.politics.guns']\n"
     ]
    }
   ],
   "source": [
    "print 'documents :', len(news.data)\n",
    "print 'categories:', len(news.target_names)\n",
    "print news.target_names"
   ]
  },
  {
   "cell_type": "code",
   "execution_count": 4,
   "metadata": {
    "collapsed": true
   },
   "outputs": [],
   "source": [
    "stemmer = nltk.stem.porter.PorterStemmer()\n",
    "\n",
    "def stem_tokens(tokens, stemmer):\n",
    "    stemmed = []\n",
    "    for item in tokens:\n",
    "        stemmed.append(stemmer.stem(item))\n",
    "    return stemmed\n",
    "\n",
    "def tokenize(text):\n",
    "    tokens = nltk.word_tokenize(text)\n",
    "    tokens = [i for i in tokens if i not in string.punctuation]\n",
    "    stems = stem_tokens(tokens, stemmer)\n",
    "    return stems"
   ]
  },
  {
   "cell_type": "code",
   "execution_count": 5,
   "metadata": {
    "collapsed": false
   },
   "outputs": [],
   "source": [
    "vectorizer = TfidfVectorizer(stop_words='english', tokenizer=tokenize)\n",
    "news_tfidf = vectorizer.fit_transform(news.data)"
   ]
  },
  {
   "cell_type": "code",
   "execution_count": 6,
   "metadata": {
    "collapsed": false
   },
   "outputs": [],
   "source": [
    "def query(subj, limit=5, head_only=True):\n",
    "    subj_tfidf = vectorizer.transform([subj])\n",
    "    similarities = []\n",
    "    for i in xrange(news_tfidf.shape[0]):\n",
    "        similarities.append((news.data[i], cosine_similarity(news_tfidf[i], subj_tfidf)))\n",
    "    similarities = sorted(similarities, key=lambda x:x[1], reverse=True)[:limit]\n",
    "    \n",
    "    for x in similarities:\n",
    "        if head_only:\n",
    "            print x[1][0][0], x[0].split('\\n')[1].replace('Subject', '')\n",
    "        else:\n",
    "            print '%s\\n%s\\n\\n%s' % ('-' * 80, x[1][0][0], x[0])\n",
    "        \n",
    "    return similarities"
   ]
  },
  {
   "cell_type": "code",
   "execution_count": 7,
   "metadata": {
    "collapsed": false
   },
   "outputs": [
    {
     "name": "stdout",
     "output_type": "stream",
     "text": [
      "0.267053115783 : Mothership for Flybys and cutting costs..\n",
      "0.241652209146 : End of the Space Age\n",
      "0.234101686336 : Space FAQ 13/15 - Interest Groups & Publications\n",
      "0.21255184885 : Re: Over zealous shuttle critics\n",
      "0.20899761061 : Re: Why we like DC-X (was Re: Shuttle 0-Defects & Bizarre? DC-X?)\n"
     ]
    }
   ],
   "source": [
    "query('space ship')\n",
    "pass"
   ]
  },
  {
   "cell_type": "code",
   "execution_count": 8,
   "metadata": {
    "collapsed": false
   },
   "outputs": [
    {
     "name": "stdout",
     "output_type": "stream",
     "text": [
      "0.390783875374 : Need Info on high quality video card\n",
      "0.365647315047 : Which Video Card? (Please HELP)\n",
      "0.352877034236 : Comments on an accelerated Video Card for ISA bus\n",
      "0.319370283053 : Tseng Labs Video Card Problem\n",
      "0.271432312829 : Re: Which high-performance VLB video card?\n",
      "0.268664326459 : S3 video card at different address\n",
      "0.254225285728 : L.B. vs VESA L.B. and ....\n",
      "0.249478704132 : HELP: advice on what video system to buy\n",
      "0.238845277788 : Winjet accelerator card\n",
      "0.223342239226 : NTSC data to RGB ?  For Video Capture.\n"
     ]
    }
   ],
   "source": [
    "query('buy video card', limit=10)\n",
    "pass"
   ]
  },
  {
   "cell_type": "code",
   "execution_count": 9,
   "metadata": {
    "collapsed": false
   },
   "outputs": [
    {
     "name": "stdout",
     "output_type": "stream",
     "text": [
      "--------------------------------------------------------------------------------\n",
      "0.390783875374\n",
      "\n",
      "From: gtj@goanna.cs.rmit.oz.au (Glenn T Jayaputera)\n",
      "Subject: Need Info on high quality video card\n",
      "Organization: RMIT Department of Computer Science\n",
      "Lines: 10\n",
      "\n",
      "Hi...I need some info on video card.  I am looking a video card that can\n",
      "deliver a high quality picture.  I need the card to display images (well\n",
      "for advertising company btw), so it must be rich with colors and the speed\n",
      "must be fast too.\n",
      "\n",
      "I am just wondering if somebody can advise me what to buy for such\n",
      "application, and possible the address of the vendor.\n",
      "\n",
      "thanks in advance\n",
      "Glenn Jayaputera\n",
      "\n",
      "--------------------------------------------------------------------------------\n",
      "0.365647315047\n",
      "\n",
      "From: tp892275@vine.canberra.edu.au (C. Mierzanowski)\n",
      "Subject: Which Video Card? (Please HELP)\n",
      "Organization: Info Sci & Eng, University of Canberra, AUSTRALIA\n",
      "Lines: 13\n",
      "\n",
      "\n",
      "I've got a 386 20Hz computer which is under warranty and my Trident\n",
      "8900C video card is starting to play-up (surprise, surprise). Therefore\n",
      "I'm going to try to exchange it for a better card.\n",
      "\n",
      "The BIG Question is:\n",
      "\n",
      "Which video card is high quality and with an\n",
      "acceptable price tag (on student budget) ???\n",
      "\n",
      "\tThank you in advance.\n",
      "\n",
      "\n",
      "\n"
     ]
    },
    {
     "data": {
      "text/plain": [
       "[(u'From: gtj@goanna.cs.rmit.oz.au (Glenn T Jayaputera)\\nSubject: Need Info on high quality video card\\nOrganization: RMIT Department of Computer Science\\nLines: 10\\n\\nHi...I need some info on video card.  I am looking a video card that can\\ndeliver a high quality picture.  I need the card to display images (well\\nfor advertising company btw), so it must be rich with colors and the speed\\nmust be fast too.\\n\\nI am just wondering if somebody can advise me what to buy for such\\napplication, and possible the address of the vendor.\\n\\nthanks in advance\\nGlenn Jayaputera\\n',\n",
       "  array([[ 0.39078388]])),\n",
       " (u\"From: tp892275@vine.canberra.edu.au (C. Mierzanowski)\\nSubject: Which Video Card? (Please HELP)\\nOrganization: Info Sci & Eng, University of Canberra, AUSTRALIA\\nLines: 13\\n\\n\\nI've got a 386 20Hz computer which is under warranty and my Trident\\n8900C video card is starting to play-up (surprise, surprise). Therefore\\nI'm going to try to exchange it for a better card.\\n\\nThe BIG Question is:\\n\\nWhich video card is high quality and with an\\nacceptable price tag (on student budget) ???\\n\\n\\tThank you in advance.\\n\\n\\n\",\n",
       "  array([[ 0.36564732]]))]"
      ]
     },
     "execution_count": 9,
     "metadata": {},
     "output_type": "execute_result"
    }
   ],
   "source": [
    "query('buy video card', limit=2, head_only=False)"
   ]
  }
 ],
 "metadata": {
  "kernelspec": {
   "display_name": "Python 2",
   "language": "python",
   "name": "python2"
  },
  "language_info": {
   "codemirror_mode": {
    "name": "ipython",
    "version": 2
   },
   "file_extension": ".py",
   "mimetype": "text/x-python",
   "name": "python",
   "nbconvert_exporter": "python",
   "pygments_lexer": "ipython2",
   "version": "2.7.11"
  }
 },
 "nbformat": 4,
 "nbformat_minor": 0
}
