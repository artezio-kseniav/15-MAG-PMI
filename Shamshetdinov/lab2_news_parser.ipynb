{
 "cells": [
  {
   "cell_type": "code",
   "execution_count": 2,
   "metadata": {
    "collapsed": false
   },
   "outputs": [],
   "source": [
    "import lxml.html as html\n",
    "import re\n",
    "from selenium import webdriver\n",
    "import time\n",
    "from collections import defaultdict"
   ]
  },
  {
   "cell_type": "markdown",
   "metadata": {},
   "source": [
    "## News site links and topics"
   ]
  },
  {
   "cell_type": "code",
   "execution_count": 3,
   "metadata": {
    "collapsed": true
   },
   "outputs": [],
   "source": [
    "news_url = 'http://www.telegraph.co.uk/news/'\n",
    "news_topics = ['politics', 'uk', 'world', 'science', 'entertainment']"
   ]
  },
  {
   "cell_type": "markdown",
   "metadata": {},
   "source": [
    "## Webdriver"
   ]
  },
  {
   "cell_type": "markdown",
   "metadata": {},
   "source": [
    "- Используется для нажатия кнопки Load More\n",
    "- Необходим chromedriver.exe, скачать можно тут (https://sites.google.com/a/chromium.org/chromedriver/downloads)"
   ]
  },
  {
   "cell_type": "code",
   "execution_count": 4,
   "metadata": {
    "collapsed": false
   },
   "outputs": [],
   "source": [
    "chrome_driver = webdriver.Chrome(\"./chromedriver.exe\")"
   ]
  },
  {
   "cell_type": "markdown",
   "metadata": {},
   "source": [
    "## Parsing"
   ]
  },
  {
   "cell_type": "code",
   "execution_count": 5,
   "metadata": {
    "collapsed": true
   },
   "outputs": [],
   "source": [
    "news_corpus = defaultdict(list) #словарь новостей, собранных по разделам"
   ]
  },
  {
   "cell_type": "code",
   "execution_count": 6,
   "metadata": {
    "collapsed": false
   },
   "outputs": [
    {
     "name": "stdout",
     "output_type": "stream",
     "text": []
    }
   ],
   "source": [
    "for news_topic in news_topics:\n",
    "    topic_page = news_url + news_topic + '/' #получаем ссылку на раздел с новостями\n",
    "    \n",
    "    #открываем в webdriver\n",
    "    chrome_driver.get(topic_page) \n",
    "    \n",
    "    #кликаем кнопку `Load More` для загрузки большего списка новостей\n",
    "    for iteration in range(0, 30): \n",
    "        #статус\n",
    "        print(\"Clicks: %d out of %d \" % (iteration, 30), end = '\\r' ) \n",
    "        \n",
    "        time.sleep(5) #даем время на открытие страницы\n",
    "        elems = chrome_driver.find_elements_by_xpath('//a[@class=\"load-more__button js-load-more__button\"]') #ищем кнопку\n",
    "        if len(elems) != 0: #обработка случая, когда искомой кнопки нет\n",
    "            elems[0].click() #Load More\n",
    "        else:\n",
    "            break #соответственно, если кнопки нет, полный список загружен\n",
    "        time.sleep(5)\n",
    "    \n",
    "    #берем все ссылки на новости со страницы после нажатий кнопки Load More\n",
    "    found_urls = chrome_driver.find_elements_by_xpath('//div[@class=\"list-of-entities__item-link\"]/a')\n",
    "    news_urls = [] #список ссылок\n",
    "    for url in found_urls:\n",
    "        href = url.get_attribute('href')\n",
    "        news_urls.append(href)\n",
    "    \n",
    "    #парсинг текста новости и заголовка с каждой полученной страницы\n",
    "    count = 0\n",
    "    news_count = len(news_urls)\n",
    "    for news_page in news_urls:\n",
    "        #с помощью lxml парсим страницу с новостью\n",
    "        news_html = html.parse(news_page) \n",
    "        \n",
    "        #данный сайт часто отдельно выделяет первую букву новости, парсим ее для дальнейшей конкатенации с текстом новости\n",
    "        letters = news_html.getroot().xpath('//span[@class=\"m_first-letter\"]') \n",
    "        news_first_letter = ''\n",
    "        if len(letters) != 0: #обработка случая, когда такого выделения не было\n",
    "            news_first_letter = ''.join(letters[0].itertext()) #берем первую букву из найденных\n",
    "        \n",
    "        #получаем заголовок новости\n",
    "        header = news_html.getroot().xpath('//h1[@itemprop=\"headline name\"]/text()')\n",
    "        #убираем из заголовка лишние '\\n'\n",
    "        news_header = re.sub('\\n', '', ''.join(header))\n",
    "        \n",
    "        #получаем текст новости\n",
    "        text = news_html.getroot().xpath('//div[@class=\"component-content\"]/p/text()')\n",
    "        text = ''.join(text)\n",
    "        news_text = text\n",
    "        \n",
    "        #убираем © Telegraph Media Group Limited 2016, если спарсился вместе с текстом новости\n",
    "        index = text.find('©') \n",
    "        if index != -1:\n",
    "            news_text = text[0:text.index('©')]\n",
    "            \n",
    "        #составляем полный текст новости\n",
    "        news = news_header +'\\n' + news_first_letter + ''.join(news_text)\n",
    "        \n",
    "        #добавляем в корпус\n",
    "        news_corpus[news_topic].append(news)\n",
    "        \n",
    "        #статус\n",
    "        count+=1\n",
    "        print(\"Topic: %s, Parsing progress: %d out of %d \" % (news_topic, count, news_count), end = '\\r' )    "
   ]
  },
  {
   "cell_type": "code",
   "execution_count": 7,
   "metadata": {
    "collapsed": true
   },
   "outputs": [],
   "source": [
    "chrome_driver.close()"
   ]
  },
  {
   "cell_type": "code",
   "execution_count": 14,
   "metadata": {
    "collapsed": false
   },
   "outputs": [
    {
     "name": "stdout",
     "output_type": "stream",
     "text": [
      "politics :  636\n",
      "uk :  634\n",
      "world :  634\n",
      "science :  48\n",
      "entertainment :  473\n",
      "News Corpus Size :  2425\n"
     ]
    }
   ],
   "source": [
    "# Размер корпуса\n",
    "news_corpus_size = 0\n",
    "for news_topic in news_topics:\n",
    "    print(news_topic, \": \", len(news_corpus[news_topic]))\n",
    "    news_corpus_size += len(news_corpus[news_topic])\n",
    "print(\"News Corpus Size : \", news_corpus_size)"
   ]
  },
  {
   "cell_type": "code",
   "execution_count": 11,
   "metadata": {
    "collapsed": false
   },
   "outputs": [],
   "source": [
    "# Запись в файл\n",
    "with open('./news.txt', 'w', encoding='utf-8') as f:\n",
    "        for news_topic in news_topics:\n",
    "            f.write(news_topic + '\\n')\n",
    "            for news in news_corpus[news_topic]:\n",
    "                f.write(str(news) + '\\n')"
   ]
  }
 ],
 "metadata": {
  "kernelspec": {
   "display_name": "Python 3",
   "language": "python",
   "name": "python3"
  },
  "language_info": {
   "codemirror_mode": {
    "name": "ipython",
    "version": 3
   },
   "file_extension": ".py",
   "mimetype": "text/x-python",
   "name": "python",
   "nbconvert_exporter": "python",
   "pygments_lexer": "ipython3",
   "version": "3.5.1"
  }
 },
 "nbformat": 4,
 "nbformat_minor": 0
}
