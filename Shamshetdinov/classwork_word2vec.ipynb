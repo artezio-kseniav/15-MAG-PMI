{
 "cells": [
  {
   "cell_type": "markdown",
   "metadata": {},
   "source": [
    "# Class work. Word2Vec"
   ]
  },
  {
   "cell_type": "code",
   "execution_count": 1,
   "metadata": {
    "collapsed": false
   },
   "outputs": [],
   "source": [
    "from sklearn.datasets import fetch_20newsgroups\n",
    "import numpy as np\n",
    "import nltk\n",
    "from pprint import pprint\n",
    "from collections import defaultdict\n",
    "import string\n",
    "import gensim"
   ]
  },
  {
   "cell_type": "markdown",
   "metadata": {},
   "source": [
    "## 20newsgroups dataset"
   ]
  },
  {
   "cell_type": "code",
   "execution_count": 2,
   "metadata": {
    "collapsed": true
   },
   "outputs": [],
   "source": [
    "newsgroups = fetch_20newsgroups(categories=['comp.graphics',\n",
    "                                            'comp.os.ms-windows.misc',\n",
    "                                            'comp.sys.ibm.pc.hardware',\n",
    "                                            'comp.sys.mac.hardware',\n",
    "                                            'comp.windows.x',\n",
    "                                            'rec.autos',\n",
    "                                            'rec.motorcycles',\n",
    "                                            'rec.sport.baseball',\n",
    "                                            'rec.sport.hockey',\n",
    "                                            'sci.electronics',\n",
    "                                            'sci.space',],\n",
    "                                subset='all', shuffle=True, random_state=1)"
   ]
  },
  {
   "cell_type": "markdown",
   "metadata": {},
   "source": [
    "Список категорий новостей"
   ]
  },
  {
   "cell_type": "code",
   "execution_count": 3,
   "metadata": {
    "collapsed": false
   },
   "outputs": [
    {
     "name": "stdout",
     "output_type": "stream",
     "text": [
      "['comp.graphics',\n",
      " 'comp.os.ms-windows.misc',\n",
      " 'comp.sys.ibm.pc.hardware',\n",
      " 'comp.sys.mac.hardware',\n",
      " 'comp.windows.x',\n",
      " 'rec.autos',\n",
      " 'rec.motorcycles',\n",
      " 'rec.sport.baseball',\n",
      " 'rec.sport.hockey',\n",
      " 'sci.electronics',\n",
      " 'sci.space']\n"
     ]
    }
   ],
   "source": [
    "pprint(list(newsgroups.target_names))"
   ]
  },
  {
   "cell_type": "markdown",
   "metadata": {},
   "source": [
    "Размерность корпуса"
   ]
  },
  {
   "cell_type": "code",
   "execution_count": 4,
   "metadata": {
    "collapsed": false
   },
   "outputs": [
    {
     "name": "stdout",
     "output_type": "stream",
     "text": [
      "10841 documents\n",
      "11 categories\n"
     ]
    }
   ],
   "source": [
    "print(\"%d documents\" % len(newsgroups.data))\n",
    "print(\"%d categories\" % len(newsgroups.target_names))"
   ]
  },
  {
   "cell_type": "markdown",
   "metadata": {},
   "source": [
    "## Tokenization"
   ]
  },
  {
   "cell_type": "markdown",
   "metadata": {},
   "source": [
    "Токенизируем все тексты и записываем токены в отдельный лист"
   ]
  },
  {
   "cell_type": "code",
   "execution_count": 5,
   "metadata": {
    "collapsed": true
   },
   "outputs": [],
   "source": [
    "newsgroups_tokenized = [nltk.word_tokenize(text) for text in newsgroups.data]"
   ]
  },
  {
   "cell_type": "code",
   "execution_count": 6,
   "metadata": {
    "collapsed": true
   },
   "outputs": [],
   "source": [
    "news_corpus = []\n",
    "for text in newsgroups_tokenized:\n",
    "    lemms = []\n",
    "    for word in text:\n",
    "        if word not in string.punctuation:\n",
    "            lemms.append(word.lower())\n",
    "    news_corpus.append(lemms)"
   ]
  },
  {
   "cell_type": "markdown",
   "metadata": {},
   "source": [
    "## Word2Vec"
   ]
  },
  {
   "cell_type": "markdown",
   "metadata": {},
   "source": [
    "Обучаем модель Word2Vec"
   ]
  },
  {
   "cell_type": "code",
   "execution_count": 7,
   "metadata": {
    "collapsed": true
   },
   "outputs": [],
   "source": [
    "news_model = gensim.models.Word2Vec(news_corpus)"
   ]
  },
  {
   "cell_type": "code",
   "execution_count": 8,
   "metadata": {
    "collapsed": false
   },
   "outputs": [
    {
     "name": "stdout",
     "output_type": "stream",
     "text": [
      "[ 0.86284512  1.32959127 -0.63757163 -0.67391026  0.44544992  0.37657425\n",
      " -1.08244789  0.81196666 -1.28120613  0.53626126  0.47280663 -1.24560785\n",
      " -1.88047421  0.24283862  3.00426722  2.74162865  0.22118583  0.40537328\n",
      " -0.88165981 -1.51376581 -0.04827534  2.13019633 -0.25792608 -0.49964216\n",
      "  0.99564785 -1.57279515  0.36676514 -0.38762116  0.71266955 -0.40570667\n",
      " -0.81460887  1.1182065   1.82321894 -1.97550213  2.33990288 -0.76092732\n",
      "  1.19684482  0.22485575  0.81241393 -0.15121605 -1.31710064  1.74657273\n",
      " -0.08110818 -0.80954444  0.85473961 -1.37125468  0.12182475  0.59764308\n",
      " -1.84924841 -0.48604196 -0.19844404  1.12498403 -1.57744265  0.62643737\n",
      " -0.03319849 -1.65937066  0.55175132  0.59766781  0.85889471 -0.73636234\n",
      " -0.87767369 -0.18539508  1.9442811   0.98732394  2.80523229  0.17642368\n",
      "  2.92957211 -1.32652199 -1.54979289 -0.25753602  1.80320477 -1.03620493\n",
      "  0.62810361  0.90728986 -0.3382017   0.40551695 -0.8048231   1.85658944\n",
      " -0.66298455  1.31292534 -0.21618854 -0.83572096  1.50353241 -1.34651387\n",
      " -1.37717164  1.39953947  0.20500688  0.20629138  1.46107233 -0.75215513\n",
      "  0.5698638   0.57087803 -2.4105804  -0.589145    0.62613124 -2.16418076\n",
      " -0.0882493   1.24248016  0.23649693  0.45371076] \n",
      "\n",
      "Vector dimension:  100\n"
     ]
    }
   ],
   "source": [
    "print(news_model['car'], '\\n')\n",
    "print('Vector dimension: ', len(news_model['car']))"
   ]
  },
  {
   "cell_type": "markdown",
   "metadata": {},
   "source": [
    "## Word Similarity"
   ]
  },
  {
   "cell_type": "markdown",
   "metadata": {},
   "source": [
    "Выведем схожесть некоторых слов"
   ]
  },
  {
   "cell_type": "code",
   "execution_count": 9,
   "metadata": {
    "collapsed": false
   },
   "outputs": [
    {
     "data": {
      "text/plain": [
       "0.62839250880873687"
      ]
     },
     "execution_count": 9,
     "metadata": {},
     "output_type": "execute_result"
    }
   ],
   "source": [
    "news_model.similarity('windows', 'mac')"
   ]
  },
  {
   "cell_type": "code",
   "execution_count": 10,
   "metadata": {
    "collapsed": false
   },
   "outputs": [
    {
     "data": {
      "text/plain": [
       "0.72648798763671996"
      ]
     },
     "execution_count": 10,
     "metadata": {},
     "output_type": "execute_result"
    }
   ],
   "source": [
    "news_model.similarity('car', 'motorcycle')"
   ]
  },
  {
   "cell_type": "code",
   "execution_count": 11,
   "metadata": {
    "collapsed": false
   },
   "outputs": [
    {
     "data": {
      "text/plain": [
       "0.83891897321527664"
      ]
     },
     "execution_count": 11,
     "metadata": {},
     "output_type": "execute_result"
    }
   ],
   "source": [
    "news_model.similarity('baseball', 'hockey')"
   ]
  },
  {
   "cell_type": "code",
   "execution_count": 12,
   "metadata": {
    "collapsed": false
   },
   "outputs": [
    {
     "data": {
      "text/plain": [
       "0.91104751000107964"
      ]
     },
     "execution_count": 12,
     "metadata": {},
     "output_type": "execute_result"
    }
   ],
   "source": [
    "news_model.similarity('ball', 'puck')"
   ]
  },
  {
   "cell_type": "markdown",
   "metadata": {},
   "source": [
    "## Лишнее слово"
   ]
  },
  {
   "cell_type": "code",
   "execution_count": 13,
   "metadata": {
    "collapsed": false
   },
   "outputs": [
    {
     "data": {
      "text/plain": [
       "'bicycle'"
      ]
     },
     "execution_count": 13,
     "metadata": {},
     "output_type": "execute_result"
    }
   ],
   "source": [
    "news_model.doesnt_match(['car', 'motorcycle', 'bicycle'])"
   ]
  },
  {
   "cell_type": "code",
   "execution_count": 14,
   "metadata": {
    "collapsed": false
   },
   "outputs": [
    {
     "data": {
      "text/plain": [
       "'telephone'"
      ]
     },
     "execution_count": 14,
     "metadata": {},
     "output_type": "execute_result"
    }
   ],
   "source": [
    "news_model.doesnt_match(['baseball', 'hockey', 'telephone', 'basketball', 'athletics'])"
   ]
  },
  {
   "cell_type": "code",
   "execution_count": 15,
   "metadata": {
    "collapsed": false
   },
   "outputs": [
    {
     "data": {
      "text/plain": [
       "'sun'"
      ]
     },
     "execution_count": 15,
     "metadata": {},
     "output_type": "execute_result"
    }
   ],
   "source": [
    "news_model.doesnt_match(['earth', 'jupyter', 'mars', 'sun'])"
   ]
  },
  {
   "cell_type": "markdown",
   "metadata": {},
   "source": [
    "Word2Vec довольно хорошо справляется с определением лишнего слова"
   ]
  },
  {
   "cell_type": "markdown",
   "metadata": {},
   "source": [
    "## Word operations"
   ]
  },
  {
   "cell_type": "code",
   "execution_count": 16,
   "metadata": {
    "collapsed": false
   },
   "outputs": [
    {
     "data": {
      "text/plain": [
       "[('genius', 0.808940052986145),\n",
       " ('blood', 0.8032683730125427),\n",
       " ('bandit', 0.7956812977790833),\n",
       " ('dude', 0.7886248230934143),\n",
       " ('denizen', 0.7863993644714355),\n",
       " ('daughter', 0.7792149782180786),\n",
       " ('panther', 0.7787203788757324),\n",
       " ('blinn', 0.7695774435997009),\n",
       " ('batter-runner', 0.7688409090042114),\n",
       " ('slam', 0.7682461142539978)]"
      ]
     },
     "execution_count": 16,
     "metadata": {},
     "output_type": "execute_result"
    }
   ],
   "source": [
    "news_model.most_similar(positive=['man', 'crown'])"
   ]
  },
  {
   "cell_type": "code",
   "execution_count": 17,
   "metadata": {
    "collapsed": false
   },
   "outputs": [
    {
     "data": {
      "text/plain": [
       "[('lunar', 0.9134441018104553),\n",
       " ('missions', 0.8533686399459839),\n",
       " ('orbit', 0.8526050448417664),\n",
       " ('jupiter', 0.8491303324699402),\n",
       " ('launch', 0.830557644367218),\n",
       " ('manned', 0.8266162872314453),\n",
       " ('mission', 0.8213434815406799),\n",
       " ('satellite', 0.8193739652633667),\n",
       " ('comet', 0.8170713782310486),\n",
       " ('venus', 0.7983837127685547)]"
      ]
     },
     "execution_count": 17,
     "metadata": {},
     "output_type": "execute_result"
    }
   ],
   "source": [
    "news_model.most_similar(positive=['earth', 'pluto', 'mars'], negative = ['planet'])"
   ]
  },
  {
   "cell_type": "code",
   "execution_count": 20,
   "metadata": {
    "collapsed": false
   },
   "outputs": [
    {
     "data": {
      "text/plain": [
       "[('warm', 0.854910135269165),\n",
       " ('rubber', 0.844850480556488),\n",
       " ('tire', 0.8221921920776367),\n",
       " ('pedal', 0.8221838474273682),\n",
       " ('arms', 0.809646487236023),\n",
       " ('brakes', 0.8081234693527222),\n",
       " ('wheel', 0.8060007095336914),\n",
       " ('panic', 0.8052929639816284),\n",
       " ('bicycle', 0.8042505979537964),\n",
       " ('train', 0.803473174571991)]"
      ]
     },
     "execution_count": 20,
     "metadata": {},
     "output_type": "execute_result"
    }
   ],
   "source": [
    "news_model.most_similar(positive=['seat', 'wheels', 'steer'])"
   ]
  },
  {
   "cell_type": "code",
   "execution_count": null,
   "metadata": {
    "collapsed": true
   },
   "outputs": [],
   "source": []
  }
 ],
 "metadata": {
  "kernelspec": {
   "display_name": "Python 3",
   "language": "python",
   "name": "python3"
  },
  "language_info": {
   "codemirror_mode": {
    "name": "ipython",
    "version": 3
   },
   "file_extension": ".py",
   "mimetype": "text/x-python",
   "name": "python",
   "nbconvert_exporter": "python",
   "pygments_lexer": "ipython3",
   "version": "3.5.1"
  }
 },
 "nbformat": 4,
 "nbformat_minor": 0
}
