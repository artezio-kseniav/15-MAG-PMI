{
 "cells": [
  {
   "cell_type": "code",
   "execution_count": 1,
   "metadata": {
    "collapsed": true
   },
   "outputs": [],
   "source": [
    "from sklearn.datasets import fetch_20newsgroups\n",
    "from pprint import pprint\n",
    "from sklearn.feature_extraction.text import TfidfVectorizer\n",
    "import numpy as np\n",
    "import nltk\n",
    "from collections import defaultdict\n",
    "import string\n",
    "from nltk.stem.porter import PorterStemmer"
   ]
  },
  {
   "cell_type": "markdown",
   "metadata": {},
   "source": [
    "## 20newsgroups dataset"
   ]
  },
  {
   "cell_type": "code",
   "execution_count": 2,
   "metadata": {
    "collapsed": true
   },
   "outputs": [],
   "source": [
    "newsgroups = fetch_20newsgroups(categories=['comp.graphics','comp.os.ms-windows.misc','rec.autos','rec.sport.hockey'],\n",
    "                                subset='all', shuffle=True, random_state=1)"
   ]
  },
  {
   "cell_type": "markdown",
   "metadata": {},
   "source": [
    "Список категорий новостей"
   ]
  },
  {
   "cell_type": "code",
   "execution_count": 3,
   "metadata": {
    "collapsed": false
   },
   "outputs": [
    {
     "name": "stdout",
     "output_type": "stream",
     "text": [
      "['comp.graphics', 'comp.os.ms-windows.misc', 'rec.autos', 'rec.sport.hockey']\n"
     ]
    }
   ],
   "source": [
    "pprint(list(newsgroups.target_names))"
   ]
  },
  {
   "cell_type": "markdown",
   "metadata": {},
   "source": [
    "Размерность корпуса"
   ]
  },
  {
   "cell_type": "code",
   "execution_count": 4,
   "metadata": {
    "collapsed": false
   },
   "outputs": [
    {
     "name": "stdout",
     "output_type": "stream",
     "text": [
      "3947 documents\n",
      "4 categories\n"
     ]
    }
   ],
   "source": [
    "print(\"%d documents\" % len(newsgroups.data))\n",
    "print(\"%d categories\" % len(newsgroups.target_names))"
   ]
  },
  {
   "cell_type": "markdown",
   "metadata": {},
   "source": [
    "## Tokenizer"
   ]
  },
  {
   "cell_type": "code",
   "execution_count": 5,
   "metadata": {
    "collapsed": true
   },
   "outputs": [],
   "source": [
    "#nltk.download()"
   ]
  },
  {
   "cell_type": "code",
   "execution_count": 6,
   "metadata": {
    "collapsed": true
   },
   "outputs": [],
   "source": [
    "#взято с stackoverflow\n",
    "stemmer = PorterStemmer()\n",
    "def stem_tokens(tokens, stemmer):\n",
    "    stemmed = []\n",
    "    for item in tokens:\n",
    "        stemmed.append(stemmer.stem(item))\n",
    "    return stemmed\n",
    "\n",
    "def tokenize(text):\n",
    "    tokens = nltk.word_tokenize(text)\n",
    "    tokens = [i for i in tokens if i not in string.punctuation]\n",
    "    stems = stem_tokens(tokens, stemmer)\n",
    "    return stems"
   ]
  },
  {
   "cell_type": "markdown",
   "metadata": {},
   "source": [
    "Получаем TF-IDF матрицу для корпуса"
   ]
  },
  {
   "cell_type": "code",
   "execution_count": 7,
   "metadata": {
    "collapsed": false
   },
   "outputs": [],
   "source": [
    "vectorizer = TfidfVectorizer(stop_words='english', tokenizer=tokenize)\n",
    "tfidf_data = vectorizer.fit_transform(newsgroups.data)"
   ]
  },
  {
   "cell_type": "markdown",
   "metadata": {},
   "source": [
    "TF-IDF для запроса"
   ]
  },
  {
   "cell_type": "markdown",
   "metadata": {},
   "source": [
    "Пример:"
   ]
  },
  {
   "cell_type": "code",
   "execution_count": 8,
   "metadata": {
    "collapsed": false
   },
   "outputs": [],
   "source": [
    "query = 'computer vision'\n",
    "tfidf_query = vectorizer.transform([query])"
   ]
  },
  {
   "cell_type": "markdown",
   "metadata": {},
   "source": [
    "Вывод значений TF=IDF для каждого словав запросе"
   ]
  },
  {
   "cell_type": "code",
   "execution_count": 9,
   "metadata": {
    "collapsed": false
   },
   "outputs": [
    {
     "name": "stdout",
     "output_type": "stream",
     "text": [
      "vision  -  0.907611197309\n",
      "comput  -  0.419811760817\n"
     ]
    }
   ],
   "source": [
    "feature_names = vectorizer.get_feature_names()\n",
    "for word in tfidf_query.nonzero()[1]:\n",
    "    print(feature_names[word], ' - ', tfidf_query[0, word])"
   ]
  },
  {
   "cell_type": "markdown",
   "metadata": {},
   "source": [
    "## Query Search"
   ]
  },
  {
   "cell_type": "markdown",
   "metadata": {},
   "source": [
    "Функция принимает запрос, сортирует документы по cosine similarity с этим запросом и выводит top_count документов"
   ]
  },
  {
   "cell_type": "code",
   "execution_count": 10,
   "metadata": {
    "collapsed": false
   },
   "outputs": [],
   "source": [
    "def query_results(query_string, top_count):\n",
    "    tfidf_query = vectorizer.transform([query_string])\n",
    "    cosine_similarities = defaultdict(float) #словарь всех дистанций\n",
    "    count = 0\n",
    "    for doc in tfidf_data: #для каждого документа в корпусе находим косинусное расстояние с запросом\n",
    "        #пользуемся матричным видом для умножения векторов\n",
    "        #так как TF-IDF нормализует данные, делить на длины векторов не нужно\n",
    "        cosine_similarity = doc*(tfidf_query[0].transpose()) \n",
    "        if not cosine_similarity:\n",
    "            cosine_similarity = 0.0\n",
    "        else:\n",
    "            #при умножении матриц получается матрица размером [1,1], записываем этот элемент\n",
    "            cosine_similarity = cosine_similarity[0,0]\n",
    "        #записываем в словарь\n",
    "        cosine_similarities[newsgroups.data[count]] = cosine_similarity\n",
    "        count += 1\n",
    "    #сортируем словарь по значению и выводим заданное значение документов\n",
    "    for key, value in sorted(cosine_similarities.items(), reverse=True, key=lambda x:x[1])[:top_count]:\n",
    "        print('Similarity value = ', value, '\\n\\n', key )\n",
    "        print('----------------------------------------------------------------------')"
   ]
  },
  {
   "cell_type": "markdown",
   "metadata": {},
   "source": [
    "## Query examples"
   ]
  },
  {
   "cell_type": "code",
   "execution_count": 11,
   "metadata": {
    "collapsed": false
   },
   "outputs": [
    {
     "name": "stdout",
     "output_type": "stream",
     "text": [
      "Similarity value =  0.345276332877 \n",
      "\n",
      " Organization: University of Maine System\n",
      "From: The Always Fanatical: Patrick Ellis <IO11330@MAINE.MAINE.EDU>\n",
      "Subject: Re: 1993 NHL Draft\n",
      " <1993Apr20.184627.4585@newshub.ariel.yorku.ca>\n",
      " <1993Apr21.064605.24531@CSD-NewsHost.Stanford.EDU>\n",
      "Lines: 19\n",
      "\n",
      ">San Jose will then get Kariya\n",
      "\n",
      "    ya know that kind of funny cause I've seen Kariya on Campus\n",
      "with a Sharks hat on.......\n",
      "\n",
      "\n",
      "\n",
      "             Pat Ellis\n",
      "\n",
      "\n",
      "P.S.  GO BRUINS    GO UMAINE BLACK BEARS    42-1-2       NUMBER 1......\n",
      "\n",
      "                   HOCKEY EAST REGULARS SEASON CHAMPIONS.....\n",
      "                   HOCKEY EAST TOURNAMENT CHAMPIONS>......\n",
      "                   PAUL KARIYA, HOBEY BAKER AWARD WINNER.......\n",
      "         NCAA DIV. 1 HOCKEY TOURNAMENT CHAMPIONS!!!!!!!!!!!!!!!!!!!\n",
      "\n",
      "\n",
      "                    M-A-I-N-E      GGGGOOOOOOO    BBBLLLUUEEEE!\n",
      "\n",
      "----------------------------------------------------------------------\n",
      "Similarity value =  0.328511619126 \n",
      "\n",
      " Organization: University of Maine System\n",
      "From: The Always Fanatical: Patrick Ellis <IO11330@MAINE.MAINE.EDU>\n",
      "Subject: Re: Bruins vs Canadiens:\n",
      " <1993Apr16.235100.18268@pasteur.Berkeley.EDU>\n",
      "Lines: 18\n",
      "\n",
      "un, you better add at least another plus to the Pederson\n",
      "for Neely trade, the Bruins also received a number 1 round\n",
      "draft pick, didn't play great this year but Wesley's still a\n",
      "decent defenseman....  And the Bruins got Pederson back eventually\n",
      "anyway.....\n",
      "\n",
      "             Pat Ellis\n",
      "\n",
      "\n",
      "P.S.  GO BRUINS    GO UMAINE BLACK BEARS    42-1-2       NUMBER 1......\n",
      "\n",
      "                   HOCKEY EAST REGULARS SEASON CHAMPIONS.....\n",
      "                   HOCKEY EAST TOURNAMENT CHAMPIONS>......\n",
      "                   PAUL KARIYA, HOBEY BAKER AWARD WINNER.......\n",
      "         NCAA DIV. 1 HOCKEY TOURNAMENT CHAMPIONS!!!!!!!!!!!!!!!!!!!\n",
      "\n",
      "\n",
      "                    M-A-I-N-E      GGGGOOOOOOO    BBBLLLUUEEEE!\n",
      "\n",
      "----------------------------------------------------------------------\n",
      "Similarity value =  0.281759112578 \n",
      "\n",
      " Organization: University of Maine System\n",
      "From: The Always Fanatical: Patrick Ellis <IO11330@MAINE.MAINE.EDU>\n",
      "Subject: Re: BUFFALO 4, Boston 0: Defense!!\n",
      " <1993Apr21.142357.14164@alchemy.chem.utoronto.ca>\n",
      " <1r49s8$q8b@hsdndev.harvard.edu> <BSON.93Apr22060320@nutrimat.gnu.ai.mit.edu>\n",
      "Lines: 24\n",
      "\n",
      "I'm personally expecting Moog.  Blue played fairly decent (alright\n",
      "spectacular at times) in his 1/2 a game but Moog has the experience.\n",
      "What Did Blue have going for him, nothing, What would happen in a Tie\n",
      "game, the prssure is then on the Goal tender to insure that you keep the\n",
      "puck out (at the very least until your team scores)  Blue didn't face that\n",
      "kind of pressure on Tuesday.  The Bruins will come out storming that\n",
      "is for sure.  I really think that this series is up to Buffalo, Boston\n",
      "(except for two bad passes in game one) really hasn't played that bad\n",
      ",  As a believer is statistics, you know that your going to get the\n",
      "puck by fuhr sooner or later, just keep shooting.  There game plan is\n",
      "sound but they need to take the lead first, and control the tempo.....\n",
      "\n",
      "               IMHO\n",
      "                      Pat Ellis\n",
      "\n",
      "P.S.  GO BRUINS    GO UMAINE BLACK BEARS    42-1-2       NUMBER 1......\n",
      "\n",
      "                   HOCKEY EAST REGULARS SEASON CHAMPIONS.....\n",
      "                   HOCKEY EAST TOURNAMENT CHAMPIONS>......\n",
      "                   PAUL KARIYA, HOBEY BAKER AWARD WINNER.......\n",
      "         NCAA DIV. 1 HOCKEY TOURNAMENT CHAMPIONS!!!!!!!!!!!!!!!!!!!\n",
      "\n",
      "\n",
      "                    M-A-I-N-E      GGGGOOOOOOO    BBBLLLUUEEEE!\n",
      "\n",
      "----------------------------------------------------------------------\n"
     ]
    }
   ],
   "source": [
    "query_results(\"hockey champion\", 3)"
   ]
  },
  {
   "cell_type": "code",
   "execution_count": 12,
   "metadata": {
    "collapsed": false
   },
   "outputs": [
    {
     "name": "stdout",
     "output_type": "stream",
     "text": [
      "Similarity value =  0.272982173716 \n",
      "\n",
      " From: aas7@po.CWRU.Edu (Andrew A. Spencer)\n",
      "Subject: Re: SHO and SC\n",
      "Organization: Case Western Reserve University, Cleveland, OH (USA)\n",
      "Lines: 53\n",
      "Reply-To: aas7@po.CWRU.Edu (Andrew A. Spencer)\n",
      "NNTP-Posting-Host: slc5.ins.cwru.edu\n",
      "\n",
      "\n",
      "In a previous article, a207706@moe.dseg.ti.com (Robert Loper) says:\n",
      "\n",
      ">In article <C5L8rE.28@constellation.ecn.uoknor.edu> callison@uokmax.ecn.uoknor.edu (James P. Callison) writes:\n",
      ">>In article <1993Apr15.232412.2261@ganglion.ann-arbor.mi.us> david@ganglion.ann-arbor.mi.us (David Hwang) writes:\n",
      ">>>In article <5214@unisql.UUCP> wrat@unisql.UUCP (wharfie) writes:\n",
      ">>>>In article <chrissC587qB.D1B@netcom.com> chriss@netcom.com (Chris Silvester) writes:\n",
      ">>>>\n",
      ">>\n",
      ">>Why anyone would order an SHO with an automatic transmission is\n",
      ">>beyond me; if you can't handle a stick, you should stick with a\n",
      ">>regular Taurus and leave the SHO to real drivers. That is not to\n",
      ">>say that there aren't real drivers who can't use the stick (eg\n",
      ">>disabled persons), but they aren't in any position to use an\n",
      ">>SHO anyway. \n",
      ">>\n",
      ">>I would be willing to bet that if we removed the automatic\n",
      ">>transmissions from all \"performance-type\" cars (like the 5.0l\n",
      ">>Mustangs, Camaros, and the like) we'd cut down on the number of\n",
      ">>accidents each year. Autos are fine for sedate little sedans,\n",
      ">>but they have no business in performance cars, IMHO.\n",
      ">>\n",
      ">>\t\t\t\tJames\n",
      ">>\n",
      ">I have to disagree with this.  I have a 92 Z28 with a 350 and a 4-speed auto\n",
      ">w/ overdrive, and it is really better that way.  Chevy autos are reknowned\n",
      ">for their long life and ability to handle copious amount of power.  I live \n",
      ">in the Dallas area, and a manual would be much harder to drive in the traffic \n",
      ">here.  Now if I still lived out in the sticks like I used to, a manual would be\n",
      ">more fun.  \n",
      ">\n",
      ">Safety-wise, an auto is less distracting...I would hate to have to be    \n",
      ">shifting gears while I was trying to ease into traffic in the freeways here.\n",
      ">Performance-wise, I can hold my own against any stock 5.0 Mustang or 5.0\n",
      ">Camaro w/ a five speed.  \n",
      ">\n",
      ">All of this IMHO... :)\n",
      "\n",
      "all of my HO's disagree with your HO's.  I LOVED Dallas rush hour in my stick..\n",
      "detested it in the auto(like i did any other time in the auto...).  Of course,\n",
      "Dalls rush hours are nothing, from what i hear..if i lived in LA, i might\n",
      "be of a different persuasion.  And, just for the record, rarely do you shift\n",
      "gears when merging into traffic..that is what 5 speeds are good for..4th is\n",
      "good up through around 80-90, most of the time, so you can just wind it out..\n",
      "it's not going to hurt anything, and keeps it in the powerband anyway..\n",
      "only shift into top gear when you are exceeding redline in 4th(fairly rare,\n",
      "unless you drive a ferrari or some such, i'd bet) or when you hit cruising \n",
      "speed where you feel comfortable(or when my mother is sitting in the \n",
      "passanger seat complaining about how you wind her \"poor little engine\" way\n",
      "too hi :-)\n",
      "Just my HO's..\n",
      "\n",
      "DREW\n",
      "\n",
      "----------------------------------------------------------------------\n",
      "Similarity value =  0.223799170197 \n",
      "\n",
      " From: jahonen@cc.lut.fi (Jarmo Ahonen)\n",
      "Subject: Re: Manual Shift Bigots\n",
      "Nntp-Posting-Host: cc.lut.fi\n",
      "Organization: Lappeenranta University of Technology, Finland\n",
      "Lines: 13\n",
      "\n",
      "kissane@black.Berkeley.EDU (John G. Kissane) writes:\n",
      "\n",
      ">As a matter of interest does anyone know why autos are so popular in the US while \n",
      ">here in Europe they are rare??? Just wondering.....\n",
      ">-- \n",
      "\n",
      "Many cars sold here in Finland are *small* and *cheap* cars (at least when\n",
      "compared to other cars --- note that we have over 120 % car tax).\n",
      "\n",
      "And you couldn't expect a good auto mated to a 1.3 L engine?\n",
      "\n",
      "Most of the bigger cars are, however, sold with autos.\n",
      "\n",
      "\n",
      "----------------------------------------------------------------------\n",
      "Similarity value =  0.223727239334 \n",
      "\n",
      " From: mb4008@cehp11 (Morgan J Bullard)\n",
      "Subject: Re: speeding up windows\n",
      "Keywords: speed\n",
      "Organization: University of Illinois at Urbana\n",
      "Lines: 30\n",
      "\n",
      "djserian@flash.LakeheadU.Ca (Reincarnation of Elvis) writes:\n",
      "\n",
      ">I have a 386/33 with 8 megs of memory\n",
      "\n",
      ">I have noticed that lately when I use programs like WpfW or Corel Draw\n",
      ">my computer \"boggs\" down and becomes really sluggish!\n",
      "\n",
      ">What can I do to increase performance?  What should I turn on or off\n",
      "\n",
      ">Will not loading wallpapers or stuff like that help when it comes to\n",
      ">the running speed of windows and the programs that run under it?\n",
      "\n",
      ">Thanx in advance\n",
      "\n",
      ">Derek\n",
      "\n",
      "1) make sure your hard drive is defragmented. This will speed up more than \n",
      "   just windows BTW.  Use something like Norton's or PC Tools.\n",
      "2) I _think_ that leaving the wall paper out will use less RAM and therefore\n",
      "   will speed up your machine but I could very will be wrong on this.\n",
      "There's a good chance you've already done this but if not it may speed things\n",
      "up.  good luck\n",
      "\t\t\t\tMorgan Bullard mb4008@coewl.cen.uiuc.edu\n",
      "\t\t\t\t\t  or   mjbb@uxa.cso.uiuc.edu\n",
      "\n",
      ">--\n",
      ">$_    /|$Derek J.P. Serianni $ E-Mail : djserian@flash.lakeheadu.ca           $ \n",
      ">$\\'o.O' $Sociologist         $ It's 106 miles to Chicago,we've got a full tank$\n",
      ">$=(___)=$Lakehead University $ of gas, half a pack of cigarettes,it's dark,and$\n",
      ">$   U   $Thunder Bay, Ontario$ we're wearing sunglasses. -Elwood Blues        $  \n",
      "\n",
      "----------------------------------------------------------------------\n",
      "Similarity value =  0.221193054523 \n",
      "\n",
      " From: mje@pookie.pass.wayne.edu (Michael J. Edelman)\n",
      "Subject: Manual Shift Bigots\n",
      "Organization: Wayne State University\n",
      "Lines: 17\n",
      "Distribution: world\n",
      "Reply-To: mje@pookie.pass.wayne.edu\n",
      "NNTP-Posting-Host: pookie.pass.wayne.edu\n",
      "\n",
      "Now, my ego with regards to my shifting ability is as big as anyone else's, but\n",
      "I just ordered my first car with an auto trans. I wasn't planning on it; but\n",
      "after driving a few I was convinced: Things have changed since the days of \n",
      "\"Slip 'n' Slide Withe Powerglide\". They shift *better* than I do, there's no\n",
      "clutch to wear out (Honda wanted $800 for my 4WD wagon last year!- got it done\n",
      "for $500), it only costs about 5% in gas milage on the highway and it makes it\n",
      "easier to concentrate on all the radios in my car ;-)\n",
      "\n",
      "(Oddly enough, while two of my best friends- both in the auto industry here in the \n",
      "Motor City- have switched wholeheartedly to autos, their wives *insist* on \n",
      "manual. Shift envy?)\n",
      "\n",
      "Braggadocio aside, given today's technology and the warranties they're handing \n",
      "out the auto trans seemed like an excellent choice. Call me a convert.\n",
      "\n",
      "  --mike\n",
      "\n",
      "\n",
      "----------------------------------------------------------------------\n",
      "Similarity value =  0.203524461275 \n",
      "\n",
      " From: ak954@yfn.ysu.edu (Albion H. Bowers)\n",
      "Subject: Re: Manual Shift Bigots\n",
      "Organization: St. Elizabeth Hospital, Youngstown, OH\n",
      "Lines: 48\n",
      "Reply-To: ak954@yfn.ysu.edu (Albion H. Bowers)\n",
      "NNTP-Posting-Host: yfn.ysu.edu\n",
      "\n",
      "\n",
      "In a previous article,  (Eric Youngblood) says:\n",
      "\n",
      ">In article <Apr19.195700.19699@engr.washington.edu>, eliot@stalfos.engr.washington.edu (eliot) writes:\n",
      "\n",
      ">[race car stuff deleted]\n",
      "\n",
      "Back to the F1 stuff for a second, note that the `auto' tranny in F1\n",
      "_STILL_ shifts at the driver's command, not some preselected schedule.  The\n",
      "driver still controls the shifting, not the transmission. \n",
      "\n",
      ">|> now, there is no dispute that in production cars, automatics are\n",
      ">|> inherently more lossy than manuals.  that is in theory.  my point all\n",
      ">|> along is that whatever mechanical advantages a manual has over an\n",
      ">|> automatic can very easily be lost by a driver who isn't skillful or\n",
      "\n",
      ">One thing that gives an automatic an advantage at launch is the fact that\n",
      ">it has a torque converter vs a clutch.  I know this sounds strange but,\n",
      ">a torque converter multiplies the engine output when launching.  It functions\n",
      "          ^^^^^^^^^ ^^^^^^^^^^^\n",
      ">as a sort of limited Continuously Variable Transmission. Typically you get \n",
      ">a torque multiplication of 2 to 3 times depending on the stall speed.\n",
      "\n",
      "I have yet to see a torque multiplier installed on a production automobile. \n",
      "Such systems do exist, but none are presently installed in production autos\n",
      "that I am aware of.  These are commonly called viscous drive CVTs or\n",
      "fluidic amplifiers. \n",
      "\n",
      ">Contrasted to a clutch which merely slips when feathered (result is no TQ mult)\n",
      "\n",
      "What the convertor _does_ allow is for the engine to be closer to its\n",
      "torque peak during the launch before a clutched car can fully engage it's\n",
      "driveline.  Chevy proved it many years ago with the '70 Camaro (ETs and\n",
      "terminal 1/4 mile times were close enough tpo be identical for 4 speed and\n",
      "auto cars).  Note that this is also the major reason that an auto car can\n",
      "get away with fewer gears than a manual, the slip in the convertor makes up\n",
      "for the fewer ratios (and before everyone starts yelling about the proposed\n",
      "5 sspeed autos soon to be out, note that some manufacturers are using 6\n",
      "speed manulas now). \n",
      "\n",
      ">Once past lauch however, the converter begins coupling and the TQ multiplication\n",
      ">effect is reduced, but by then you should be on the cam.\n",
      "\n",
      "Correct.\n",
      "-- \n",
      "Al Bowers  DOD #900  Alfa  Ducati  Hobie  Kottke  'blad  Iaido  NASA\n",
      "\"Well goodness sakes...don't you know that girls can't play guitar?\"\n",
      "                                             -Mary Chapin-Carpenter\n",
      "\n",
      "----------------------------------------------------------------------\n"
     ]
    }
   ],
   "source": [
    "query_results(\"auto speed\", 5)"
   ]
  },
  {
   "cell_type": "code",
   "execution_count": 13,
   "metadata": {
    "collapsed": false
   },
   "outputs": [
    {
     "name": "stdout",
     "output_type": "stream",
     "text": [
      "Similarity value =  0.455260792194 \n",
      "\n",
      " From: tomh@metrics.com (Tom Haapanen)\n",
      "Subject: RFD: comp.os.ms-windows.nt.{misc,setup}\n",
      "Organization: Software Metrics Inc.\n",
      "Lines: 76\n",
      "NNTP-Posting-Host: rodan.uu.net\n",
      "\n",
      "This is the official Request for Discussion (RFD) for the creation of two\n",
      "new newsgroups for Microsoft Windows NT.  This is a second RFD, replacing\n",
      "the one originally posted in January '93 (and never taken to a vote).  The\n",
      "proposed groups are described below:\n",
      "\n",
      "NAME: \t comp.os.ms-windows.nt.setup\n",
      "STATUS:  Unmoderated.\n",
      "PURPOSE: Discussions about setting up and installing Windows NT, and about\n",
      "\t system and peripheral compatability issues for Windows NT.\n",
      "\n",
      "NAME:\t comp.os.ms-windows.nt.misc\n",
      "STATUS:\t Unmoderated.\n",
      "PURPOSE: Miscellaneous non-programming discussions about using Windows NT,\n",
      "\t including issues such as security, networking features, console\n",
      "\t mode and Windows 3.1 (Win16) compatability.\n",
      "\n",
      "RATIONALE:\n",
      "\tMicrosoft NT is the newest member of the Microsoft Windows family\n",
      "\tof operating systems (or operating environments for those who wish\n",
      "\tto argue about the meaning of an \"OS\").  The family ranges from\n",
      "\tModular Windows through Windows 3.1 and Windows for Workgroups to\n",
      "\tWindows NT at the high end.  To date, Microsoft has shipped over\n",
      "\t50,000 beta copies and pre-release SDKs of Windows NT -- the\n",
      "\tactual release is slated for May/June '93.\n",
      "\n",
      "\tWhile Windows NT has an entirely new design internally, it shares\n",
      "\tan application programming interface with the other members of the\n",
      "\tWindows family; its Win32 API includes the Win16 API used in Win-\n",
      "\tdows 3.1, and the Win32s API subset (Win32 less threads, networking\n",
      "\tand security) can be used to create 32-bit applications for\n",
      "\tWindows 3.1.\n",
      "\n",
      "\tThe user interface is also practically identical to that of Windows\n",
      "\t3.1, with the addition of logins and a few other features.  It uses\n",
      "\tProgram Manager, File Manager and other applets, and generally pre-\n",
      "\tsents an identical appearance to the user.  Many of the announced\n",
      "\tWindows NT applications are ports of existing Windows 3.1 apps, and\n",
      "\tNT also runs existing 3.1 applications.\n",
      "\n",
      "\tThus, it appears logical that Windows NT should share the following\n",
      "\tgroups with the other members of the Windows family:\n",
      "\t\tcomp.os.ms-windows.apps\n",
      "\t\tcomp.os.ms-windows.programmer.tools\n",
      "\t\tcomp.os.ms-windows.programmer.misc\n",
      "\t\tcomp.os.ms-windows.programmer.win32\n",
      "\t\n",
      "\tThe following groups are also clearly applicable to Windows NT as\n",
      "\twell as Windows 3.1:\n",
      "\t\tcomp.os.ms-windows.announce\n",
      "\t\tcomp.os.ms-windows.advocacy\n",
      "\t\n",
      "\tIn conclusion, the only clear argument for the separation of the\n",
      "\tWindows 3.1 and Windows NT hierarchies is different internal\n",
      "\tstructures of Windows 3.1 and Windows NT.  And yet operating\n",
      "\tsystems such as OS/2, Macintosh OS, Xenix and Coherent all have\n",
      "\tundergone major rewrites without having been split into separate\n",
      "\tnewsgroup hierarchies.\n",
      "\n",
      "\tFurther, Windows 3.1 is due for a major rewrite itself in 1994 --\n",
      "\twhen the fully 32-bit, protected-mode and with-DOS-built-in next-\n",
      "\tgeneration Windows, \"Chicago\", debuts next year, surely it should\n",
      "\tremain in the same hierarchy.  And what, then, would be the jus-\n",
      "\ttification for separating Windows NT from other Windows versions?\n",
      "\n",
      "\n",
      "DISCUSSION PERIOD:\n",
      "\tThe discussion period will run from 27 April, 1992 to 18 May, 1993.  \n",
      "\n",
      "VOTING:\n",
      "\tThe CFV (Call for Votes) will be issued around 19 May, 1993, based on\n",
      "\tthe feedback received during the discussion period.  No votes will\n",
      "\tbe accepted prior to the CFV.\n",
      "-- \n",
      "[ /tom haapanen -- tomh@metrics.com -- software metrics inc -- waterloo, ont ]\n",
      "[       \"stick your index fingers into both corners of your mouth.  now pull ]\n",
      "[          up.  that's how the corrado makes you feel.\"  -- car, january '93 ]\n",
      "\n",
      "----------------------------------------------------------------------\n"
     ]
    }
   ],
   "source": [
    "query_results(\"windows\", 1)"
   ]
  },
  {
   "cell_type": "code",
   "execution_count": null,
   "metadata": {
    "collapsed": true
   },
   "outputs": [],
   "source": []
  }
 ],
 "metadata": {
  "kernelspec": {
   "display_name": "Python 3",
   "language": "python",
   "name": "python3"
  },
  "language_info": {
   "codemirror_mode": {
    "name": "ipython",
    "version": 3
   },
   "file_extension": ".py",
   "mimetype": "text/x-python",
   "name": "python",
   "nbconvert_exporter": "python",
   "pygments_lexer": "ipython3",
   "version": "3.5.1"
  }
 },
 "nbformat": 4,
 "nbformat_minor": 0
}
