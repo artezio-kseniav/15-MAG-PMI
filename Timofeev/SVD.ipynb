{
 "cells": [
  {
   "cell_type": "code",
   "execution_count": 1,
   "metadata": {
    "collapsed": true
   },
   "outputs": [],
   "source": [
    "import numpy as np\n",
    "from sklearn.feature_extraction.text import TfidfVectorizer\n",
    "from sklearn.decomposition import TruncatedSVD\n",
    "from sklearn.cross_validation import train_test_split\n",
    "from sklearn.neighbors import KNeighborsClassifier\n",
    "from sklearn.datasets import fetch_20newsgroups"
   ]
  },
  {
   "cell_type": "code",
   "execution_count": 2,
   "metadata": {
    "collapsed": true
   },
   "outputs": [],
   "source": [
    "data = fetch_20newsgroups(categories=['comp.sys.mac.hardware', 'rec.sport.hockey', 'sci.space', 'rec.motorcycles'])"
   ]
  },
  {
   "cell_type": "markdown",
   "metadata": {},
   "source": [
    "# SVD"
   ]
  },
  {
   "cell_type": "code",
   "execution_count": 4,
   "metadata": {
    "collapsed": false
   },
   "outputs": [],
   "source": [
    "tfidf = TfidfVectorizer(stop_words='english')\n",
    "corpus = tfidf.fit_transform(data.data)\n",
    "svd = TruncatedSVD(n_components=10)\n",
    "X_svd = svd.fit_transform(corpus)"
   ]
  },
  {
   "cell_type": "markdown",
   "metadata": {},
   "source": [
    "# Knn"
   ]
  },
  {
   "cell_type": "code",
   "execution_count": 5,
   "metadata": {
    "collapsed": false
   },
   "outputs": [
    {
     "name": "stdout",
     "output_type": "stream",
     "text": [
      "(0.031966224366706875, 0.042194092827004218)\n"
     ]
    }
   ],
   "source": [
    "X_train, X_test, y_train, y_test = train_test_split(X_svd, data.target, test_size = 0.3, random_state = 1) \n",
    "\n",
    "knn = KNeighborsClassifier().fit(X_train, y_train)\n",
    "\n",
    "y_train_predict = knn.predict(X_train)\n",
    "y_test_predict = knn.predict(X_test)\n",
    "\n",
    "err_train = np.mean(y_train != y_train_predict)\n",
    "err_test  = np.mean(y_test  != y_test_predict)\n",
    "\n",
    "print (err_train, err_test)"
   ]
  },
  {
   "cell_type": "code",
   "execution_count": 6,
   "metadata": {
    "collapsed": false
   },
   "outputs": [
    {
     "name": "stdout",
     "output_type": "stream",
     "text": [
      "===============================================================================\n",
      "Hidden category (component 1), twelve popular words:\n",
      "[u'university' u'just' u'don' u'like' u'lines' u'organization' u'subject'\n",
      " u'writes' u'article' u'space' u'ca' u'com']\n",
      "===============================================================================\n",
      "Hidden category (component 2), twelve popular words:\n",
      "[u'win' u'leafs' u'columbia' u'games' u'gld' u'season' u'players' u'play'\n",
      " u'nhl' u'ca' u'hockey' u'team']\n",
      "===============================================================================\n",
      "Hidden category (component 3), twelve popular words:\n",
      "[u'orbit' u'zoology' u'jpl' u'spencer' u'team' u'zoo' u'moon' u'gov'\n",
      " u'alaska' u'toronto' u'henry' u'nasa']\n",
      "===============================================================================\n",
      "Hidden category (component 4), twelve popular words:\n",
      "[u'zoo' u'keenan' u'toronto' u'espn' u'alaska' u'henry' u'dare' u'gary'\n",
      " u'cc' u'cunixb' u'columbia' u'gld']\n",
      "===============================================================================\n",
      "Hidden category (component 5), twelve popular words:\n",
      "[u'keenan' u'nec' u'sun' u'behanna' u'dod' u'bike' u'gary' u'dare' u'cc'\n",
      " u'cunixb' u'com' u'columbia']\n",
      "===============================================================================\n",
      "Hidden category (component 6), twelve popular words:\n",
      "[u'eng' u'com' u'edu' u'kipling' u'umd' u'alaska' u'utzoo' u'work'\n",
      " u'zoology' u'spencer' u'zoo' u'toronto']\n",
      "===============================================================================\n",
      "Hidden category (component 7), twelve popular words:\n",
      "[u'communications' u'mccall' u'online' u'express' u'prb' u'net' u'com'\n",
      " u'dseg' u'ti' u'alaska' u'pat' u'digex']\n",
      "===============================================================================\n",
      "Hidden category (component 8), twelve popular words:\n",
      "[u'michael' u'jacked' u'upenn' u'pittsburgh' u'bike' u'andrew' u'acad3'\n",
      " u'cmu' u'aurora' u'nsmca' u'edu' u'space']\n",
      "===============================================================================\n",
      "Hidden category (component 9), twelve popular words:\n",
      "[u'pittsburgh' u'vs' u'mail' u'period' u'keith' u'kkeller' u'com' u'keller'\n",
      " u'pat' u'sas' u'digex' u'upenn']\n",
      "===============================================================================\n",
      "Hidden category (component 10), twelve popular words:\n",
      "[u'aurora' u'__' u'nick' u'jpl' u'baalke' u'pat' u'ca' u'digex' u'access'\n",
      " u'alaska' u'edu' u'bnr']\n"
     ]
    }
   ],
   "source": [
    "for com_num, topic in enumerate(svd.components_):\n",
    "    print('===============================================================================')\n",
    "    print(\"Hidden category (component {}), twelve popular words:\".format(com_num+1))\n",
    "    print(np.asarray(tfidf.get_feature_names())[np.argsort(topic)[-13:-1]][:])"
   ]
  }
 ],
 "metadata": {
  "kernelspec": {
   "display_name": "Python 2",
   "language": "python",
   "name": "python2"
  },
  "language_info": {
   "codemirror_mode": {
    "name": "ipython",
    "version": 2
   },
   "file_extension": ".py",
   "mimetype": "text/x-python",
   "name": "python",
   "nbconvert_exporter": "python",
   "pygments_lexer": "ipython2",
   "version": "2.7.11"
  }
 },
 "nbformat": 4,
 "nbformat_minor": 0
}
