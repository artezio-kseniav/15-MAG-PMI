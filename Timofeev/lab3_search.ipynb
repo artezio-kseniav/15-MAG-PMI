{
 "cells": [
  {
   "cell_type": "code",
   "execution_count": 1,
   "metadata": {
    "collapsed": false
   },
   "outputs": [],
   "source": [
    "from sklearn.datasets import fetch_20newsgroups\n",
    "from sklearn.metrics.pairwise import cosine_similarity\n",
    "import nltk\n",
    "import string\n",
    "from sklearn.feature_extraction.text import TfidfVectorizer"
   ]
  },
  {
   "cell_type": "code",
   "execution_count": 2,
   "metadata": {
    "collapsed": true
   },
   "outputs": [],
   "source": [
    "data = fetch_20newsgroups(categories=['comp.sys.mac.hardware', 'rec.sport.hockey', 'sci.space', 'rec.motorcycles'])"
   ]
  },
  {
   "cell_type": "code",
   "execution_count": 3,
   "metadata": {
    "collapsed": false
   },
   "outputs": [
    {
     "name": "stdout",
     "output_type": "stream",
     "text": [
      "[nltk_data] Downloading package punkt to\n",
      "[nltk_data]     C:\\Users\\Andrey\\AppData\\Roaming\\nltk_data...\n",
      "[nltk_data]   Package punkt is already up-to-date!\n"
     ]
    }
   ],
   "source": [
    "nltk.download('punkt')\n",
    "\n",
    "stemmer = nltk.stem.porter.PorterStemmer()\n",
    "\n",
    "def textTokenizer(text):\n",
    "    return [stemmer.stem(i) for i in nltk.word_tokenize(text) if i not in string.punctuation]\n",
    "\n",
    "# TF-IDF matrix for corpus \n",
    "tfidf = TfidfVectorizer(stop_words='english', tokenizer=textTokenizer)\n",
    "corpus = tfidf.fit_transform(data.data)"
   ]
  },
  {
   "cell_type": "code",
   "execution_count": 4,
   "metadata": {
    "collapsed": false
   },
   "outputs": [
    {
     "name": "stdout",
     "output_type": "stream",
     "text": [
      "program: 0.371651706838\n",
      "macintosh: 0.468942808333\n",
      "kepler: 0.801228838296\n"
     ]
    }
   ],
   "source": [
    "query = 'macintosh and kepler program'\n",
    "transformedQuery = tfidf.transform([query])\n",
    "features = tfidf.get_feature_names()\n",
    "\n",
    "for word in transformedQuery.nonzero()[1]:\n",
    "    print(str(features[word]) + ': {}'.format(transformedQuery[0, word]))"
   ]
  },
  {
   "cell_type": "code",
   "execution_count": 32,
   "metadata": {
    "collapsed": true
   },
   "outputs": [],
   "source": [
    "corpus_arr = corpus.toarray()\n",
    "\n",
    "def cosine(query, count):\n",
    "    print('The query string is \"{}\"'.format(query))\n",
    "    cosine_similarity_results = {}\n",
    "    tfidf_query = tfidf.transform([query]).toarray()\n",
    "    \n",
    "    for i in xrange(corpus.shape[0]):\n",
    "        cosine_dist = cosine_similarity(corpus_arr[i].reshape(1, -1), tfidf_query)\n",
    "        text_thematic = \" \".join([x if 'Subject' in x else '' for x in data.data[i].split(\"\\n\")[:5]]) \n",
    "        cosine_similarity_results[text_thematic]=cosine_dist\n",
    "        \n",
    "    for key, value in sorted(cosine_similarity_results.items(), reverse=True, key=lambda x:x[1])[:count]:\n",
    "        print('Cosine: {} - document \"{}\"'.format(value, key))"
   ]
  },
  {
   "cell_type": "code",
   "execution_count": 33,
   "metadata": {
    "collapsed": false
   },
   "outputs": [
    {
     "name": "stdout",
     "output_type": "stream",
     "text": [
      "The query string is \"powerfull engine\"\n",
      "Cosine: [[ 0.23247986]] - document \" Subject: Re: \"Jump Starting\" a Mac II   \"\n",
      "Cosine: [[ 0.22288427]] - document \" Subject: Re: Computer Engr vs.  Computer Science   \"\n",
      "Cosine: [[ 0.21305584]] - document \" Subject: Re: Computer Engr vs. Computer Science   \"\n",
      "Cosine: [[ 0.17439876]] - document \" Subject: Re: DC-X: Vehicle Nears Flight Test   \"\n",
      "Cosine: [[ 0.17035721]] - document \" Subject: DoD Books   \"\n",
      "Cosine: [[ 0.16999556]] - document \" Subject: Jemison on Star Trek   \"\n",
      "Cosine: [[ 0.14366592]] - document \" Subject: Spagthorpe Viking   \"\n",
      "Cosine: [[ 0.14355586]] - document \" Subject: How do they ignite the SSME?   \"\n",
      "Cosine: [[ 0.13725853]] - document \" Subject: DC-Y trajectory simulation   \"\n",
      "Cosine: [[ 0.13241675]] - document \" Subject: *** For sale: 1988 Husqvarna 510TE ***   \"\n"
     ]
    }
   ],
   "source": [
    "cosine('powerfull engine' ,10)"
   ]
  },
  {
   "cell_type": "code",
   "execution_count": 34,
   "metadata": {
    "collapsed": false
   },
   "outputs": [
    {
     "name": "stdout",
     "output_type": "stream",
     "text": [
      "The query string is \"high speed\"\n",
      "Cosine: [[ 0.22998404]] - document \" Subject: Re: iisi clock upgrades   \"\n",
      "Cosine: [[ 0.19237619]] - document \" Subject: Re: Speeding ticket from CHP   \"\n",
      "Cosine: [[ 0.17592551]] - document \" Subject: Why the drive speeds differ??   \"\n",
      "Cosine: [[ 0.16376998]] - document \" Subject: Re: Why the drive speeds differ??   \"\n",
      "Cosine: [[ 0.14412415]] - document \" Subject: Re: Accelerating the MacPlus...;)   \"\n",
      "Cosine: [[ 0.13921538]] - document \" Subject: Re: x86 ~= 680x0 ??  (How do they compare?)   \"\n",
      "Cosine: [[ 0.12772633]] - document \" Subject: SI clock reports   \"\n",
      "Cosine: [[ 0.12215963]] - document \" Subject: MACH 25 landing site bases?   \"\n",
      "Cosine: [[ 0.12183501]] - document \" Subject: Buying a high speed v.everything modem   \"\n",
      "Cosine: [[ 0.1118219]] - document \" Subject: Russian Email Contacts.   \"\n"
     ]
    }
   ],
   "source": [
    "cosine('high speed' ,10)"
   ]
  }
 ],
 "metadata": {
  "kernelspec": {
   "display_name": "Python 2",
   "language": "python",
   "name": "python2"
  },
  "language_info": {
   "codemirror_mode": {
    "name": "ipython",
    "version": 2
   },
   "file_extension": ".py",
   "mimetype": "text/x-python",
   "name": "python",
   "nbconvert_exporter": "python",
   "pygments_lexer": "ipython2",
   "version": "2.7.11"
  }
 },
 "nbformat": 4,
 "nbformat_minor": 0
}
