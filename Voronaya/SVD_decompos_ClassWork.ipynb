{
 "cells": [
  {
   "cell_type": "code",
   "execution_count": 1,
   "metadata": {
    "collapsed": true
   },
   "outputs": [],
   "source": [
    "__author__ = 'Ksenia Voronaya'\n",
    "\n",
    "from sklearn.datasets import fetch_20newsgroups\n",
    "from sklearn.feature_extraction.text import TfidfVectorizer\n",
    "from sklearn.decomposition import TruncatedSVD\n",
    "\n",
    "from sklearn.cross_validation import train_test_split\n",
    "from sklearn.neighbors import KNeighborsClassifier\n",
    "\n",
    "import numpy"
   ]
  },
  {
   "cell_type": "code",
   "execution_count": 2,
   "metadata": {
    "collapsed": true
   },
   "outputs": [],
   "source": [
    "# it is difficult to handle all documents & categories after, so download only several\n",
    "corpus_data = fetch_20newsgroups(categories=['rec.motorcycles', 'rec.autos', \n",
    "                                             'rec.sport.hockey', 'soc.religion.christian', \n",
    "                                             'alt.atheism', 'sci.electronics'])"
   ]
  },
  {
   "cell_type": "code",
   "execution_count": 3,
   "metadata": {
    "collapsed": false
   },
   "outputs": [
    {
     "name": "stdout",
     "output_type": "stream",
     "text": [
      "List of topics (6 categories):\n",
      "['alt.atheism', 'rec.autos', 'rec.motorcycles', 'rec.sport.hockey', 'sci.electronics', 'soc.religion.christian']\n",
      "Size of corpus is 3462 documents\n"
     ]
    }
   ],
   "source": [
    "print(\"List of topics ({} categories):\".format(len(list(corpus_data.target_names))))\n",
    "print(list(corpus_data.target_names))\n",
    "print(\"Size of corpus is {} documents\".format(len(corpus_data.data)))"
   ]
  },
  {
   "cell_type": "code",
   "execution_count": 4,
   "metadata": {
    "collapsed": false
   },
   "outputs": [
    {
     "name": "stdout",
     "output_type": "stream",
     "text": [
      "[[  1.84944570e-02   1.67375701e-02   2.97805979e-04 ...,   4.39221452e-04\n",
      "    5.29853162e-04   5.29853162e-04]\n",
      " [ -2.84715071e-03  -1.59567474e-02  -3.19524066e-04 ...,  -7.21174191e-04\n",
      "   -4.69511893e-04  -4.69511893e-04]\n",
      " [ -1.11635734e-02   2.45604563e-03   1.28018353e-05 ...,  -3.24480562e-04\n",
      "   -5.43650908e-05  -5.43650908e-05]\n",
      " ..., \n",
      " [ -1.03325826e-02   1.24346316e-02  -6.53706211e-05 ...,   2.60973153e-04\n",
      "   -1.88161994e-03  -1.88161994e-03]\n",
      " [ -6.44741698e-03   9.22520428e-03   1.13662500e-05 ...,  -6.39615557e-04\n",
      "    2.27248282e-04   2.27248282e-04]\n",
      " [ -1.39659015e-02  -8.07024361e-03  -5.19119109e-04 ...,   5.58527262e-04\n",
      "   -2.33685226e-03  -2.33685226e-03]]\n"
     ]
    }
   ],
   "source": [
    "# TF-IDF matrix for corpus \n",
    "corpus_tfidf = TfidfVectorizer(stop_words='english')\n",
    "corpus_representation = corpus_tfidf.fit_transform(corpus_data.data)\n",
    "\n",
    "# Dimensionality reduction using truncated SVD\n",
    "# try to use 15 components\n",
    "svd = TruncatedSVD(n_components=15)\n",
    "data_svd = svd.fit_transform(corpus_representation)\n",
    "print(svd.components_)"
   ]
  },
  {
   "cell_type": "code",
   "execution_count": 5,
   "metadata": {
    "collapsed": false
   },
   "outputs": [
    {
     "name": "stdout",
     "output_type": "stream",
     "text": [
      "Size of train data is 2596 documents\n",
      "Size of test data is 866 documents\n"
     ]
    }
   ],
   "source": [
    "# split data on train(75%) & test(25%) datasets\n",
    "X_train, X_test, y_train, y_test = train_test_split(data_svd, corpus_data.target, test_size = 0.25, random_state = 1)\n",
    "\n",
    "print(\"Size of train data is {} documents\".format(len(X_train)))\n",
    "print(\"Size of test data is {} documents\".format(len(X_test)))"
   ]
  },
  {
   "cell_type": "code",
   "execution_count": 6,
   "metadata": {
    "collapsed": false
   },
   "outputs": [
    {
     "name": "stdout",
     "output_type": "stream",
     "text": [
      "The average error on train data is 0.0681818181818\n",
      "The average error on test data is 0.108545034642\n"
     ]
    }
   ],
   "source": [
    "# classification with kNN\n",
    "knn_classifier = KNeighborsClassifier().fit(X_train, y_train)\n",
    "\n",
    "y_train_predict = knn_classifier.predict(X_train)\n",
    "y_test_predict = knn_classifier.predict(X_test)\n",
    "\n",
    "err_train = numpy.mean(y_train != y_train_predict)\n",
    "err_test  = numpy.mean(y_test  != y_test_predict)\n",
    "\n",
    "print(\"The average error on train data is {}\".format(err_train))\n",
    "print(\"The average error on test data is {}\".format(err_test))"
   ]
  },
  {
   "cell_type": "code",
   "execution_count": 7,
   "metadata": {
    "collapsed": false
   },
   "outputs": [
    {
     "name": "stdout",
     "output_type": "stream",
     "text": [
      "*******************************************************************************\n",
      "Hidden category (component 1), twelve popular words:\n",
      "[u'organization' u'ca' u'like' u'lines' u'think' u'subject' u'article'\n",
      " u'don' u'people' u'writes' u'com' u'god']\n",
      "*******************************************************************************\n",
      "Hidden category (component 2), twelve popular words:\n",
      "[u'hell' u'church' u'atheists' u'christ' u'truth' u'christian'\n",
      " u'christians' u'people' u'faith' u'bible' u'believe' u'jesus']\n",
      "*******************************************************************************\n",
      "Hidden category (component 3), twelve popular words:\n",
      "[u'moral' u'allan' u'com' u'cco' u'schneider' u'jon' u'morality' u'wpd'\n",
      " u'solntze' u'sgi' u'livesey' u'caltech']\n",
      "*******************************************************************************\n",
      "Hidden category (component 4), twelve popular words:\n",
      "[u'insurance' u'sun' u'article' u'oil' u'engine' u'nec' u'behanna' u'hp'\n",
      " u'dod' u'cars' u'bike' u'car']\n",
      "*******************************************************************************\n",
      "Hidden category (component 5), twelve popular words:\n",
      "[u'cc' u'university' u'programs' u'michael' u'columbia' u'athens'\n",
      " u'mcovingt' u'covington' u'gld' u'uga' u'georgia' u'ai']\n",
      "*******************************************************************************\n",
      "Hidden category (component 6), twelve popular words:\n",
      "[u'phds' u'cunixc' u'domi' u'god' u'espn' u'keenan' u'edu' u'gary' u'dare'\n",
      " u'cc' u'cunixb' u'columbia']\n",
      "*******************************************************************************\n",
      "Hidden category (component 7), twelve popular words:\n",
      "[u'sun' u'uga' u'livesey' u'georgia' u'sgi' u'ai' u'cc' u'gary' u'dare'\n",
      " u'cunixb' u'com' u'columbia']\n",
      "*******************************************************************************\n",
      "Hidden category (component 8), twelve popular words:\n",
      "[u'gary' u'don' u'callison' u'dare' u'people' u'sgi' u'think' u'cunixb'\n",
      " u'livesey' u'cars' u'columbia' u'gld']\n",
      "*******************************************************************************\n",
      "Hidden category (component 9), twelve popular words:\n",
      "[u'muslims' u'uiuc' u'car' u'sandvik' u'buphy' u'edu' u'muslim' u'rushdie'\n",
      " u'gregg' u'bu' u'islamic' u'jaeger']\n",
      "*******************************************************************************\n",
      "Hidden category (component 10), twelve popular words:\n",
      "[u'bronx' u'bob' u'robert' u'cars' u'cobb' u'com' u'uiuc' u'beauchaine'\n",
      " u'bobbe' u'car' u'vice' u'ico']\n",
      "*******************************************************************************\n",
      "Hidden category (component 11), twelve popular words:\n",
      "[u'bobbe' u'bike' u'caltech' u'vice' u'roger' u'tek' u'ico' u'maynard'\n",
      " u'uk' u'keith' u'___' u'bnr']\n",
      "*******************************************************************************\n",
      "Hidden category (component 12), twelve popular words:\n",
      "[u'youngstown' u'petch' u'god' u'tek' u'livesey' u'eternal' u'sgi' u'ca'\n",
      " u'john' u'daker' u'ak296' u'yfn']\n",
      "*******************************************************************************\n",
      "Hidden category (component 13), twelve popular words:\n",
      "[u'hell' u'callison' u'sgi' u'bike' u'edu' u'insurance' u'uiuc' u'chris'\n",
      " u'car' u'syl' u'nj' u'nec']\n",
      "*******************************************************************************\n",
      "Hidden category (component 14), twelve popular words:\n",
      "[u'truth' u'dtmedin' u'catbyte' u'john' u'b30' u'ingr' u'behanna' u'nec'\n",
      " u'ground' u'daker' u'ak296' u'yfn']\n",
      "*******************************************************************************\n",
      "Hidden category (component 15), twelve popular words:\n",
      "[u'uoknor' u'po' u'players' u'helmet' u'keith' u'callison' u'egreen'\n",
      " u'green' u'com' u'ed' u'cwru' u'east']\n"
     ]
    }
   ],
   "source": [
    "for component_num, topic in enumerate(svd.components_):\n",
    "    w_len = numpy.argsort(topic)\n",
    "    print('*******************************************************************************')\n",
    "    print(\"Hidden category (component {}), twelve popular words:\".format(component_num+1))\n",
    "    print(numpy.asarray(corpus_tfidf.get_feature_names())[w_len[-13:-1]][:])"
   ]
  },
  {
   "cell_type": "code",
   "execution_count": null,
   "metadata": {
    "collapsed": true
   },
   "outputs": [],
   "source": []
  }
 ],
 "metadata": {
  "kernelspec": {
   "display_name": "Python 2",
   "language": "python",
   "name": "python2"
  },
  "language_info": {
   "codemirror_mode": {
    "name": "ipython",
    "version": 2
   },
   "file_extension": ".py",
   "mimetype": "text/x-python",
   "name": "python",
   "nbconvert_exporter": "python",
   "pygments_lexer": "ipython2",
   "version": "2.7.10"
  }
 },
 "nbformat": 4,
 "nbformat_minor": 0
}
