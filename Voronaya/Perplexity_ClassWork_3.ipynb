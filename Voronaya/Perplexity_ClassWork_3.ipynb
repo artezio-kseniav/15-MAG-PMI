{
 "cells": [
  {
   "cell_type": "code",
   "execution_count": 18,
   "metadata": {
    "collapsed": true
   },
   "outputs": [],
   "source": [
    "__author__ = 'Ksenia Voronaya'\n",
    "\n",
    "import lxml.html as html\n",
    "import io\n",
    "import nltk\n",
    "import string\n",
    "import math"
   ]
  },
  {
   "cell_type": "code",
   "execution_count": 2,
   "metadata": {
    "collapsed": true
   },
   "outputs": [],
   "source": [
    "# Новостной сайт \"Вести\"\n",
    "# http://www.vesti.ru/news/\n",
    "base_url = 'http://www.vesti.ru'\n",
    "\n",
    "# Берем три топика с сайта: \n",
    "# 1. политика\n",
    "# 2. спорт\n",
    "# 3. происшествия\n",
    "# временной интервал с 01.06.2016 по 05.06.2016\n",
    "topics = {'politics': 'cid=5', 'sport': 'cid=680', 'accidents': 'cid=8'}"
   ]
  },
  {
   "cell_type": "code",
   "execution_count": 3,
   "metadata": {
    "collapsed": false
   },
   "outputs": [
    {
     "name": "stdout",
     "output_type": "stream",
     "text": [
      "Size of corpus for topic 'politics' is 383 texts\n",
      "Size of corpus for topic 'sport' is 115 texts\n",
      "Size of corpus for topic 'accidents' is 191 texts\n"
     ]
    }
   ],
   "source": [
    "corpus_politics = []\n",
    "corpus_sport = []\n",
    "corpus_accidents = []\n",
    "\n",
    "for topic,cid in topics.iteritems():\n",
    "    for date in xrange(1, 6):\n",
    "            main_page = html.parse('http://www.vesti.ru/section.html?' + cid + '&date=0' + str(date) + '.06.2016')\n",
    "            # Получаем url для новостей определенным топиком\n",
    "            urls = main_page.getroot().xpath('//div[@class=\"news-wrapper_section\"]//h3//a[@href]/@href')\n",
    "            for url in urls:\n",
    "                page = html.parse(base_url + url)\n",
    "                # Получаем текст статьи\n",
    "                text = page.getroot().xpath('//div[@class=\"article__text\"]//p/text()')\n",
    "                # Декодируем текст\n",
    "                text = [''.join(t).encode('utf-8', 'ignore').decode('utf-8') for t in text]\n",
    "                page_text = ''.join(text)\n",
    "                # Удаляем лишние переходы на новые строки и пропуски\n",
    "                page_text = page_text.replace('\\n', ' ').replace('\\r', '')\n",
    "                page_text = \" \".join(page_text.split())\n",
    "                if topic == 'politics':\n",
    "                    corpus_politics.append(page_text)\n",
    "                if topic == 'sport':\n",
    "                    corpus_sport.append(page_text)\n",
    "                if topic == 'accidents':\n",
    "                    corpus_accidents.append(page_text)\n",
    "                    \n",
    "print(\"Size of corpus for topic 'politics' is {} texts\".format(len(corpus_politics)))\n",
    "print(\"Size of corpus for topic 'sport' is {} texts\".format(len(corpus_sport)))\n",
    "print(\"Size of corpus for topic 'accidents' is {} texts\".format(len(corpus_accidents)))"
   ]
  },
  {
   "cell_type": "code",
   "execution_count": 4,
   "metadata": {
    "collapsed": false
   },
   "outputs": [
    {
     "name": "stdout",
     "output_type": "stream",
     "text": [
      "Кандидат от демократической партии США готова объединиться со своим однопартийцем и конкурентом – все ради того, чтобы вместе противостоять республиканцу Дональду Трампу.Этот вопрос она уже начала обсуждать с представителями Сандерса. Экс-госсекретарь США верит, что ей удастся объединиться со своим конкурентом по праймериз. \"Мы оба сделаем все, что сможем, чтобы не пустить Дональда Трампа к Белому дому\", — пообещала она. Клинтон и Сандерс, возможно, проведут переговоры по объединению партии 7 июня, сообщает . состоятся 8 ноября 2016 года. От республиканцев в них будет участвовать скандальный миллиардер Дональд Трамп, набравший, несмотря на свои выходки, необходимые 1237 голосов партийных делегатов. Ему будет противостоять кандидат от демократов — либо Клинтон, либо Сандерс.\n"
     ]
    }
   ],
   "source": [
    "print(corpus_politics[3])"
   ]
  },
  {
   "cell_type": "code",
   "execution_count": 12,
   "metadata": {
    "collapsed": false
   },
   "outputs": [
    {
     "name": "stdout",
     "output_type": "stream",
     "text": [
      "Главный тренер сборной Хорватии Анте Чачич назвал имена 23-х футболистов, которым предстоит выступить на чемпионате Европы во Франции. В состав команды вошел защитник \"Локомотива\" Ведран Чорлука.Для тридцатилетнего Чорлуки нынешний чемпионат Европы станет третьим в карьере. Ранее он принимал участие в турнирах 2008 и 2012 годов. Поедет на первенство континента и бывший защитник московского \"Динамо\" Гордон Шильденфельд, ныне выступающий за другое \"Динамо\" – загребское.Полностью заявка сборной Хорватии, куда вошли 23 игрока, на Евро-2016 выглядит следующим образом: вратари – Даниел Субашич (\"Монако\"), Ловре Калинич (\"Хайдук\"), Иван Варгич (\"Риека\"); защитники — Дарио Срна (\"Шахтер\", Украина), Ведран Чорлука (\"Локомотив\" Москва), Шиме Врсалько (\"Сассуоло\", Италия), Домагой Вида (\"Динамо\" Киев, Украина), Иван Стринич (\"Наполи\", Италия), Гордон Шильденфельд (\"Динамо\" Загреб), Тин Едвай (\"Байер\", Германия); полузащитники — Иван Ракитич (\"Барселона\", Испания), Лука Модрич, Матео Ковачич (оба — \"Реал\", Испания), Милан Бадель (\"Фиорентина\", Италия), Иван Перишич, Марсело Брозович (оба — \"Интер\", Италия), Марко Рог, Анте Чорич (оба — \"Динамо\" Загреб); нападающие — Марио Манджукич (\"Ювентус\", Италия), Никола Калинич (\"Фиорентина\", Италия), Андрей Крамарич (\"Хоффенхайм\", Германия), Дуе Чоп (\"Малага\", Испания), Марко Пьяца (\"Динамо\" Загреб).Сборная Хорватии выступит на групповом этапе в квартете D, где ее соперниками станут команды Испании, Турции и Чехии.\n"
     ]
    }
   ],
   "source": [
    "print(corpus_sport[7])"
   ]
  },
  {
   "cell_type": "code",
   "execution_count": 24,
   "metadata": {
    "collapsed": false
   },
   "outputs": [
    {
     "name": "stdout",
     "output_type": "stream",
     "text": [
      "Жертвами группы хакеров стали шесть российских банков. Полусотня киберпреступников в марте-апреле 2016 года атаковали Металлинвестбанк, Русский международный банк, \"Метрополь\" и \"Регнум\". .Операция по нейтрализации хакеров началась после того, как они атаковали одну из дочерних организаций Сбербанка. Но служба кибербезопасности Сбербанка успешно отразила атаку, сообщает . Информацию о попытке внедрения вируса в систему Сбербанк передал в МВД и ФСБ, которые начали специальную операцию.В ее ходе при помощи Лаборатории Касперского было установлено, что преступная группа атаковала банки с помощью банковского трояна Lurk. Киберпреступники получили удаленный доступ к системам Металлинвестбанка. Из этого банка они похитили 680 миллионов рублей, которые перевели на подконтрольные счета.При этом по размерам активов Металлинвестбанк занимает 89 место среди российских банков. Остальные банки, системы которых были поражены вирусом, находятся за пределами первой сотни. У банка \"Регнум\" лицензия была отозвана в феврале 2016 года.С середины 2015 года киберпреступники осуществили как минимум 18 целевых атак на автоматизированные рабочие места клиентов банков. Ущерб от действий хакеров превысил 3 миллиарда рублей. Полицейские предотвратили возможный дополнительный ущерб на сумму свыше 2,2 миллиарда рублей.Сотрудники МВД и ФСБ в ходе операции по пресечению преступной деятельности полусотни хакеров провели 86 обысков. Они подтвердили причастность подозреваемых к созданию бот-сетей зараженных компьютеров, организации атак на инфраструктуру банков и хищению денег. Операция проводилась одновременно в .Полиция задержала троих организаторов и 11 основных участников хакерской группы в Свердловской области. Фигуранты доставлены в Москву. Восемнадцати взломщикам уже предъявлено обвинение.Ликвидация группы похитивших из банков почти 2 миллиарда рублей хакеров стала по задержанию группы киберпреступников.\n"
     ]
    }
   ],
   "source": [
    "print(corpus_accidents[17])"
   ]
  },
  {
   "cell_type": "code",
   "execution_count": 13,
   "metadata": {
    "collapsed": true
   },
   "outputs": [],
   "source": [
    "# Считываем из файла биграммы и триграммы (НКРЯ)\n",
    "def load_ngrams(input_file):\n",
    "    input_f = io.open(input_file, \"r\", encoding='utf8')\n",
    "    n_dict = {}\n",
    "    for line in input_f:\n",
    "        line = line.replace('\\n', '').split('\\t')\n",
    "        n_dict[tuple(line[0:])] = int(line[0])\n",
    "    input_f.close()\n",
    "    return n_dict"
   ]
  },
  {
   "cell_type": "code",
   "execution_count": 14,
   "metadata": {
    "collapsed": false
   },
   "outputs": [
    {
     "name": "stdout",
     "output_type": "stream",
     "text": [
      "6750525\n"
     ]
    }
   ],
   "source": [
    "bigrams = load_ngrams(\"C:/Users/kvoronaya/Documents/perplexity/2grams-3.txt\")\n",
    "print len(bigrams.keys())"
   ]
  },
  {
   "cell_type": "code",
   "execution_count": 15,
   "metadata": {
    "collapsed": false
   },
   "outputs": [
    {
     "name": "stdout",
     "output_type": "stream",
     "text": [
      "4655170\n"
     ]
    }
   ],
   "source": [
    "threegrams = load_ngrams(\"C:/Users/kvoronaya/Documents/perplexity/3grams-3.txt\")\n",
    "print len(threegrams.keys())"
   ]
  },
  {
   "cell_type": "code",
   "execution_count": 16,
   "metadata": {
    "collapsed": true
   },
   "outputs": [],
   "source": [
    "# Разбиваем корпус по словам\n",
    "def tokenize(corpus):\n",
    "    news_list = corpus\n",
    "    words = []\n",
    "    for text in news_list:\n",
    "        text_str = ''.join(text)\n",
    "        line = nltk.word_tokenize(text_str)\n",
    "        line = [word.encode(\"utf-8\").decode(\"utf-8\").lower() for word in line if word not in string.punctuation\n",
    "                        and word not in [u'\\u2012', u'\\u2013', u'\\u2014', u'\\u2015', u'``', u\"''\"]]\n",
    "        words += line\n",
    "    return words"
   ]
  },
  {
   "cell_type": "code",
   "execution_count": 19,
   "metadata": {
    "collapsed": false
   },
   "outputs": [],
   "source": [
    "tokenize_politics =  tokenize(corpus_politics)"
   ]
  },
  {
   "cell_type": "code",
   "execution_count": 26,
   "metadata": {
    "collapsed": true
   },
   "outputs": [],
   "source": [
    "tokenize_sport =  tokenize(corpus_sport)"
   ]
  },
  {
   "cell_type": "code",
   "execution_count": 27,
   "metadata": {
    "collapsed": true
   },
   "outputs": [],
   "source": [
    "tokenize_accidents =  tokenize(corpus_accidents)"
   ]
  },
  {
   "cell_type": "code",
   "execution_count": 28,
   "metadata": {
    "collapsed": true
   },
   "outputs": [],
   "source": [
    "def find_perplexity(category, n3_gram, n2_gram):\n",
    "    sum_probability = 0\n",
    "    unknown_words = 0\n",
    "    min_probability = 1\n",
    "    sum_log = 0\n",
    "    \n",
    "    current_probability= {}\n",
    "    \n",
    "    for i in range(2, len(category)):\n",
    "        try:\n",
    "            current_probability[i] = (n3_gram[(category[i-2], category[i-1], category[i])] + 0.0) \n",
    "            / n2_gram[(category[i-2],category[i-1])]\n",
    "            sum_probability += current_probability\n",
    "            if current_probability[i] < min_probability:\n",
    "                min_probability = current_probability[i]\n",
    "        except KeyError:\n",
    "            unknown_words +=1\n",
    "    print (unknown_words, len(category), sum_probability)\n",
    "    known_words = len(category) - unknown_words\n",
    "    min_probability /= 10.0\n",
    "    probability_to_substract = (unknown_words * min_probability + 0.0) / known_words\n",
    "    for i in range(2, len(category)):\n",
    "        try:\n",
    "            sum_log += math.log(current_probability[i] - probability_to_substract, 2)\n",
    "        except KeyError:\n",
    "            sum_log += math.log(min_probability, 2)\n",
    "\n",
    "    return sum_log"
   ]
  },
  {
   "cell_type": "code",
   "execution_count": 35,
   "metadata": {
    "collapsed": false
   },
   "outputs": [
    {
     "name": "stdout",
     "output_type": "stream",
     "text": [
      "(88076, 88078, 0)\n",
      "Perplexity for topic 'politics' is 9.99947716235\n"
     ]
    }
   ],
   "source": [
    "politics_perplexity = find_perplexity(tokenize_politics, bigrams, threegrams)\n",
    "\n",
    "perplexity = 2**(-politics_perplexity / len(tokenize_politics))\n",
    "print(\"Perplexity for topic 'politics' is {}\".format(perplexity))"
   ]
  },
  {
   "cell_type": "code",
   "execution_count": 36,
   "metadata": {
    "collapsed": false
   },
   "outputs": [
    {
     "name": "stdout",
     "output_type": "stream",
     "text": [
      "(15571, 15573, 0)\n",
      "Perplexity for topic 'sport' is 9.99704328689\n"
     ]
    }
   ],
   "source": [
    "sport_perplexity = find_perplexity(tokenize_sport, bigrams, threegrams)\n",
    "\n",
    "perplexity = 2**(-sport_perplexity / len(tokenize_sport))\n",
    "print(\"Perplexity for topic 'sport' is {}\".format(perplexity))"
   ]
  },
  {
   "cell_type": "code",
   "execution_count": 34,
   "metadata": {
    "collapsed": false
   },
   "outputs": [
    {
     "name": "stdout",
     "output_type": "stream",
     "text": [
      "(21147, 21149, 0)\n",
      "Perplexity for topic 'accidents' is 9.99782274868\n"
     ]
    }
   ],
   "source": [
    "accidents_perplexity = find_perplexity(tokenize_accidents, bigrams, threegrams)\n",
    "\n",
    "perplexity = 2**(-accidents_perplexity / len(tokenize_accidents))\n",
    "print(\"Perplexity for topic 'accidents' is {}\".format(perplexity))"
   ]
  },
  {
   "cell_type": "markdown",
   "metadata": {},
   "source": [
    "### Значение perplexity для трех корпусов получилось почти одинаковым. Но все же для корпуса с топиком 'sport' оно чуть меньше, чем для остальных. Поэтому можно сказать, что текущая вероятностная модель корпуса с топиком 'sport' имеет лучшею предсказательную способность, чем остальные две вероятностные модели для корпусов с топиками 'politics' & 'accidents'. "
   ]
  },
  {
   "cell_type": "code",
   "execution_count": null,
   "metadata": {
    "collapsed": true
   },
   "outputs": [],
   "source": []
  }
 ],
 "metadata": {
  "kernelspec": {
   "display_name": "Python 2",
   "language": "python",
   "name": "python2"
  },
  "language_info": {
   "codemirror_mode": {
    "name": "ipython",
    "version": 2
   },
   "file_extension": ".py",
   "mimetype": "text/x-python",
   "name": "python",
   "nbconvert_exporter": "python",
   "pygments_lexer": "ipython2",
   "version": "2.7.11"
  }
 },
 "nbformat": 4,
 "nbformat_minor": 0
}
