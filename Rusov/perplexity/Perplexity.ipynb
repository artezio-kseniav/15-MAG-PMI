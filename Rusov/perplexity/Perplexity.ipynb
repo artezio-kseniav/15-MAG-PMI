{
 "cells": [
  {
   "cell_type": "code",
   "execution_count": null,
   "metadata": {
    "collapsed": false
   },
   "outputs": [],
   "source": [
    "import nltk\n",
    "from re import compile\n",
    "import string\n",
    "import io"
   ]
  },
  {
   "cell_type": "code",
   "execution_count": null,
   "metadata": {
    "collapsed": false
   },
   "outputs": [],
   "source": [
    "with open('corpus.csv', 'rb') as csvfile:\n",
    "    spamreader = csvfile.readlines()"
   ]
  },
  {
   "cell_type": "code",
   "execution_count": null,
   "metadata": {
    "collapsed": false
   },
   "outputs": [],
   "source": [
    "corpus = []"
   ]
  },
  {
   "cell_type": "code",
   "execution_count": null,
   "metadata": {
    "collapsed": false
   },
   "outputs": [],
   "source": [
    "for l in xrange(0,len(spamreader)):\n",
    "    if spamreader[l].startswith('informatika;') or spamreader[l].startswith('istoriya-istoricheskie-nauki;'):\n",
    "        a_lines = spamreader[l].split(';')\n",
    "        art = [a_lines[0], a_lines[1], a_lines[2]]\n",
    "        corpus.append(art)\n",
    "    else:\n",
    "        corpus[-1][2] +=  spamreader[l]\n",
    "print corpus.__len__()"
   ]
  },
  {
   "cell_type": "code",
   "execution_count": null,
   "metadata": {
    "collapsed": false
   },
   "outputs": [],
   "source": [
    "del spamreader\n",
    "\n",
    "hist = [art for art in corpus if art[0] == 'istoriya-istoricheskie-nauki']\n",
    "info = [art for art in corpus if art[0] == 'informatika']"
   ]
  },
  {
   "cell_type": "code",
   "execution_count": null,
   "metadata": {
    "collapsed": true
   },
   "outputs": [],
   "source": [
    "def load_ngrams(input_file):\n",
    "    input_f = io.open(input_file, \"r\", encoding='utf8')\n",
    "    n_dict = {}\n",
    "    for line in input_f:\n",
    "        line = line.replace('\\n', '').split('\\t')\n",
    "        n_dict[tuple(line[0:])] = int(line[0])\n",
    "    input_f.close()\n",
    "    return n_dict\n",
    "\n",
    "def tokenize(corpus):\n",
    "    news_list = corpus\n",
    "    words = []\n",
    "    for text in news_list:\n",
    "        text_str = ''.join(text[2])\n",
    "        line = nltk.word_tokenize(text_str)\n",
    "        line = [word.encode(\"utf-8\").decode(\"utf-8\").lower() for word in line if word not in string.punctuation\n",
    "                        and word not in [u'\\u2012', u'\\u2013', u'\\u2014', u'\\u2015', u'``', u\"''\"]]\n",
    "        words += line\n",
    "    return words\n",
    "\n",
    "\n",
    "\n",
    "def calculate_perplexity(category, n3_gram, n2_gram):\n",
    "    sum_probability = 0\n",
    "    unknown_words = 0\n",
    "    min_probability = 1\n",
    "    sum_log = 0\n",
    "    \n",
    "    current_probability= {}\n",
    "    \n",
    "    for i in xrange(2, len(category)):\n",
    "        try:\n",
    "            current_probability[i] = (n3_gram[(category[i-2], category[i-1], category[i])] + 0.0) \n",
    "            / n2_gram[(category[i-2],category[i-1])]\n",
    "            sum_probability += current_probability\n",
    "            if current_probability[i] < min_probability:\n",
    "                min_probability = current_probability[i]\n",
    "        except KeyError:\n",
    "            unknown_words +=1\n",
    "    print (unknown_words, len(category), sum_probability)\n",
    "    known_words = len(category) - unknown_words\n",
    "    min_probability /= 10.0\n",
    "    probability_to_substract = (unknown_words * min_probability + 0.0) / known_words\n",
    "    for i in xrange(2, len(category)):\n",
    "        try:\n",
    "            sum_log += math.log(current_probability[i] - probability_to_substract, 2)\n",
    "        except KeyError:\n",
    "            sum_log += math.log(min_probability, 2)\n",
    "\n",
    "    return sum_log"
   ]
  },
  {
   "cell_type": "code",
   "execution_count": null,
   "metadata": {
    "collapsed": false
   },
   "outputs": [],
   "source": [
    "def tokenize2(corpus):\n",
    "    news_list = corpus\n",
    "    words = []\n",
    "    r = compile('^[а-яА-Я]+')\n",
    "    for text in news_list:\n",
    "        russian = [w for w in filter(r.match, text[2].split(' ')  )]\n",
    "        lower = [word.decode(\"utf-8\").lower()\n",
    "                 for word in russian if word not in string.punctuation\n",
    "                        and word not in [u'\\u2012', u'\\u2013', u'\\u2014', u'\\u2015', u'``', u\"''\"]\n",
    "                ]\n",
    "        words += russian\n",
    "    return words\n",
    "\n",
    "tokenized_hist =  tokenize2(hist)\n",
    "tokenized_info =  tokenize2(info)"
   ]
  },
  {
   "cell_type": "code",
   "execution_count": null,
   "metadata": {
    "collapsed": false
   },
   "outputs": [],
   "source": [
    "gram2 = load_ngrams(\"2grams-3.txt\")\n",
    "gram3 = load_ngrams(\"3grams-3.txt\")"
   ]
  },
  {
   "cell_type": "code",
   "execution_count": null,
   "metadata": {
    "collapsed": true
   },
   "outputs": [],
   "source": [
    "perplexity_hist = calculate_perplexity(tokenized_hist, gram2, gram3)\n",
    "perplexity_info = calculate_perplexity(tokenized_info, gram2, gram3)\n",
    "\n",
    "history_perplexity = 2**(-perplexity_hist / len(tokenized_hist))\n",
    "informatics_perplexity = 2**(-perplexity_info / len(tokenized_info))"
   ]
  }
 ],
 "metadata": {
  "kernelspec": {
   "display_name": "Python 2",
   "language": "python",
   "name": "python2"
  },
  "language_info": {
   "codemirror_mode": {
    "name": "ipython",
    "version": 2
   },
   "file_extension": ".py",
   "mimetype": "text/x-python",
   "name": "python",
   "nbconvert_exporter": "python",
   "pygments_lexer": "ipython2",
   "version": "2.7.10"
  }
 },
 "nbformat": 4,
 "nbformat_minor": 0
}
