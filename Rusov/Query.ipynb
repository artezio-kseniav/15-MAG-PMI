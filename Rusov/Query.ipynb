{
 "cells": [
  {
   "cell_type": "code",
   "execution_count": 1,
   "metadata": {
    "collapsed": true
   },
   "outputs": [],
   "source": [
    "from __future__ import print_function\n",
    "\n",
    "from sklearn.datasets import fetch_20newsgroups\n",
    "from sklearn.decomposition import TruncatedSVD\n",
    "from sklearn.feature_extraction.text import TfidfVectorizer\n",
    "from sklearn.feature_extraction.text import TfidfTransformer\n",
    "from sklearn.pipeline import make_pipeline\n",
    "from sklearn.preprocessing import Normalizer\n",
    "from sklearn import metrics\n",
    "\n",
    "import numpy as np\n",
    "import matplotlib.pyplot as plt"
   ]
  },
  {
   "cell_type": "code",
   "execution_count": 2,
   "metadata": {
    "collapsed": false
   },
   "outputs": [
    {
     "name": "stdout",
     "output_type": "stream",
     "text": [
      "3958 documents\n",
      "4 categories\n",
      "\n"
     ]
    }
   ],
   "source": [
    "categories=['comp.os.ms-windows.misc', 'rec.autos','rec.motorcycles', 'sci.space']\n",
    "dataset = fetch_20newsgroups(subset='all', categories=categories)\n",
    "print(\"%d documents\" % len(dataset.data))\n",
    "print(\"%d categories\" % len(dataset.target_names))\n",
    "print()"
   ]
  },
  {
   "cell_type": "code",
   "execution_count": 3,
   "metadata": {
    "collapsed": false
   },
   "outputs": [
    {
     "name": "stdout",
     "output_type": "stream",
     "text": [
      "n_samples: 3958, n_features: 83011\n",
      "\n"
     ]
    }
   ],
   "source": [
    "labels = dataset.target\n",
    "true_k = np.unique(labels).shape[0]\n",
    "\n",
    "vectorizer = TfidfVectorizer(stop_words='english', use_idf=True)\n",
    "\n",
    "\n",
    "X = vectorizer.fit_transform(dataset.data)\n",
    "\n",
    "print(\"n_samples: %d, n_features: %d\" % X.shape)\n",
    "print()"
   ]
  },
  {
   "cell_type": "code",
   "execution_count": 4,
   "metadata": {
    "collapsed": false
   },
   "outputs": [],
   "source": [
    "from sklearn.feature_extraction.text import TfidfTransformer\n",
    "from sklearn.metrics.pairwise import cosine_similarity\n",
    "\n",
    "query = [\"drive Honda\"] #Query\n",
    "\n",
    "trainVectorizerArray = vectorizer.fit_transform(dataset.data)\n",
    "testVectorizerArray = vectorizer.transform(query)"
   ]
  },
  {
   "cell_type": "code",
   "execution_count": 5,
   "metadata": {
    "collapsed": false
   },
   "outputs": [],
   "source": [
    "i_dists = {}\n",
    "for i in xrange(0, np.shape(trainVectorizerArray)[0]):\n",
    "    similarity = cosine_similarity(trainVectorizerArray[i], testVectorizerArray)\n",
    "    if similarity:\n",
    "        i_dists[i] = ()"
   ]
  },
  {
   "cell_type": "code",
   "execution_count": 6,
   "metadata": {
    "collapsed": false
   },
   "outputs": [
    {
     "name": "stdout",
     "output_type": "stream",
     "text": [
      "Articles found: 459\n"
     ]
    }
   ],
   "source": [
    "print ('Articles found: %i' % len(i_dists))\n",
    "\n",
    "TOP10 = sorted(i_dists, reverse=True, key=i_dists.get)[0:10]"
   ]
  },
  {
   "cell_type": "code",
   "execution_count": 7,
   "metadata": {
    "collapsed": false
   },
   "outputs": [
    {
     "name": "stdout",
     "output_type": "stream",
     "text": [
      "======================================\n",
      "The number in the dataset: 2049 topic: rec.motorcycles\n",
      "======================================\n",
      "The number in the dataset: 2 topic: comp.os.ms-windows.misc\n",
      "======================================\n",
      "The number in the dataset: 2058 topic: rec.motorcycles\n",
      "======================================\n",
      "The number in the dataset: 2060 topic: rec.autos\n",
      "======================================\n",
      "The number in the dataset: 19 topic: rec.autos\n",
      "======================================\n",
      "The number in the dataset: 2068 topic: comp.os.ms-windows.misc\n",
      "======================================\n",
      "The number in the dataset: 346 topic: rec.autos\n",
      "======================================\n",
      "The number in the dataset: 2084 topic: rec.autos\n",
      "======================================\n",
      "The number in the dataset: 2087 topic: rec.autos\n",
      "======================================\n",
      "The number in the dataset: 43 topic: comp.os.ms-windows.misc\n"
     ]
    }
   ],
   "source": [
    "for article_index in TOP10:\n",
    "    print ('======================================')\n",
    "    print ('The number in the dataset: %i topic: %s' % (article_index, categories[labels[article_index]]) )\n",
    "    #print (dataset.data[article_index]) # show the text"
   ]
  },
  {
   "cell_type": "code",
   "execution_count": null,
   "metadata": {
    "collapsed": true
   },
   "outputs": [],
   "source": []
  }
 ],
 "metadata": {
  "kernelspec": {
   "display_name": "Python 2",
   "language": "python",
   "name": "python2"
  },
  "language_info": {
   "codemirror_mode": {
    "name": "ipython",
    "version": 2
   },
   "file_extension": ".py",
   "mimetype": "text/x-python",
   "name": "python",
   "nbconvert_exporter": "python",
   "pygments_lexer": "ipython2",
   "version": "2.7.10"
  }
 },
 "nbformat": 4,
 "nbformat_minor": 0
}
