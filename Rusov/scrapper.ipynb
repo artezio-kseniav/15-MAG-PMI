{
 "cells": [
  {
   "cell_type": "code",
   "execution_count": 1,
   "metadata": {
    "collapsed": false
   },
   "outputs": [],
   "source": [
    "import os\n",
    "import urllib2\n",
    "from bs4 import BeautifulSoup"
   ]
  },
  {
   "cell_type": "code",
   "execution_count": 2,
   "metadata": {
    "collapsed": true
   },
   "outputs": [],
   "source": [
    "base_url = 'https://www.rt.com/listing/last-news.category.%s/prepare/default/200/0/'\n",
    "categories = ['uk', 'politics', 'usa', 'business', 'sport']"
   ]
  },
  {
   "cell_type": "code",
   "execution_count": 3,
   "metadata": {
    "collapsed": false
   },
   "outputs": [
    {
     "name": "stdout",
     "output_type": "stream",
     "text": [
      "uk: 200\n",
      "politics: 200\n",
      "usa: 200\n",
      "business: 200\n",
      "sport: 200\n"
     ]
    }
   ],
   "source": [
    "urls_by_categories = {}\n",
    "for category in categories:\n",
    "    tmpurls = []\n",
    "    \n",
    "    page = urllib2.urlopen(base_url % category)\n",
    "    soup = BeautifulSoup(page)\n",
    "\n",
    "    articles = soup.findAll('strong')\n",
    "    print '%s: %s' % (category, len(articles))\n",
    "\n",
    "    for article in articles:\n",
    "        title = article.contents[0]\n",
    "        if title.has_attr('href'):\n",
    "            tmpurl = 'https://www.rt.com' + title.get('href').strip()\n",
    "            tmpurls.append(tmpurl)\n",
    "    urls_by_categories[category] = tmpurls"
   ]
  },
  {
   "cell_type": "code",
   "execution_count": 4,
   "metadata": {
    "collapsed": false
   },
   "outputs": [],
   "source": [
    "corpus = []\n",
    "for cat, urls in urls_by_categories.iteritems():\n",
    "    for url in urls:\n",
    "        page = urllib2.urlopen(url)\n",
    "        soup = BeautifulSoup(page)\n",
    "\n",
    "        headings = soup.findAll('h1', attrs={'class': 'article__heading'})\n",
    "        title = headings[0].text.strip()\n",
    "\n",
    "        paragraphes = soup.findAll('div', attrs={'class': 'article__text text '})\n",
    "        text = ''\n",
    "        for element in paragraphes[0].findAll('p'):\n",
    "            text += element.text\n",
    "        \n",
    "        ready_article = (cat, title, text)\n",
    "        corpus.append(ready_article)"
   ]
  },
  {
   "cell_type": "code",
   "execution_count": 5,
   "metadata": {
    "collapsed": false
   },
   "outputs": [
    {
     "data": {
      "text/plain": [
       "1000"
      ]
     },
     "execution_count": 5,
     "metadata": {},
     "output_type": "execute_result"
    }
   ],
   "source": [
    "len(corpus)"
   ]
  },
  {
   "cell_type": "code",
   "execution_count": 6,
   "metadata": {
    "collapsed": false
   },
   "outputs": [],
   "source": [
    "f = open('corpus.csv', 'w')\n",
    "for article in corpus:\n",
    "    f.write('%s;%s;text: %s\\r\\n' % (article[0].encode('utf8'), article[1].encode('utf8'), article[2].encode('utf8')))\n",
    "\n",
    "f.close()"
   ]
  }
 ],
 "metadata": {
  "kernelspec": {
   "display_name": "Python 2",
   "language": "python",
   "name": "python2"
  },
  "language_info": {
   "codemirror_mode": {
    "name": "ipython",
    "version": 2
   },
   "file_extension": ".py",
   "mimetype": "text/x-python",
   "name": "python",
   "nbconvert_exporter": "python",
   "pygments_lexer": "ipython2",
   "version": "2.7.10"
  }
 },
 "nbformat": 4,
 "nbformat_minor": 0
}
