{
 "cells": [
  {
   "cell_type": "code",
   "execution_count": 1,
   "metadata": {
    "collapsed": true
   },
   "outputs": [],
   "source": [
    "import string\n",
    "import numpy as np\n",
    "import nltk\n",
    "from sklearn.datasets import fetch_20newsgroups\n",
    "from sklearn.feature_extraction.text import TfidfVectorizer\n",
    "from nltk.stem.porter import PorterStemmer\n",
    "from sklearn.metrics.pairwise import cosine_similarity"
   ]
  },
  {
   "cell_type": "code",
   "execution_count": 2,
   "metadata": {
    "collapsed": true
   },
   "outputs": [],
   "source": [
    "corpus = fetch_20newsgroups(categories=['sci.space', 'rec.autos', 'comp.sys.ibm.pc.hardware', 'talk.politics.guns'])"
   ]
  },
  {
   "cell_type": "code",
   "execution_count": 3,
   "metadata": {
    "collapsed": false
   },
   "outputs": [
    {
     "name": "stdout",
     "output_type": "stream",
     "text": [
      "['comp.sys.ibm.pc.hardware', 'rec.autos', 'sci.space', 'talk.politics.guns']\n",
      "2323\n",
      "4\n"
     ]
    }
   ],
   "source": [
    "print corpus.target_names\n",
    "print len(corpus.data)\n",
    "print len(corpus.target_names)"
   ]
  },
  {
   "cell_type": "code",
   "execution_count": 4,
   "metadata": {
    "collapsed": true
   },
   "outputs": [],
   "source": [
    "stemmer = nltk.stem.porter.PorterStemmer()\n",
    "\n",
    "def stem_tokens(tokens, stemmer):\n",
    "    stemmed = []\n",
    "    for item in tokens:\n",
    "        stemmed.append(stemmer.stem(item))\n",
    "    return stemmed\n",
    "\n",
    "def tokenize(text):\n",
    "    tokens = nltk.word_tokenize(text)\n",
    "    tokens = [i for i in tokens if i not in string.punctuation]\n",
    "    stems = stem_tokens(tokens, stemmer)\n",
    "    return stems"
   ]
  },
  {
   "cell_type": "code",
   "execution_count": 6,
   "metadata": {
    "collapsed": false
   },
   "outputs": [
    {
     "name": "stdout",
     "output_type": "stream",
     "text": [
      "[nltk_data] Downloading package punkt to /root/nltk_data...\n",
      "[nltk_data]   Unzipping tokenizers/punkt.zip.\n"
     ]
    }
   ],
   "source": [
    "nltk.download('punkt')\n",
    "corpus_vectorizer = TfidfVectorizer(stop_words='english', tokenizer=tokenize)\n",
    "corpus_tfidf = corpus_vectorizer.fit_transform(corpus.data)"
   ]
  },
  {
   "cell_type": "code",
   "execution_count": 13,
   "metadata": {
    "collapsed": false
   },
   "outputs": [
    {
     "name": "stdout",
     "output_type": "stream",
     "text": [
      "0.180931103348 : Re: Most bang for between $13,000 and $16,000\n",
      "0.180537486666 : Re: Most bang for between $13,000 and $16,000\n",
      "0.151836673237 : Re: Most bang for between $13,000 and $16,000\n",
      "0.143137745565 : Re: Most bang for $13k\n",
      "0.127799871861 : Re: Most bang for $13k\n",
      "0.105673041658 : Re: Most bang for between $13,000 and $16,000\n",
      "0.105628130783 : Re: Moonbase race, NASA resources, why?\n",
      "0.0940411532946 : ** DO NOT ROTATE INTERRUPTER ** WOOPS!!  HELP!!\n",
      "0.0866055726317 : Re: Most bang for between $13,000 and $16,000\n",
      "0.0813153345173 : Re: Zeos Computers\n"
     ]
    }
   ],
   "source": [
    "my_query = \"big bang\"\n",
    "vect_tfidf = corpus_vectorizer.transform([my_query])\n",
    "similarities = []\n",
    "for i in xrange(corpus_tfidf.shape[0]):\n",
    "    similarities.append((corpus.data[i], cosine_similarity(corpus_tfidf[i], vect_tfidf)))\n",
    "similarities = sorted(similarities, key=lambda x:x[1], reverse=True)[:10]\n",
    "    \n",
    "for x in similarities:\n",
    "        print x[1][0][0], x[0].split('\\n')[1].replace('Subject', '')"
   ]
  },
  {
   "cell_type": "code",
   "execution_count": null,
   "metadata": {
    "collapsed": true
   },
   "outputs": [],
   "source": []
  }
 ],
 "metadata": {
  "kernelspec": {
   "display_name": "Python 2",
   "language": "python",
   "name": "python2"
  },
  "language_info": {
   "codemirror_mode": {
    "name": "ipython",
    "version": 2
   },
   "file_extension": ".py",
   "mimetype": "text/x-python",
   "name": "python",
   "nbconvert_exporter": "python",
   "pygments_lexer": "ipython2",
   "version": "2.7.11"
  }
 },
 "nbformat": 4,
 "nbformat_minor": 0
}
