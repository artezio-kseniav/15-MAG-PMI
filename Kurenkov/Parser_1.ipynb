{
 "cells": [
  {
   "cell_type": "code",
   "execution_count": 5,
   "metadata": {
    "collapsed": true
   },
   "outputs": [],
   "source": [
    "import lxml.html as html"
   ]
  },
  {
   "cell_type": "code",
   "execution_count": 6,
   "metadata": {
    "collapsed": true
   },
   "outputs": [],
   "source": [
    "base_adress = \"http://ria.ru\""
   ]
  },
  {
   "cell_type": "code",
   "execution_count": 36,
   "metadata": {
    "collapsed": false
   },
   "outputs": [],
   "source": [
    "for theme in [\"politics\", \"sport\"]:\n",
    "    texts = []\n",
    "    i = -1\n",
    "    for url in [(\"http://ria.ru/\" + theme + \"/\" + str(j)) for j in (range(20160501, 20160532) + range(20160401, 20160431))]:\n",
    "        links = []\n",
    "        page = html.parse(url)\n",
    "        news = page.getroot().find_class('b-list__item')\n",
    "        for article in news:\n",
    "            for link in article.getchildren()[0].iterlinks():\n",
    "                if link[1] == \"href\":\n",
    "                    links.append(link[2])\n",
    "        for link in links:\n",
    "            texts.append(\"\")\n",
    "            i += 1\n",
    "            page = html.parse(base_adress + link)\n",
    "            for paragraphs in page.getroot().find_class('b-article__body'):\n",
    "                for paragraph in paragraphs.getchildren():\n",
    "                    if paragraph.tag == 'p':\n",
    "                        texts[i] += (paragraph.text_content() + \" \")\n",
    "    txt = open(\"texts_\" + theme + \".txt\", \"w\")\n",
    "    for text in texts:\n",
    "        txt.write(text.encode(\"utf-8\") + \"\\n\\n\\n\")\n",
    "    txt.close()"
   ]
  }
 ],
 "metadata": {
  "kernelspec": {
   "display_name": "Python 2",
   "language": "python",
   "name": "python2"
  },
  "language_info": {
   "codemirror_mode": {
    "name": "ipython",
    "version": 2
   },
   "file_extension": ".py",
   "mimetype": "text/x-python",
   "name": "python",
   "nbconvert_exporter": "python",
   "pygments_lexer": "ipython2",
   "version": "2.7.10"
  }
 },
 "nbformat": 4,
 "nbformat_minor": 0
}
