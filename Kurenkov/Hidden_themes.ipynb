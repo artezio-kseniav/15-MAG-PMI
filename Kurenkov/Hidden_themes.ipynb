{
 "cells": [
  {
   "cell_type": "markdown",
   "metadata": {},
   "source": [
    "### По корпусу 20newsgroups"
   ]
  },
  {
   "cell_type": "code",
   "execution_count": 2,
   "metadata": {
    "collapsed": true
   },
   "outputs": [],
   "source": [
    "from sklearn.datasets import fetch_20newsgroups\n",
    "from sklearn.feature_extraction.text import TfidfVectorizer\n",
    "import sklearn.cluster\n",
    "import sklearn.decomposition"
   ]
  },
  {
   "cell_type": "code",
   "execution_count": 3,
   "metadata": {
    "collapsed": false
   },
   "outputs": [],
   "source": [
    "corpus = fetch_20newsgroups()\n",
    "tfidf = TfidfVectorizer()\n",
    "tfidf_matrix = tfidf.fit_transform(corpus.data) # Transform corpus into tf-idf matrix."
   ]
  },
  {
   "cell_type": "code",
   "execution_count": 4,
   "metadata": {
    "collapsed": false
   },
   "outputs": [
    {
     "data": {
      "text/plain": [
       "TruncatedSVD(algorithm='randomized', n_components=20, n_iter=5,\n",
       "       random_state=None, tol=0.0)"
      ]
     },
     "execution_count": 4,
     "metadata": {},
     "output_type": "execute_result"
    }
   ],
   "source": [
    "SVD = sklearn.decomposition.TruncatedSVD(20)\n",
    "SVD.fit(tfidf_matrix)"
   ]
  },
  {
   "cell_type": "code",
   "execution_count": 5,
   "metadata": {
    "collapsed": false
   },
   "outputs": [],
   "source": [
    "documents = SVD.transform(tfidf_matrix)\n",
    "words = SVD.components_"
   ]
  },
  {
   "cell_type": "markdown",
   "metadata": {},
   "source": [
    "### Классификация тем с использованием 2-ой матрицы SVD-разложения (20 скрытых тем)"
   ]
  },
  {
   "cell_type": "code",
   "execution_count": 6,
   "metadata": {
    "collapsed": true
   },
   "outputs": [],
   "source": [
    "from sklearn import cross_validation\n",
    "from sklearn import ensemble"
   ]
  },
  {
   "cell_type": "code",
   "execution_count": 7,
   "metadata": {
    "collapsed": false
   },
   "outputs": [
    {
     "data": {
      "text/plain": [
       "RandomForestClassifier(bootstrap=True, class_weight=None, criterion='gini',\n",
       "            max_depth=None, max_features='auto', max_leaf_nodes=None,\n",
       "            min_samples_leaf=1, min_samples_split=2,\n",
       "            min_weight_fraction_leaf=0.0, n_estimators=500, n_jobs=2,\n",
       "            oob_score=False, random_state=None, verbose=0, warm_start=True)"
      ]
     },
     "execution_count": 7,
     "metadata": {},
     "output_type": "execute_result"
    }
   ],
   "source": [
    "forest = ensemble.RandomForestClassifier(n_estimators=500, n_jobs=2, warm_start=True)\n",
    "forest.fit(documents, corpus.target)"
   ]
  },
  {
   "cell_type": "code",
   "execution_count": 8,
   "metadata": {
    "collapsed": false
   },
   "outputs": [],
   "source": [
    "tolerance = cross_validation.cross_val_score(forest, documents, corpus.target)"
   ]
  },
  {
   "cell_type": "code",
   "execution_count": 9,
   "metadata": {
    "collapsed": false
   },
   "outputs": [
    {
     "name": "stdout",
     "output_type": "stream",
     "text": [
      "[ 0.6410596   0.66949377  0.66038237]\n"
     ]
    }
   ],
   "source": [
    "print tolerance"
   ]
  },
  {
   "cell_type": "markdown",
   "metadata": {},
   "source": [
    "### Наиболее популярные слова, соответствующие каждой из 20-ти скрытых тем"
   ]
  },
  {
   "cell_type": "code",
   "execution_count": 10,
   "metadata": {
    "collapsed": false
   },
   "outputs": [
    {
     "name": "stdout",
     "output_type": "stream",
     "text": [
      "(0, [u'the', u'to', u'of', u'and', u'in'])\n",
      "(1, [u'edu', u'windows', u'com', u'for', u'host'])\n",
      "(2, [u'the', u'of', u'was', u'armenian', u'on'])\n",
      "(3, [u'edu', u'he', u'was', u'his', u'in'])\n",
      "(4, [u'edu', u'of', u'cs', u'pitt', u'geb'])\n",
      "(5, [u'com', u'you', u'they', u'key', u'clipper'])\n",
      "(6, [u'pitt', u'geb', u'banks', u'gordon', u'cs'])\n",
      "(7, [u'he', u'god', u'key', u'clipper', u'encryption'])\n",
      "(8, [u'com', u'sandvik', u'geb', u'gordon', u'pitt'])\n",
      "(9, [u'scsi', u'drive', u'the', u'ide', u'keith'])\n",
      "(10, [u'nasa', u'keith', u'is', u'space', u'caltech'])\n",
      "(11, [u'scsi', u'nasa', u'gov', u'drive', u'space'])\n",
      "(12, [u'scsi', u'ca', u'of', u'you', u'are'])\n",
      "(13, [u'keith', u'caltech', u'and', u'we', u'sgi'])\n",
      "(14, [u'israel', u'israeli', u'he', u'windows', u'cleveland'])\n",
      "(15, [u'ohio', u'state', u'magnus', u'acs', u'is'])\n",
      "(16, [u'uk', u'ac', u'___', u'ohio', u'ca'])\n",
      "(17, [u'columbia', u'cc', u'gld', u'cunixb', u'dare'])\n",
      "(18, [u'ohio', u'magnus', u'state', u'acs', u'to'])\n",
      "(19, [u'sandvik', u'apple', u'kent', u'uk', u'newton'])\n"
     ]
    }
   ],
   "source": [
    "most_popular_words = []\n",
    "for theme in range(words.shape[0]):\n",
    "    most_popular_words.append([tfidf.get_feature_names()[words[theme, :].argsort()[i]] for i in range(-1, -6, -1)])\n",
    "    print(theme, most_popular_words[theme])"
   ]
  }
 ],
 "metadata": {
  "kernelspec": {
   "display_name": "Python 2",
   "language": "python",
   "name": "python2"
  },
  "language_info": {
   "codemirror_mode": {
    "name": "ipython",
    "version": 2
   },
   "file_extension": ".py",
   "mimetype": "text/x-python",
   "name": "python",
   "nbconvert_exporter": "python",
   "pygments_lexer": "ipython2",
   "version": "2.7.10"
  }
 },
 "nbformat": 4,
 "nbformat_minor": 0
}
