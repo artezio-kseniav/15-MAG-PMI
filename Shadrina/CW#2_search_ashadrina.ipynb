{
 "cells": [
  {
   "cell_type": "markdown",
   "metadata": {},
   "source": [
    "# 17.05 Classwork №2: search in corpus 20newsgroups"
   ]
  },
  {
   "cell_type": "markdown",
   "metadata": {},
   "source": [
    "##Датасет\n",
    "Загрузка данных из 4 катеогрий: "
   ]
  },
  {
   "cell_type": "code",
   "execution_count": 2,
   "metadata": {
    "collapsed": false,
    "scrolled": true
   },
   "outputs": [],
   "source": [
    "from sklearn.datasets import fetch_20newsgroups\n",
    "cats = ['alt.atheism', 'rec.motorcycles',  'rec.autos', 'sci.electronics']\n",
    "dataset = fetch_20newsgroups(categories=cats, subset='all')"
   ]
  },
  {
   "cell_type": "code",
   "execution_count": 3,
   "metadata": {
    "collapsed": false
   },
   "outputs": [
    {
     "name": "stdout",
     "output_type": "stream",
     "text": [
      "Dataset categories:  ['alt.atheism', 'rec.autos', 'rec.motorcycles', 'sci.electronics']\n",
      "Dataset texts:  3769\n"
     ]
    }
   ],
   "source": [
    "print (\"Dataset categories: \", dataset.target_names)\n",
    "print (\"Dataset texts: \", len(dataset.data))"
   ]
  },
  {
   "cell_type": "code",
   "execution_count": 4,
   "metadata": {
    "collapsed": false
   },
   "outputs": [],
   "source": [
    "from sklearn.feature_extraction.text import TfidfVectorizer\n",
    "tfidf = TfidfVectorizer()\n",
    "X = tfidf.fit_transform(dataset.data)"
   ]
  },
  {
   "cell_type": "markdown",
   "metadata": {},
   "source": [
    "##Запросы TF-IDF"
   ]
  },
  {
   "cell_type": "code",
   "execution_count": 5,
   "metadata": {
    "collapsed": false
   },
   "outputs": [
    {
     "name": "stdout",
     "output_type": "stream",
     "text": [
      "steed  -  0.898009012718\n",
      "honda  -  0.439977059717\n"
     ]
    }
   ],
   "source": [
    "tfidf_query = tfidf.transform(['Honda Steed'])\n",
    "feature_names = tfidf.get_feature_names()\n",
    "for word in tfidf_query.nonzero()[1]:\n",
    "    print(feature_names[word], ' - ', tfidf_query[0, word])"
   ]
  },
  {
   "cell_type": "markdown",
   "metadata": {},
   "source": [
    "##Косинусное сходство"
   ]
  },
  {
   "cell_type": "code",
   "execution_count": 6,
   "metadata": {
    "collapsed": true
   },
   "outputs": [],
   "source": [
    "def print_query_results(res, count):\n",
    "    for key, value in sorted(res.items(), reverse=True, key=lambda x:x[1])[:count]:\n",
    "        print ('Similarity: ', value)\n",
    "        print ('------------------------------------------------------------------')\n",
    "        print (key)\n",
    "        print ('==================================================================')    "
   ]
  },
  {
   "cell_type": "code",
   "execution_count": 9,
   "metadata": {
    "collapsed": false
   },
   "outputs": [
    {
     "name": "stdout",
     "output_type": "stream",
     "text": [
      "Similarity:  0.148057855062\n",
      "------------------------------------------------------------------\n",
      "From: gt4722a@prism.gatech.EDU (James B. Atkins)\n",
      "Subject: Honda Mailing list?\n",
      "Organization: Georgia Institute of Technology\n",
      "Lines: 2\n",
      "\n",
      "\n",
      "\tIs there a Honda mailing list, and if so how do I subscribe to it?\n",
      "\n",
      "==================================================================\n",
      "Similarity:  0.12123441028\n",
      "------------------------------------------------------------------\n",
      "From: \"Arun G. Jayakumar\" <aj22+@andrew.cmu.edu>\n",
      "Subject: Re: Honda Mailing list?\n",
      "Organization: Freshman, Biology, Carnegie Mellon, Pittsburgh, PA\n",
      "Lines: 6\n",
      "NNTP-Posting-Host: andrew.cmu.edu\n",
      "In-Reply-To: <94539@hydra.gatech.EDU>\n",
      "\n",
      "Excerpts from netnews.rec.autos: 24-Apr-93 Honda Mailing list? by James\n",
      "B. Atkins@prism.ga \n",
      ">         Is there a Honda mailing list, and if so how do I subscribe to it?\n",
      "\n",
      "If you look at their magazine ads, they may have a phone number to call\n",
      "and you can ask for a catalog or to be on the list, etc.\n",
      "\n",
      "==================================================================\n",
      "Similarity:  0.115669901018\n",
      "------------------------------------------------------------------\n",
      "Subject: 1993 Honda Civic\n",
      "From: <LIBEMC@BYUVM.BITNET>\n",
      "Organization: Brigham Young University\n",
      "Lines: 8\n",
      "\n",
      "I'd like to converse with anyone who has purchased a 1993 Honda\n",
      "Civic about their experience.  I'm new to the car buying game\n",
      "and would like to know what price I can expect to pay for a sedan\n",
      "after bargaining.\n",
      "\n",
      "Thanks in advance,\n",
      "\n",
      "-- Ellen\n",
      "\n",
      "==================================================================\n",
      "Similarity:  0.115559553005\n",
      "------------------------------------------------------------------\n",
      "From: dholt@quip.eecs.umich.edu (Dennis J. Holt)\n",
      "Subject: Re: Honda clutch chatter\n",
      "Organization: University of Michigan EECS Dept., Ann Arbor\n",
      "Lines: 31\n",
      "\n",
      "In article <1993Apr22.141927.15716@bnr.ca> dwjz@bnr.ca (Doug Zolmer) writes:\n",
      ">In article <185900001@hpindda.cup.hp.com>, jimb@hpindda.cup.hp.com (James Bruder) writes:\n",
      ">|> anyone else experiencing a similar problem?\n",
      ">|> \n",
      ">|> This concerns the clutch on a 92 Honda Accord 5 speed. When the clutch\n",
      ">|> is first used in the morning, about the first 4 miles of shifting, there\n",
      ">|> is a significant amount of clutch chatter until things warm up.  Then the\n",
      ">|> clutch shifts smoothly.  This chatter started when I moved to the San \n",
      ">|> Francisco Bay area from a low-humidity environment.  The dealer stated\n",
      ">|> that this is known to happen since Honda changed from an asbestos to\n",
      ">|> non-asbestos clutch material.  No remedy!! Seems that moisture on clutch\n",
      ">|> surface causes slipping until the moisture evaporates.\n",
      ">|> \n",
      ">|> Any comments out there?\n",
      ">\n",
      ">The clutch on my '92 Honda Civic EX-V (EX in the U.S.) does this too.\n",
      ">It's annoying.  Now that I think about, it _is_ worse when the humidity is\n",
      ">high.  The dealer also claims there's nothing they can do since the clutch is \n",
      ">a \"self-adjusting hydraulic design\".  Yeah, right.\n",
      ">\n",
      "\n",
      "One of the reasons I sold my '92 Civic VX was the chattery-grabby clutch\n",
      "although I din't notice it being any worse in humid weather, perhaps because\n",
      "its always humid around here.  I was told by Honda that it has to do with\n",
      "changing from asbestos to non-asbestos linings, which began around 1990.\n",
      "Someone could make some good money selling the old-fashion variety if it's\n",
      "legal to manufacture them these days.  My feeling is that since many other\n",
      "car makers do not have this problem, that it's a poor design or engineering\n",
      "problem on the part of Honda.  Three things to look out for on all Honda\n",
      "products - clutch chatter, bad brake rotors, and rusty exhaust systems.\n",
      "\n",
      "\n",
      "==================================================================\n",
      "Similarity:  0.113203010789\n",
      "------------------------------------------------------------------\n",
      "From: nuet_ke@pts.mot.com (KEITH NUETZMAN X3153 P7625)\n",
      "Subject: Yamaha vs Honda opinions\n",
      "Nntp-Posting-Host: 145.4.54.110\n",
      "Reply-To: nuet_ke@pts.mot.com\n",
      "Organization: Paging and Wireless Data Group\n",
      "Lines: 8\n",
      "\n",
      "\n",
      "\n",
      "I am in hte market for a new bike (been without for a few years).\n",
      "The two main bikes I'm looking at seriously are\n",
      "The Yamaha Virago 535 and the Honda Shadow VLX 583. \n",
      "I am leaning towards the Yamaha for its shaft drive, the Honda is Chain.\n",
      "Insurance in Fla. is more costly than I thought, so I am staying in this\n",
      "power range. Thanks in advance for any opinions and or experiences\n",
      "\n",
      "==================================================================\n"
     ]
    }
   ],
   "source": [
    "from collections import defaultdict\n",
    "tfidf_query = tfidf.transform(['Honda Steed'])\n",
    "cosine_similarities = defaultdict(float) \n",
    "ind = 0\n",
    "for document in X: \n",
    "    cosine_similarity = document*(tfidf_query[0].transpose()) \n",
    "    if not cosine_similarity:\n",
    "        cosine_similarity = 0.0\n",
    "    else:\n",
    "        cosine_similarity = cosine_similarity[0,0]\n",
    "    text = dataset.data[ind]    \n",
    "    cosine_similarities[text] = cosine_similarity\n",
    "    ind += 1\n",
    "\n",
    "print_query_results(cosine_similarities, 5)"
   ]
  },
  {
   "cell_type": "markdown",
   "metadata": {},
   "source": [
    "Хм, а вот и не угадали! Я спрашивала про мотоцикл Honda, а 4 текста из 5 - про автомобили Honda :) \n",
    "<br>И едиственный правильный из них - самый \"непохожий\"..."
   ]
  }
 ],
 "metadata": {
  "kernelspec": {
   "display_name": "Python 3",
   "language": "python",
   "name": "python3"
  },
  "language_info": {
   "codemirror_mode": {
    "name": "ipython",
    "version": 3
   },
   "file_extension": ".py",
   "mimetype": "text/x-python",
   "name": "python",
   "nbconvert_exporter": "python",
   "pygments_lexer": "ipython3",
   "version": "3.4.3"
  }
 },
 "nbformat": 4,
 "nbformat_minor": 0
}
