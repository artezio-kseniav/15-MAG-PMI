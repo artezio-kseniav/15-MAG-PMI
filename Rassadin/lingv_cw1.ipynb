{
 "cells": [
  {
   "cell_type": "code",
   "execution_count": 1,
   "metadata": {
    "collapsed": true
   },
   "outputs": [],
   "source": [
    "import os\n",
    "import urllib2\n",
    "from BeautifulSoup import BeautifulSoup"
   ]
  },
  {
   "cell_type": "code",
   "execution_count": 2,
   "metadata": {
    "collapsed": true
   },
   "outputs": [],
   "source": [
    "def log_progress(sequence, every=None, size=None):\n",
    "    from ipywidgets import IntProgress, HTML, VBox\n",
    "    from IPython.display import display\n",
    "    \n",
    "    is_iterator = False\n",
    "    if size is None:\n",
    "        try:\n",
    "            size = len(sequence)\n",
    "        except TypeError:\n",
    "            is_iterator = True\n",
    "    if size is not None:\n",
    "        if every is None:\n",
    "            if size <= 200:\n",
    "                every = 1\n",
    "            else:\n",
    "                every = size / 200     # every 0.5%\n",
    "    else:\n",
    "        assert every is not None, 'sequence is iterator, set every'\n",
    "\n",
    "    if is_iterator:\n",
    "        progress = IntProgress(min=0, max=1, value=1)\n",
    "        progress.bar_style = 'info'\n",
    "    else:\n",
    "        progress = IntProgress(min=0, max=size, value=0)\n",
    "    label = HTML()\n",
    "    box = VBox(children=[label, progress])\n",
    "    display(box)\n",
    "    \n",
    "    index = 0\n",
    "    try:\n",
    "        for index, record in enumerate(sequence, 1):\n",
    "            if index == 1 or index % every == 0:\n",
    "                if is_iterator:\n",
    "                    label.value = '{index} / ?'.format(index=index)\n",
    "                else:\n",
    "                    progress.value = index\n",
    "                    label.value = u'{index} / {size}'.format(\n",
    "                        index=index,\n",
    "                        size=size\n",
    "                    )\n",
    "            yield record\n",
    "    except:\n",
    "        progress.bar_style = 'danger'\n",
    "        raise\n",
    "    else:\n",
    "        progress.bar_style = 'success'\n",
    "        progress.value = index\n",
    "        label.value = str(index or '?')"
   ]
  },
  {
   "cell_type": "code",
   "execution_count": 34,
   "metadata": {
    "collapsed": false
   },
   "outputs": [
    {
     "name": "stdout",
     "output_type": "stream",
     "text": [
      "uk: 200\n",
      "politics: 200\n",
      "usa: 200\n",
      "business: 200\n",
      "sport: 200\n"
     ]
    }
   ],
   "source": [
    "base_url = 'https://www.rt.com/listing/last-news.category.{}/prepare/default/200/0/'\n",
    "categories = ['uk', 'politics', 'usa', 'business', 'sport']\n",
    "\n",
    "site_urls = {}\n",
    "\n",
    "for category in log_progress(categories):\n",
    "    tmpurls = []\n",
    "    \n",
    "    page = urllib2.urlopen(base_url.format(category))\n",
    "    soup = BeautifulSoup(page)\n",
    "\n",
    "    articles = soup.findAll('strong')\n",
    "    print '{}: {}'.format(category, len(articles))\n",
    "\n",
    "    for article in articles:\n",
    "        title = article.contents[0]\n",
    "        if title.attrs[1][0] == 'href':\n",
    "            tmpurl = 'https://www.rt.com' + title.attrs[1][1]\n",
    "            tmpurls.append(tmpurl)\n",
    "    site_urls[category] = tmpurls\n",
    "#     break"
   ]
  },
  {
   "cell_type": "code",
   "execution_count": 36,
   "metadata": {
    "collapsed": true
   },
   "outputs": [],
   "source": [
    "class text_unit(object):\n",
    "    \n",
    "    def __init__(self, cat=None, title=None, text=None):\n",
    "        self.category = cat\n",
    "        self.title = title\n",
    "        self.text = text\n",
    "\n",
    "class corpus(object):\n",
    "    \n",
    "    def __init__(self, ent=[]):\n",
    "        self.entities = []\n",
    "        \n",
    "    def add(self, entity):\n",
    "        self.entities.append(entity)\n",
    "        \n",
    "    @property\n",
    "    def length(self):\n",
    "        return len(self.entities)"
   ]
  },
  {
   "cell_type": "code",
   "execution_count": 42,
   "metadata": {
    "collapsed": false
   },
   "outputs": [],
   "source": [
    "corp = corpus()\n",
    "\n",
    "for cat, urls in site_urls.iteritems():\n",
    "    for url in log_progress(urls):\n",
    "        page = urllib2.urlopen(url)\n",
    "        soup = BeautifulSoup(page)\n",
    "\n",
    "        soup_title = soup.findAll('h1', attrs={'class': 'article__heading'})\n",
    "        title = str(soup_title[0].contents[0]).strip()\n",
    "\n",
    "        soup_text = soup.findAll('div', attrs={'class': 'article__text text '})\n",
    "        text = ''\n",
    "        for el in soup_text[0].contents:\n",
    "            if el.name == 'p':\n",
    "                text += el.text + '\\n'\n",
    "        #     break\n",
    "        \n",
    "        tu = text_unit(cat, title, text)\n",
    "        corp.add(tu)\n",
    "#     break"
   ]
  },
  {
   "cell_type": "code",
   "execution_count": 43,
   "metadata": {
    "collapsed": false
   },
   "outputs": [
    {
     "name": "stdout",
     "output_type": "stream",
     "text": [
      "1000\n"
     ]
    }
   ],
   "source": [
    "print corp.length"
   ]
  },
  {
   "cell_type": "code",
   "execution_count": null,
   "metadata": {
    "collapsed": true
   },
   "outputs": [],
   "source": []
  }
 ],
 "metadata": {
  "kernelspec": {
   "display_name": "Python 2",
   "language": "python",
   "name": "python2"
  },
  "language_info": {
   "codemirror_mode": {
    "name": "ipython",
    "version": 2
   },
   "file_extension": ".py",
   "mimetype": "text/x-python",
   "name": "python",
   "nbconvert_exporter": "python",
   "pygments_lexer": "ipython2",
   "version": "2.7.11+"
  },
  "widgets": {
   "state": {},
   "version": "1.1.1"
  }
 },
 "nbformat": 4,
 "nbformat_minor": 0
}
