{
 "cells": [
  {
   "cell_type": "code",
   "execution_count": 2,
   "metadata": {
    "collapsed": false
   },
   "outputs": [],
   "source": [
    "import os\n",
    "import sklearn\n",
    "from sklearn.datasets import fetch_20newsgroups\n",
    "from sklearn.feature_extraction.text import TfidfVectorizer\n",
    "import numpy as np\n",
    "import enchant\n",
    "from sklearn.neighbors import NearestNeighbors\n",
    "import re\n",
    "from scipy.sparse import csr_matrix"
   ]
  },
  {
   "cell_type": "code",
   "execution_count": 3,
   "metadata": {
    "collapsed": true
   },
   "outputs": [],
   "source": [
    "def log_progress(sequence, every=None, size=None):\n",
    "    from ipywidgets import IntProgress, HTML, VBox\n",
    "    from IPython.display import display\n",
    "    \n",
    "    is_iterator = False\n",
    "    if size is None:\n",
    "        try:\n",
    "            size = len(sequence)\n",
    "        except TypeError:\n",
    "            is_iterator = True\n",
    "    if size is not None:\n",
    "        if every is None:\n",
    "            if size <= 200:\n",
    "                every = 1\n",
    "            else:\n",
    "                every = size / 200     # every 0.5%\n",
    "    else:\n",
    "        assert every is not None, 'sequence is iterator, set every'\n",
    "\n",
    "    if is_iterator:\n",
    "        progress = IntProgress(min=0, max=1, value=1)\n",
    "        progress.bar_style = 'info'\n",
    "    else:\n",
    "        progress = IntProgress(min=0, max=size, value=0)\n",
    "    label = HTML()\n",
    "    box = VBox(children=[label, progress])\n",
    "    display(box)\n",
    "    \n",
    "    index = 0\n",
    "    try:\n",
    "        for index, record in enumerate(sequence, 1):\n",
    "            if index == 1 or index % every == 0:\n",
    "                if is_iterator:\n",
    "                    label.value = '{index} / ?'.format(index=index)\n",
    "                else:\n",
    "                    progress.value = index\n",
    "                    label.value = u'{index} / {size}'.format(\n",
    "                        index=index,\n",
    "                        size=size\n",
    "                    )\n",
    "            yield record\n",
    "    except:\n",
    "        progress.bar_style = 'danger'\n",
    "        raise\n",
    "    else:\n",
    "        progress.bar_style = 'success'\n",
    "        progress.value = index\n",
    "        label.value = str(index or '?')"
   ]
  },
  {
   "cell_type": "code",
   "execution_count": 4,
   "metadata": {
    "collapsed": false
   },
   "outputs": [],
   "source": [
    "# vectorizer = TfidfVectorizer(max_features=1000, stop_words='english')\n",
    "vectorizer = TfidfVectorizer(stop_words='english', strip_accents='ascii')\n",
    "# categories = ['alt.atheism', 'comp.graphics', 'comp.os.ms-windows.misc', 'comp.sys.ibm.pc.hardware',\n",
    "#               'comp.sys.mac.hardware', 'comp.windows.x', 'misc.forsale', 'rec.autos', 'rec.motorcycles',\n",
    "#               'rec.sport.baseball', 'rec.sport.hockey', 'sci.crypt', 'sci.electronics', 'sci.med',\n",
    "#               'sci.space', 'soc.religion.christian', 'talk.politics.guns', 'talk.politics.mideast',\n",
    "#               'talk.politics.misc', 'talk.religion.misc']\n",
    "initial_categories = ['alt.atheism', 'comp.graphics', 'comp.os.ms-windows.misc', 'comp.sys.ibm.pc.hardware',\n",
    "              'comp.sys.mac.hardware', 'comp.windows.x', 'rec.autos', 'rec.motorcycles', 'rec.sport.baseball',\n",
    "              'rec.sport.hockey', 'sci.electronics', 'soc.religion.christian', 'talk.politics.mideast',\n",
    "              'talk.politics.misc', 'talk.religion.misc']\n",
    "eng_dict = enchant.Dict('en_US')"
   ]
  },
  {
   "cell_type": "code",
   "execution_count": 5,
   "metadata": {
    "collapsed": false
   },
   "outputs": [
    {
     "name": "stdout",
     "output_type": "stream",
     "text": [
      "['description', 'DESCR', 'filenames', 'target_names', 'data', 'target']\n"
     ]
    }
   ],
   "source": [
    "ng_train = fetch_20newsgroups(subset='train', categories=initial_categories,\n",
    "                              remove=('headers', 'footers', 'quotes'))\n",
    "print ng_train.keys()"
   ]
  },
  {
   "cell_type": "markdown",
   "metadata": {},
   "source": [
    "*Выполним фильтрацию не словарных элементов. Для этого сначала необходимо выполнить токенизацию*"
   ]
  },
  {
   "cell_type": "code",
   "execution_count": 6,
   "metadata": {
    "collapsed": false
   },
   "outputs": [],
   "source": [
    "data_prep = []\n",
    "for el in ng_train.data:\n",
    "    filtered = re.findall(u'(?u)\\\\b\\\\w\\\\w+\\\\b', el)\n",
    "    filtered = [filt for filt in filtered if eng_dict.check(filt)]\n",
    "    el_prep = ' '.join(filtered)\n",
    "    data_prep.append(el_prep)"
   ]
  },
  {
   "cell_type": "markdown",
   "metadata": {},
   "source": [
    "*Составим массив tf-idf индексов для предобработанных текстов*"
   ]
  },
  {
   "cell_type": "code",
   "execution_count": 7,
   "metadata": {
    "collapsed": false
   },
   "outputs": [
    {
     "data": {
      "text/plain": [
       "<8401x31912 sparse matrix of type '<type 'numpy.float64'>'\n",
       "\twith 446852 stored elements in Compressed Sparse Row format>"
      ]
     },
     "execution_count": 7,
     "metadata": {},
     "output_type": "execute_result"
    }
   ],
   "source": [
    "# vectors_train = vectorizer.fit_transform(ng_train.data)\n",
    "vectors_train = vectorizer.fit_transform(data_prep)\n",
    "vectors_train"
   ]
  },
  {
   "cell_type": "markdown",
   "metadata": {},
   "source": [
    "*Отфильтруем тексты с пустыми tf-idf индексами*"
   ]
  },
  {
   "cell_type": "code",
   "execution_count": 8,
   "metadata": {
    "collapsed": false
   },
   "outputs": [
    {
     "name": "stdout",
     "output_type": "stream",
     "text": [
      "[[ 0.  0.  0. ...,  0.  0.  0.]\n",
      " [ 0.  0.  0. ...,  0.  0.  0.]\n",
      " [ 0.  0.  0. ...,  0.  0.  0.]\n",
      " ..., \n",
      " [ 0.  0.  0. ...,  0.  0.  0.]\n",
      " [ 0.  0.  0. ...,  0.  0.  0.]\n",
      " [ 0.  0.  0. ...,  0.  0.  0.]]\n",
      "(8144, 31912)\n",
      "8144\n"
     ]
    }
   ],
   "source": [
    "vectors_train_proc = []\n",
    "ex_ind = []\n",
    "data_orig_proc_cor = []\n",
    "for i_el, el in enumerate(vectors_train):\n",
    "    if el.getnnz() > 0:\n",
    "        vectors_train_proc.append(el.toarray())\n",
    "        data_orig_proc_cor.append(i_el)\n",
    "    else:\n",
    "        ex_ind.append(i_el)\n",
    "vectors_train_proc = np.squeeze(np.asarray(vectors_train_proc).transpose(1, 0, 2))\n",
    "data_proc = [d for i, d in enumerate(data_prep) if i not in ex_ind]\n",
    "print vectors_train_proc\n",
    "print vectors_train_proc.shape\n",
    "print len(data_proc)"
   ]
  },
  {
   "cell_type": "code",
   "execution_count": 9,
   "metadata": {
    "collapsed": false
   },
   "outputs": [],
   "source": [
    "nbrs = NearestNeighbors(n_neighbors=1, algorithm='ball_tree', metric='euclidean').fit(vectors_train_proc)"
   ]
  },
  {
   "cell_type": "markdown",
   "metadata": {
    "collapsed": true
   },
   "source": [
    "---"
   ]
  },
  {
   "cell_type": "code",
   "execution_count": 10,
   "metadata": {
    "collapsed": false
   },
   "outputs": [],
   "source": [
    "request = 'something about computers electronic components harware etc'"
   ]
  },
  {
   "cell_type": "markdown",
   "metadata": {},
   "source": [
    "*Составим tf-idf для запроса*"
   ]
  },
  {
   "cell_type": "code",
   "execution_count": 11,
   "metadata": {
    "collapsed": false
   },
   "outputs": [
    {
     "data": {
      "text/plain": [
       "<1x31912 sparse matrix of type '<type 'numpy.float64'>'\n",
       "\twith 3 stored elements in Compressed Sparse Row format>"
      ]
     },
     "execution_count": 11,
     "metadata": {},
     "output_type": "execute_result"
    }
   ],
   "source": [
    "vectors_req = vectorizer.transform([vectorizer.decode(request)])\n",
    "vectors_req"
   ]
  },
  {
   "cell_type": "code",
   "execution_count": 12,
   "metadata": {
    "collapsed": true
   },
   "outputs": [],
   "source": [
    "dsts, inds = nbrs.kneighbors(vectors_req.toarray(), n_neighbors=10)"
   ]
  },
  {
   "cell_type": "code",
   "execution_count": 13,
   "metadata": {
    "collapsed": false
   },
   "outputs": [
    {
     "data": {
      "text/plain": [
       "array([1054,  994,  309, 8121, 3552,   89, 4292, 1459, 3943, 3842])"
      ]
     },
     "execution_count": 13,
     "metadata": {},
     "output_type": "execute_result"
    }
   ],
   "source": [
    "inds = np.squeeze(inds)\n",
    "inds"
   ]
  },
  {
   "cell_type": "code",
   "execution_count": 14,
   "metadata": {
    "collapsed": false
   },
   "outputs": [
    {
     "data": {
      "text/plain": [
       "array([1091, 1026,  319, 8377, 3672,   91, 4447, 1510, 4085, 3975])"
      ]
     },
     "execution_count": 14,
     "metadata": {},
     "output_type": "execute_result"
    }
   ],
   "source": [
    "inds_corr = np.asarray([data_orig_proc_cor[ind] for ind in inds])\n",
    "inds_corr"
   ]
  },
  {
   "cell_type": "markdown",
   "metadata": {},
   "source": [
    "*Top-10 оригинальных текстов*"
   ]
  },
  {
   "cell_type": "code",
   "execution_count": 21,
   "metadata": {
    "collapsed": false
   },
   "outputs": [
    {
     "name": "stdout",
     "output_type": "stream",
     "text": [
      "--------------------------- Top-1 ---------------------------\n",
      "\n",
      " Computers are a special case.. and it's a pretty good idea to\n",
      " leave them on.. cuz everytime you turn on a computer, you're \n",
      " putting a surge of electricity through its delicate components.\n",
      "  Imagine you're turning on your computer 5 or more times a day.\n",
      " You're increasing the chances of damaging the chips, memory,\n",
      " etc on all the components of your computer. So you may save\n",
      " a few cents here and there in electricity bills, but it won't\n",
      " look like much when it come time to fix your computer.\n",
      "---------------------------- end -----------------------------\n",
      "\n",
      "--------------------------- Top-2 ---------------------------\n",
      "\n",
      "Good point...also, I wouldn't be surprised that the components\n",
      "they use off-shore are of inferior quality.  As long as it was\n",
      "properly designed and robust, premium components are used, it\n",
      "shouldn't matter where it is assembled.\n",
      "\n",
      "\n",
      "An amp that runs hot has no bearing on how it's gonna sound.\n",
      "The amp you have probably is running Class-A the whole day.\n",
      "\n",
      "Actually, I'd be wary of excessively hot amps, 'cauz even though\n",
      "the components inside may be rated to run that way, excessive \n",
      "heat will dramatically shorten the life of *any* electronic component\n",
      "regardless of quality.  In fact, an amp that does run hot to the touch is\n",
      "because either the engineer or manufacturer of that amp wanted\n",
      "to skimp on heatsinking or cooling to save costs!  Hmmmmm....\n",
      "\n",
      "aaron\n",
      "---------------------------- end -----------------------------\n",
      "\n",
      "--------------------------- Top-3 ---------------------------\n",
      ": >I was also sceptical about the amps being built in the far-east\n",
      ": >  or where-ever.  But if you look in the amp and see what components\n",
      ": >  they use and how it was designed, you can easily see why the\n",
      ": >  amplifiers sound so brilliant.\n",
      "\n",
      ": Good point...also, I wouldn't be surprised that the components\n",
      ": they use off-shore are of inferior quality.  As long as it was\n",
      ": properly designed and robust, premium components are used, it\n",
      ": shouldn't matter where it is assembled.\n",
      "\n",
      "Definately, I agree wholeheartedly.  If they can build the amp where\n",
      "  the labour is not so expensive, they can afford to put decent\n",
      "  components in and go to more effort to improve the design of the\n",
      "  amplifier - as Adcom has done.\n",
      "\n",
      ": >I cannot see why people say the amplifier won't last - not with\n",
      ": >  those quality components inside.  Sure the amp runs very fairly\n",
      ": >  hot - but that's how you get an amp to sound incredibly good.\n",
      "\n",
      ": An amp that runs hot has no bearing on how it's gonna sound.\n",
      ": The amp you have probably is running Class-A the whole day.\n",
      "\n",
      ": Actually, I'd be wary of excessively hot amps, 'cauz even though\n",
      ": the components inside may be rated to run that way, excessive \n",
      ": heat will dramatically shorten the life of *any* electronic component\n",
      ": regardless of quality.  In fact, an amp that does run hot to the touch is\n",
      ": because either the engineer or manufacturer of that amp wanted\n",
      ": to skimp on heatsinking or cooling to save costs!  Hmmmmm....\n",
      "\n",
      "Sure, I didn't mean to imply that because of the heat generated, the\n",
      "  amp sounds good.  My Adcom GFP 535II runs fairly warm - not hot to\n",
      "  the touch - but enough to satisfy me that the amp is running nicely.\n",
      "I don't like it when an amp runs dead-cold.  It makes one think that\n",
      "  the amp is doing nothing :)\n",
      "The heatsinks that Adcom uses in their amps are certainly far for\n",
      "  skimpy - they're massive things with heating vents both below\n",
      "  and above.  More than enough to carry away excessive heat.\n",
      "\n",
      "My opinions once again.\n",
      "\n",
      "---------------------------- end -----------------------------\n",
      "\n",
      "--------------------------- Top-4 ---------------------------\n",
      "\n",
      "\n",
      "RS Components (they exist in Australia and the UK. Don't know about the US) have\n",
      "little chips called Isolated MAX 250 and 251. They give you isolated RS-232 from\n",
      "a single 5V supply. External components are 4 caps, 4 optoisolators, a diode,\n",
      "and an isloting transformer. They go up to 19.2K baud..\n",
      "\n",
      "John West\n",
      "---------------------------- end -----------------------------\n",
      "\n",
      "--------------------------- Top-5 ---------------------------\n",
      "Hey all:\n",
      "\n",
      "I just moved to NYC and wondered if there are any electronics hackers\n",
      "out there who could point me to places in NYC that sell individual\n",
      "electronic components (switches, pots, transformers, caps,\n",
      "transistors, etc.)  \"Radio Shack\" doesn't count (they have almost no\n",
      "selection, and their prices are outrageous!)\n",
      "\n",
      "I have particular interest in audio components (amplifier IC's, power\n",
      "MOSFETS, output transformers, tubes and tube sockets, pan pots,\n",
      "faders, etc.)\n",
      "\n",
      "I have checked out a lot of 48th street and Canal street so far with\n",
      "no luck.  Am I missing places, looking in the wrong place, or do I\n",
      "have to resort to mail order?\n",
      "---------------------------- end -----------------------------\n",
      "\n",
      "--------------------------- Top-6 ---------------------------\n",
      "\n",
      "\n",
      "We have plenty of computer labs where the computers are left on all the\n",
      "time. I don't see any shorter lifespan than the ones we have in the\n",
      "offices which does get turned off at the end of the day. In fact, some\n",
      "of the computers in the labs have outlived some of the same ones in the\n",
      "offices. But it goes both ways so can't conclude anything.\n",
      "---------------------------- end -----------------------------\n",
      "\n",
      "--------------------------- Top-7 ---------------------------\n",
      "If anyone has any information about the upcoming new computers\n",
      "(Cyclone and Tempest), I am in need of some info. Anything would be\n",
      "greatly appreciated.\n",
      "\n",
      "Thanks,\n",
      "---------------------------- end -----------------------------\n",
      "\n",
      "--------------------------- Top-8 ---------------------------\n",
      "\n",
      "\n",
      "AT the MICRO$OFT display at FOSE, there were a few computers running\n",
      "windows, and win. apps for the  blind, I think.  Didn't pay much\n",
      "attention to it, but it was there.\n",
      "\n",
      "Mickey\n",
      "---------------------------- end -----------------------------\n",
      "\n",
      "--------------------------- Top-9 ---------------------------\n",
      ": >I want to upgrade my system and was thinking of buying Adcom seperates.\n",
      ": >I have heard from alot of people, though, that Adcom sounds great but\n",
      ": >that the components are made cheaply and therefore won't last very long.\n",
      ": >The time estimates I've heard are like only 3 or 4 years.  Is this true?\n",
      "\n",
      "I own the Adcom 60W power amp.  As far as I'm concerned, there's no\n",
      "  amp which can touch it at the price range.\n",
      "The build quality is very impressive and is far superior to other \n",
      "  amps in the price range.  The whole amplifier is extremely solid\n",
      "  with massive heat sinks and very solid casing.\n",
      "If you open the amp up, there are only very good quality components \n",
      "  in and the amp seems to be designed extremely well.  Perfect\n",
      "  symmetry for both channels and TWO transformers - one for each\n",
      "  channel.  The binding posts on the back of the amplifier are\n",
      "  virtually the same as those on the Classe model 70 ie. very good.\n",
      "\n",
      "I was also sceptical about the amps being built in the far-east\n",
      "  or where-ever.  But if you look in the amp and see what components\n",
      "  they use and how it was designed, you can easily see why the\n",
      "  amplifiers sound so brilliant.\n",
      "I cannot see why people say the amplifier won't last - not with\n",
      "  those quality components inside.  Sure the amp runs very fairly\n",
      "  hot - but that's how you get an amp to sound incredibly good.\n",
      "\n",
      "My last point, I recently auditioned the Adcom preamp something like\n",
      "  the 545 or something.  It was two years old and it still sounded\n",
      "  like new.\n",
      "\n",
      "If you build an amplifier decently, like the Adcom's, they will\n",
      "  sound brilliant and last a long time - period.\n",
      "\n",
      "Just my thoughts, but then - I do own one of Adcom's amps.\n",
      "\n",
      "---------------------------- end -----------------------------\n",
      "\n",
      "--------------------------- Top-10 ---------------------------\n",
      "Could anybody please provide me a copy of the Windows 3.1 drivers and grabbers\n",
      "from Orchid Technologies for use with their ProDesigner IIs ISA video card? Currently I do not have access to a modem to dial out to Orchid BBS.\n",
      "If you can help me, please do any of the following, wichever is most convenient\n",
      "to you:\n",
      "\n",
      "1)\n",
      "Copy the binary files to a directory readable by any user in any cell of the\n",
      "Andrew File System\n",
      "\n",
      "2)\n",
      "Upload the binary files to an anonymous FTP site (where allowed).\n",
      "\n",
      "3)\n",
      "uuencode the files and send them to me by electronic mail.\n",
      "\n",
      "Please notify me by electronic mail at\n",
      "towwang@caen.engin.umich.edu\n",
      "\n",
      "Thanks in advance.\n",
      "---------------------------- end -----------------------------\n",
      "\n"
     ]
    }
   ],
   "source": [
    "for i, item in enumerate(np.asarray(ng_train.data)[inds_corr], start=1):\n",
    "    print '--------------------------- Top-{} ---------------------------'.format(i)\n",
    "    print item\n",
    "    print '---------------------------- end -----------------------------'\n",
    "    print"
   ]
  },
  {
   "cell_type": "code",
   "execution_count": null,
   "metadata": {
    "collapsed": true
   },
   "outputs": [],
   "source": []
  }
 ],
 "metadata": {
  "kernelspec": {
   "display_name": "Python 2",
   "language": "python",
   "name": "python2"
  },
  "language_info": {
   "codemirror_mode": {
    "name": "ipython",
    "version": 2
   },
   "file_extension": ".py",
   "mimetype": "text/x-python",
   "name": "python",
   "nbconvert_exporter": "python",
   "pygments_lexer": "ipython2",
   "version": "2.7.11+"
  },
  "widgets": {
   "state": {},
   "version": "1.1.1"
  }
 },
 "nbformat": 4,
 "nbformat_minor": 0
}
