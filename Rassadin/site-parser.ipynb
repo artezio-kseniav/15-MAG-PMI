{
 "cells": [
  {
   "cell_type": "code",
   "execution_count": 1,
   "metadata": {
    "collapsed": true
   },
   "outputs": [],
   "source": [
    "import os\n",
    "import urllib2\n",
    "from BeautifulSoup import BeautifulSoup"
   ]
  },
  {
   "cell_type": "code",
   "execution_count": 2,
   "metadata": {
    "collapsed": true
   },
   "outputs": [],
   "source": [
    "def log_progress(sequence, every=None, size=None):\n",
    "    from ipywidgets import IntProgress, HTML, VBox\n",
    "    from IPython.display import display\n",
    "    \n",
    "    is_iterator = False\n",
    "    if size is None:\n",
    "        try:\n",
    "            size = len(sequence)\n",
    "        except TypeError:\n",
    "            is_iterator = True\n",
    "    if size is not None:\n",
    "        if every is None:\n",
    "            if size <= 200:\n",
    "                every = 1\n",
    "            else:\n",
    "                every = size / 200     # every 0.5%\n",
    "    else:\n",
    "        assert every is not None, 'sequence is iterator, set every'\n",
    "\n",
    "    if is_iterator:\n",
    "        progress = IntProgress(min=0, max=1, value=1)\n",
    "        progress.bar_style = 'info'\n",
    "    else:\n",
    "        progress = IntProgress(min=0, max=size, value=0)\n",
    "    label = HTML()\n",
    "    box = VBox(children=[label, progress])\n",
    "    display(box)\n",
    "    \n",
    "    index = 0\n",
    "    try:\n",
    "        for index, record in enumerate(sequence, 1):\n",
    "            if index == 1 or index % every == 0:\n",
    "                if is_iterator:\n",
    "                    label.value = '{index} / ?'.format(index=index)\n",
    "                else:\n",
    "                    progress.value = index\n",
    "                    label.value = u'{index} / {size}'.format(\n",
    "                        index=index,\n",
    "                        size=size\n",
    "                    )\n",
    "            yield record\n",
    "    except:\n",
    "        progress.bar_style = 'danger'\n",
    "        raise\n",
    "    else:\n",
    "        progress.bar_style = 'success'\n",
    "        progress.value = index\n",
    "        label.value = str(index or '?')"
   ]
  },
  {
   "cell_type": "code",
   "execution_count": 34,
   "metadata": {
    "collapsed": false
   },
   "outputs": [
    {
     "name": "stdout",
     "output_type": "stream",
     "text": [
      "uk: 200\n",
      "politics: 200\n",
      "usa: 200\n",
      "business: 200\n",
      "sport: 200\n"
     ]
    }
   ],
   "source": [
    "base_url = 'https://www.rt.com/listing/last-news.category.{}/prepare/default/200/0/'\n",
    "categories = ['uk', 'politics', 'usa', 'business', 'sport']\n",
    "\n",
    "site_urls = {}\n",
    "\n",
    "for category in log_progress(categories):\n",
    "    tmpurls = []\n",
    "    \n",
    "    page = urllib2.urlopen(base_url.format(category))\n",
    "    soup = BeautifulSoup(page)\n",
    "\n",
    "    articles = soup.findAll('strong')\n",
    "    print '{}: {}'.format(category, len(articles))\n",
    "\n",
    "    for article in articles:\n",
    "        title = article.contents[0]\n",
    "        if title.attrs[1][0] == 'href':\n",
    "            tmpurl = 'https://www.rt.com' + title.attrs[1][1]\n",
    "            tmpurls.append(tmpurl)\n",
    "    site_urls[category] = tmpurls\n",
    "#     break"
   ]
  },
  {
   "cell_type": "code",
   "execution_count": 36,
   "metadata": {
    "collapsed": true
   },
   "outputs": [],
   "source": [
    "class text_unit(object):\n",
    "    \n",
    "    def __init__(self, cat=None, title=None, text=None):\n",
    "        self.category = cat\n",
    "        self.title = title\n",
    "        self.text = text\n",
    "\n",
    "class corpus(object):\n",
    "    \n",
    "    def __init__(self, ent=[]):\n",
    "        self.entities = []\n",
    "        \n",
    "    def add(self, entity):\n",
    "        self.entities.append(entity)\n",
    "        \n",
    "    @property\n",
    "    def length(self):\n",
    "        return len(self.entities)"
   ]
  },
  {
   "cell_type": "code",
   "execution_count": 42,
   "metadata": {
    "collapsed": false
   },
   "outputs": [],
   "source": [
    "corp = corpus()\n",
    "\n",
    "for cat, urls in site_urls.iteritems():\n",
    "    for url in log_progress(urls):\n",
    "        page = urllib2.urlopen(url)\n",
    "        soup = BeautifulSoup(page)\n",
    "\n",
    "        soup_title = soup.findAll('h1', attrs={'class': 'article__heading'})\n",
    "        title = str(soup_title[0].contents[0]).strip()\n",
    "\n",
    "        soup_text = soup.findAll('div', attrs={'class': 'article__text text '})\n",
    "        text = ''\n",
    "        for el in soup_text[0].contents:\n",
    "            if el.name == 'p':\n",
    "                text += el.text + '\\n'\n",
    "        #     break\n",
    "        \n",
    "        tu = text_unit(cat, title, text)\n",
    "        corp.add(tu)\n",
    "#     break"
   ]
  },
  {
   "cell_type": "code",
   "execution_count": 43,
   "metadata": {
    "collapsed": false
   },
   "outputs": [
    {
     "name": "stdout",
     "output_type": "stream",
     "text": [
      "1000\n"
     ]
    }
   ],
   "source": [
    "print corp.length"
   ]
  },
  {
   "cell_type": "code",
   "execution_count": null,
   "metadata": {
    "collapsed": true
   },
   "outputs": [],
   "source": []
  }
 ],
 "metadata": {
  "kernelspec": {
   "display_name": "Python 2",
   "language": "python",
   "name": "python2"
  },
  "language_info": {
   "codemirror_mode": {
    "name": "ipython",
    "version": 2
   },
   "file_extension": ".py",
   "mimetype": "text/x-python",
   "name": "python",
   "nbconvert_exporter": "python",
   "pygments_lexer": "ipython2",
   "version": "2.7.11+"
  },
  "widgets": {
   "state": {
    "0149258597d4464996cda46391ba3abb": {
     "views": []
    },
    "0a5ae25c26b44caf9c142265436cd737": {
     "views": []
    },
    "100ff2f4b01d4ddd89c3b3a31c38399b": {
     "views": []
    },
    "135437a0f5f446189b998af47d1f385b": {
     "views": []
    },
    "15880fe0b26044c2bc8ea8691cc451eb": {
     "views": [
      {
       "cell_index": 4
      }
     ]
    },
    "18963939c00047f68a07679e333bc0d1": {
     "views": []
    },
    "1eac5bda2cf74efbb3b2e69890242bbd": {
     "views": []
    },
    "226a18a1d892427b962a213cf981d1fc": {
     "views": []
    },
    "2720ff44ec3d42a1851a93533baf5747": {
     "views": []
    },
    "281205622382476c9a5a6e192e773c3d": {
     "views": []
    },
    "2b1e30f1655d4607a7a1e09a96f25c07": {
     "views": []
    },
    "2e67e76a16ab413ca3151080cab6539c": {
     "views": []
    },
    "2f7d38ea5cfd4e26a4ab92d058827884": {
     "views": []
    },
    "3353917e72cf4f8680b856b338f16580": {
     "views": []
    },
    "374fbe726ea54dc78f25007676c70056": {
     "views": []
    },
    "39bbd64da62a421992f895deef4150e6": {
     "views": []
    },
    "3a4e3c51d65948c09fba2bbce0847950": {
     "views": []
    },
    "3d32d03e30d7436bbe0a12f9864094db": {
     "views": []
    },
    "40c28988a3ec40fd9077fdd1b74f9d85": {
     "views": []
    },
    "439c4fd5de2c4086890b48b0d03899f9": {
     "views": []
    },
    "47c4d7e6f39549c392a6510e1c158d21": {
     "views": []
    },
    "48e0c91584b246f9841bb7cdc4f909c2": {
     "views": []
    },
    "4be480f3570e48b0bc2963ad9726e18a": {
     "views": []
    },
    "4c15e094bbb44ad6b95fb8c096d9073f": {
     "views": []
    },
    "4d949f0d4e5e4ce08a7161233ddf99fb": {
     "views": []
    },
    "4dcabc548c94401aa29234f089f00f80": {
     "views": []
    },
    "533b3eab01534dd79b389f5f5b4d6b68": {
     "views": []
    },
    "5a5a8e927ac6479f9ec08adc4631f12e": {
     "views": []
    },
    "5da1523f091945cfbe60b30cf33fc9c2": {
     "views": []
    },
    "5ed5dd6a13e74b1bbc5d0fe67b9446a7": {
     "views": []
    },
    "69c4068960364f67a5b45f63303eab43": {
     "views": []
    },
    "748b1fa6573f4f67904574642895294e": {
     "views": []
    },
    "764eed3c952d4810b594dfe988411dd3": {
     "views": []
    },
    "782d54d4fd07475a879acfc9c8754651": {
     "views": []
    },
    "7b82c8622053488c8b848ed55db87129": {
     "views": []
    },
    "8442cacdf1dc433b904fb7c53d5d5e5c": {
     "views": []
    },
    "84f718353021499394f5005e7f025a06": {
     "views": []
    },
    "8d8320e614014f3e804adbcdb6a7cb23": {
     "views": []
    },
    "8e1789bd4e984131adb22b5608f4cdf5": {
     "views": []
    },
    "9039155d50884d10bc14228fc33c8573": {
     "views": []
    },
    "93301b34223f46b1a21d74a8d27a2b49": {
     "views": []
    },
    "9625bd987df94d42973af275a592ea4a": {
     "views": []
    },
    "9a954a3e06b9419ab04aa8645b6f47bc": {
     "views": [
      {
       "cell_index": 2
      }
     ]
    },
    "9b21f52aaf914899ab0885f00dadc370": {
     "views": []
    },
    "9e1288568aa0481796496630603fc09f": {
     "views": []
    },
    "a0169f008ef7421598d36b155389e734": {
     "views": [
      {
       "cell_index": 4
      }
     ]
    },
    "a059981d7b8c482a880c2eb2c4790071": {
     "views": []
    },
    "a1451a0d0eaf4332affd0821efc82f47": {
     "views": []
    },
    "a3b4a40f544240b89e3f161fa8122920": {
     "views": []
    },
    "ab19ee43ce6145ceaf31108532986d34": {
     "views": [
      {
       "cell_index": 4
      }
     ]
    },
    "ac8b30ebd9f24f93ab9bfcd8f12550ad": {
     "views": [
      {
       "cell_index": 4
      }
     ]
    },
    "b5828894f2934016a8c9ed8a52cd61da": {
     "views": []
    },
    "b9c4b4a7ca66410baf91c5ae168f7f99": {
     "views": []
    },
    "bdfbad90379347ca8a286c6af23a3438": {
     "views": []
    },
    "c0accb0118814385a46c056fbecd73c5": {
     "views": []
    },
    "c28ee68e1f2f4df993052608ad971838": {
     "views": []
    },
    "d114a48e9b704ab0b4d9d664291964a8": {
     "views": []
    },
    "d257d799a1c7419e8034e4bdb2f3a665": {
     "views": [
      {
       "cell_index": 4
      }
     ]
    },
    "d6fcdc6cdbc64511b4a9d8bbfa39a246": {
     "views": []
    },
    "d7f6fd13407e4e8688aa0d09b0c2f435": {
     "views": []
    },
    "db9ad83bbf8747d49ce7020872120e6c": {
     "views": []
    },
    "dea500eb9078447499ab78d577385fb6": {
     "views": []
    },
    "dfd453be4b0947c3ad456b1678abe36b": {
     "views": []
    },
    "e1f30a0205204d358b975f731583ee27": {
     "views": []
    },
    "e564677ac57e4b7d99c9d64b32d6aaad": {
     "views": []
    },
    "e58390e60e3641578ac91d0bbbc8ff30": {
     "views": []
    },
    "e91281d0e7754788ab59ebeefbc8a99c": {
     "views": []
    },
    "ed7f49f4d91a4329a12a7087072deb55": {
     "views": []
    },
    "eeb8fa37bcd04be3b800a2b31d53aa6d": {
     "views": []
    },
    "f521f06a947047f6a2fdbf380861c20a": {
     "views": []
    },
    "f56461521b2844cba823191cf46c8a17": {
     "views": []
    },
    "ff83e2609f834be7903d1f063ae415e1": {
     "views": []
    }
   },
   "version": "1.1.1"
  }
 },
 "nbformat": 4,
 "nbformat_minor": 0
}
