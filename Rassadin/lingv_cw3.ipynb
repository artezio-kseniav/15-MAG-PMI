{
 "cells": [
  {
   "cell_type": "code",
   "execution_count": 9,
   "metadata": {
    "collapsed": false
   },
   "outputs": [],
   "source": [
    "import os\n",
    "import urllib2\n",
    "from BeautifulSoup import BeautifulSoup\n",
    "import datetime\n",
    "import re\n",
    "import pickle\n",
    "import sys\n",
    "from nltk.util import ngrams\n",
    "import numpy as np\n",
    "import string\n",
    "import pymorphy2\n",
    "import codecs"
   ]
  },
  {
   "cell_type": "code",
   "execution_count": 2,
   "metadata": {
    "collapsed": true
   },
   "outputs": [],
   "source": [
    "def log_progress(sequence, every=None, size=None):\n",
    "    from ipywidgets import IntProgress, HTML, VBox\n",
    "    from IPython.display import display\n",
    "    \n",
    "    is_iterator = False\n",
    "    if size is None:\n",
    "        try:\n",
    "            size = len(sequence)\n",
    "        except TypeError:\n",
    "            is_iterator = True\n",
    "    if size is not None:\n",
    "        if every is None:\n",
    "            if size <= 200:\n",
    "                every = 1\n",
    "            else:\n",
    "                every = size / 200     # every 0.5%\n",
    "    else:\n",
    "        assert every is not None, 'sequence is iterator, set every'\n",
    "\n",
    "    if is_iterator:\n",
    "        progress = IntProgress(min=0, max=1, value=1)\n",
    "        progress.bar_style = 'info'\n",
    "    else:\n",
    "        progress = IntProgress(min=0, max=size, value=0)\n",
    "    label = HTML()\n",
    "    box = VBox(children=[label, progress])\n",
    "    display(box)\n",
    "    \n",
    "    index = 0\n",
    "    try:\n",
    "        for index, record in enumerate(sequence, 1):\n",
    "            if index == 1 or index % every == 0:\n",
    "                if is_iterator:\n",
    "                    label.value = '{index} / ?'.format(index=index)\n",
    "                else:\n",
    "                    progress.value = index\n",
    "                    label.value = u'{index} / {size}'.format(\n",
    "                        index=index,\n",
    "                        size=size\n",
    "                    )\n",
    "            yield record\n",
    "    except:\n",
    "        progress.bar_style = 'danger'\n",
    "        raise\n",
    "    else:\n",
    "        progress.bar_style = 'success'\n",
    "        progress.value = index\n",
    "        label.value = str(index or '?')"
   ]
  },
  {
   "cell_type": "code",
   "execution_count": 3,
   "metadata": {
    "collapsed": false
   },
   "outputs": [],
   "source": [
    "hdr = {'User-Agent': 'Mozilla/5.0 (X11; Linux x86_64) AppleWebKit/537.11 (KHTML, like Gecko) Chrome/23.0.1271.64 Safari/537.11',\n",
    "       'Accept': 'text/html,application/xhtml+xml,application/xml;q=0.9,*/*;q=0.8',\n",
    "       'Accept-Charset': 'ISO-8859-1,utf-8;q=0.7,*;q=0.3',\n",
    "       'Accept-Encoding': 'none',\n",
    "       'Accept-Language': 'en-US,en;q=0.8',\n",
    "       'Connection': 'keep-alive'}\n",
    "regex_punct = re.compile('[%s]' % re.escape(string.punctuation))\n",
    "regex_spaces = re.compile(r'\\s+', flags=re.UNICODE)"
   ]
  },
  {
   "cell_type": "code",
   "execution_count": 4,
   "metadata": {
    "collapsed": false
   },
   "outputs": [
    {
     "name": "stdout",
     "output_type": "stream",
     "text": [
      "politics: 200\n",
      "incidents: 200\n"
     ]
    }
   ],
   "source": [
    "base_url = 'http://ria.ru/{}/more.html?id={}&date={}T{}'\n",
    "# categories = ['politics', 'society', 'economy', 'incidents']\n",
    "categories = ['politics', 'incidents']\n",
    "\n",
    "site_urls = {}\n",
    "id_ = '1447186104'\n",
    "\n",
    "for category in log_progress(categories):\n",
    "    tmpurls = []\n",
    "    \n",
    "    time_stamp = '000000'\n",
    "#     date_stamp = str(datetime.date.today()).replace('-', '')\n",
    "    date_stamp = '20160612'\n",
    "    \n",
    "    while len(tmpurls) < 200:\n",
    "        req = urllib2.Request(base_url.format(category, id_, date_stamp, time_stamp), headers=hdr)\n",
    "        page = urllib2.urlopen(req)\n",
    "        soup = BeautifulSoup(page)\n",
    "\n",
    "        articles = soup.findAll('div', attrs={'class': 'b-list__item'})\n",
    "\n",
    "        for article in articles:\n",
    "            tmpurl = 'http://www.ria.ru' + article.contents[0].attrs[0][1]\n",
    "            tmpurls.append(tmpurl)\n",
    "            title = article.findAll('span', attrs={'class': 'b-list__item-title'})[0].contents[0].contents[0]\n",
    "#             break\n",
    "\n",
    "        time_stamp = articles[-1].findAll('div',\n",
    "                                         attrs={'class': 'b-list__item-time'})[0].contents[0].contents[0][:2]\n",
    "        time_stamp = str(int(time_stamp) + 1) + '0000'\n",
    "        date_stamp = articles[-1].findAll('div',\n",
    "                                         attrs={'class': 'b-list__item-date'})[0].contents[0].contents[0]\n",
    "        date_stamp = date_stamp.replace('.', '')\n",
    "        date_stamp = date_stamp[4:] + date_stamp[2:4] + date_stamp[:2]\n",
    "#         break\n",
    "            \n",
    "    site_urls[category] = tmpurls\n",
    "    print '{}: {}'.format(category, len(tmpurls))\n",
    "        \n",
    "#     break"
   ]
  },
  {
   "cell_type": "code",
   "execution_count": 5,
   "metadata": {
    "collapsed": true
   },
   "outputs": [],
   "source": [
    "class text_unit(object):\n",
    "    \n",
    "    def __init__(self, cat=None, title=None, text=None):\n",
    "        self.category = cat\n",
    "        self.title = title\n",
    "        self.text = text\n",
    "\n",
    "class corpus(object):\n",
    "    \n",
    "    def __init__(self, ent=[]):\n",
    "        self.entities = []\n",
    "        \n",
    "    def add(self, entity):\n",
    "        self.entities.append(entity)\n",
    "\n",
    "    def get_by_cat(self, cat):\n",
    "        return [el for el in self.entities if el.category == cat]\n",
    "        \n",
    "    @property\n",
    "    def length(self):\n",
    "        return len(self.entities)"
   ]
  },
  {
   "cell_type": "code",
   "execution_count": 6,
   "metadata": {
    "collapsed": false
   },
   "outputs": [
    {
     "name": "stdout",
     "output_type": "stream",
     "text": [
      "102\n",
      "93\n"
     ]
    }
   ],
   "source": [
    "corp = corpus()\n",
    "morph = pymorphy2.MorphAnalyzer()\n",
    "\n",
    "for cat, urls in site_urls.iteritems():\n",
    "    counter = 0\n",
    "    for url in log_progress(urls[:]):\n",
    "#         if True:\n",
    "        try:\n",
    "            req = urllib2.Request(url, headers=hdr)\n",
    "            page = urllib2.urlopen(req)\n",
    "            soup = BeautifulSoup(page)\n",
    "\n",
    "            soup_title = soup.findAll('h1', attrs={'class': 'b-article__title'})\n",
    "            title = soup_title[0].contents[0].contents[0]\n",
    "\n",
    "            text = ''\n",
    "            soup_text = soup.findAll('div', attrs={'class': 'b-article__body js-mediator-article'})\n",
    "            soup_text = soup_text[0].findAll('p')\n",
    "            i = 0\n",
    "            while len(soup_text[i].contents) < 2:\n",
    "                i += 1\n",
    "            text += soup_text[i].contents[-1].replace('&nbsp;',\n",
    "                                                      ' ').replace('&mdash;',\n",
    "                                                                   '-').strip().replace('&ndash;',\n",
    "                                                                                        '-').strip()\n",
    "#             print text\n",
    "            for par in soup_text[i+1:]:\n",
    "                text += par.contents[0].replace('&nbsp;',\n",
    "                                                ' ').replace('&mdash;',\n",
    "                                                             '-').strip().strip().replace('&ndash;',\n",
    "                                                                                          '-').strip()\n",
    "            text = regex_punct.sub(' ', text)\n",
    "            text = regex_spaces.sub(' ', text)\n",
    "            text = text.lower()\n",
    "            \n",
    "#             lemms = []\n",
    "#             for word in text.split(' '):\n",
    "#                 if len(word) > 2:\n",
    "#                     norm = morph.parse(word)[0].normal_form\n",
    "#                     if norm is not '':\n",
    "#                         lemms.append(norm)\n",
    "#             text = ' '.join(lemms)\n",
    "#             print text\n",
    "#             text += unicode(soup_text[0].contents[2].contents[1]).replace('&nbsp;',\n",
    "#                                                                           ' ').replace('&mdash;',\n",
    "#                                                                                        '-').strip()\n",
    "#             print text\n",
    "#             text += unicode(soup_text[0].contents[4].contents[0]).replace('&nbsp;',\n",
    "#                                                                           ' ').replace('&mdash;',\n",
    "#                                                                                        '-').strip()\n",
    "#             print text\n",
    "\n",
    "            tu = text_unit(cat, title, text)\n",
    "            corp.add(tu)\n",
    "#             break\n",
    "        except:\n",
    "#             print sys.exc_info()\n",
    "            counter += 1\n",
    "#             break\n",
    "    print counter\n",
    "#     break"
   ]
  },
  {
   "cell_type": "code",
   "execution_count": 7,
   "metadata": {
    "collapsed": false
   },
   "outputs": [
    {
     "name": "stdout",
     "output_type": "stream",
     "text": [
      "205\n"
     ]
    }
   ],
   "source": [
    "print corp.length"
   ]
  },
  {
   "cell_type": "markdown",
   "metadata": {
    "collapsed": true
   },
   "source": [
    "---"
   ]
  },
  {
   "cell_type": "code",
   "execution_count": 13,
   "metadata": {
    "collapsed": false
   },
   "outputs": [],
   "source": [
    "f_3gramms = codecs.open('/home/alexandr/Desktop/3grams-3.txt', 'r', 'utf-8')\n",
    "morph = pymorphy2.MorphAnalyzer()\n",
    "\n",
    "base_3grams = {}\n",
    "for line in f_3gramms:\n",
    "#     print line\n",
    "    line = regex_punct.sub(' ', line.strip())\n",
    "#     print line\n",
    "    line = regex_spaces.sub(' ', line)\n",
    "#     print line\n",
    "    tmp = line.split(' ')\n",
    "    base_3grams[' '.join(tmp[1:])] = int(tmp[0])\n",
    "#     break"
   ]
  },
  {
   "cell_type": "code",
   "execution_count": 14,
   "metadata": {
    "collapsed": false
   },
   "outputs": [
    {
     "data": {
      "text/plain": [
       "4504227"
      ]
     },
     "execution_count": 14,
     "metadata": {},
     "output_type": "execute_result"
    }
   ],
   "source": [
    "len(base_3grams)"
   ]
  },
  {
   "cell_type": "code",
   "execution_count": 20,
   "metadata": {
    "collapsed": false
   },
   "outputs": [
    {
     "name": "stdout",
     "output_type": "stream",
     "text": [
      "politics:\n",
      "\t3-grams match: 2139 of 12354\n",
      "\tperplexity: 18.0908995309\n",
      "\n",
      "incidents:\n",
      "\t3-grams match: 1815 of 11766\n",
      "\tperplexity: 18.3436813846\n",
      "\n"
     ]
    }
   ],
   "source": [
    "for cat in categories:\n",
    "    print '{}:'.format(cat)\n",
    "    texts = corp.get_by_cat(cat)\n",
    "    ref_3grams = {}\n",
    "    for text in texts:\n",
    "        grmas = ngrams(text.text.split(' '), 3)\n",
    "        for gram in grmas:\n",
    "            if ref_3grams.get(' '.join(gram), None) is None:\n",
    "                ref_3grams[' '.join(gram)] = 1\n",
    "            else:\n",
    "                ref_3grams[' '.join(gram)] += 1\n",
    "#         break\n",
    "    q1 = len(ref_3grams)\n",
    "    \n",
    "    tmp_sum = 0.0\n",
    "    q2 = float(len(base_3grams))\n",
    "    counter = 0\n",
    "    for ngr, ref_freq in ref_3grams.iteritems():\n",
    "#         print ngr\n",
    "        base_freq = base_3grams.get(ngr, 0)\n",
    "        if base_freq > 0:\n",
    "            counter += 1\n",
    "            tmp_sum -= np.log2(base_freq / q2)\n",
    "#     perplexity = tmp_sum * (1 / float(q1))\n",
    "    perplexity = tmp_sum * (1 / float(counter))\n",
    "#         break\n",
    "    print '\\t3-grams match: {} of {}'.format(counter, q1)\n",
    "    print '\\tperplexity: {}'.format(perplexity)\n",
    "    print"
   ]
  },
  {
   "cell_type": "code",
   "execution_count": null,
   "metadata": {
    "collapsed": true
   },
   "outputs": [],
   "source": []
  }
 ],
 "metadata": {
  "kernelspec": {
   "display_name": "Python 2",
   "language": "python",
   "name": "python2"
  },
  "language_info": {
   "codemirror_mode": {
    "name": "ipython",
    "version": 2
   },
   "file_extension": ".py",
   "mimetype": "text/x-python",
   "name": "python",
   "nbconvert_exporter": "python",
   "pygments_lexer": "ipython2",
   "version": "2.7.11+"
  },
  "widgets": {
   "state": {
    "0149a19191154151ac6bc0a4a0b6111c": {
     "views": []
    },
    "09720c3c5e2941918c4c7227a6c07d76": {
     "views": []
    },
    "0a6b185e096c48ae87261f7f3aee87af": {
     "views": []
    },
    "0a7cceb87f484c56902c8474de589dc9": {
     "views": []
    },
    "110451cc4798417cb3b7cb8687c3bbca": {
     "views": []
    },
    "1705476746cc48dcbe960071c037c615": {
     "views": []
    },
    "1c0459e245734f8d8a9a433e73be3347": {
     "views": []
    },
    "1dcecb8d89be40d3847a3d6486bf86f2": {
     "views": []
    },
    "1ecb9a6478cd49a4b04fa91249c53f54": {
     "views": []
    },
    "207e5e0b930a453697a5ba4c0ecfa594": {
     "views": []
    },
    "21ace3497ce9489cbf53b5781b1fac51": {
     "views": []
    },
    "22f80988a9d54231aca4fdceab5a2e1a": {
     "views": []
    },
    "2850b4d2cd4b4445bebe0c56299c5c9b": {
     "views": []
    },
    "2ef046b9979145d88873b71b2188a953": {
     "views": []
    },
    "2ef4613529e24f20968e2976fcd0ac5d": {
     "views": [
      {
       "cell_index": 5
      }
     ]
    },
    "2ef56b037eca4345a3679f9dc863dca3": {
     "views": []
    },
    "2fa686e18d414fd9aa2688b63607c0d7": {
     "views": []
    },
    "34f26ea473a640fe94a377aba9cafbd9": {
     "views": []
    },
    "3a32d8019fdf4d4888ed51dceacf6ab1": {
     "views": []
    },
    "3c90c3c57d7b42078e2a832c877fcfdb": {
     "views": []
    },
    "4f9de033822948148aa09899aae4ec34": {
     "views": []
    },
    "4fd7ff96171c47af9b18a090dc662d12": {
     "views": []
    },
    "502643bec0934cffb435c7a6eae02f68": {
     "views": []
    },
    "514a4e43d6554f5fa985234b4cf28388": {
     "views": []
    },
    "51b87112eaaf44cd816cb05238a63563": {
     "views": []
    },
    "53254919e49e4c8d9b11465ee882eade": {
     "views": []
    },
    "587321dc8dfb418c92fecc917d21b630": {
     "views": []
    },
    "5fa00db78604451a8fb5592c1b05ba3d": {
     "views": []
    },
    "5fc4a87e594748a2a3e8a5ea986e8a6b": {
     "views": []
    },
    "5fe85321db7d43a5a100241a425efa17": {
     "views": [
      {
       "cell_index": 3
      }
     ]
    },
    "61d9bf92d1f340ddbe789cac87349a6c": {
     "views": []
    },
    "63c451ad0e234b07b539aa4d44d02bdb": {
     "views": []
    },
    "6e70f96944dd4537947f932fa6c34a57": {
     "views": []
    },
    "6edbaf99625b44c482e57d8a67e08e95": {
     "views": []
    },
    "6ef029f1bc9f4a4f99130164a4216ad1": {
     "views": []
    },
    "6f5e106fd47d48c6a1fe3ae0ff1c93aa": {
     "views": []
    },
    "6ffafeebff054d23ba424368144e2bf8": {
     "views": []
    },
    "75dce63731094457a9ea9596295ac4eb": {
     "views": []
    },
    "782d2159fbd049daaecdfd36b8d41763": {
     "views": []
    },
    "7c5fa7fd01d04bcfb96e6a5f261ace10": {
     "views": []
    },
    "7d04c23919194a56bd9e25a3ecb5d072": {
     "views": []
    },
    "80af63a6120e4d6088ed904aac8bae37": {
     "views": []
    },
    "82e7abb337d44e49b54b8a7fb59510bd": {
     "views": []
    },
    "84253afaad7145d68e6f63b5808be8ff": {
     "views": []
    },
    "8549df6ef76d4c09846a4e8bb313b7a8": {
     "views": []
    },
    "860116de6b5246dcac8759284ed3810c": {
     "views": []
    },
    "8a3d9cfb2e6a44cb9d1fc511a858521b": {
     "views": []
    },
    "8dd88f15fe6348ed8106ba004502bd1b": {
     "views": []
    },
    "9002030087cc4e4098f22f31b4ce4ba0": {
     "views": [
      {
       "cell_index": 5
      }
     ]
    },
    "9e0274817cb44107862aee3480252790": {
     "views": []
    },
    "9eaeabcaef414affa715a748b2bf3620": {
     "views": []
    },
    "a29732cb33804e2cb4e7740f4453a818": {
     "views": []
    },
    "a3a7e88ece1c4aafb207929696e5080b": {
     "views": []
    },
    "a565489d4ee04eb7861636b75093ba5d": {
     "views": []
    },
    "a8b53debdaff4c1d9fd455a236a8c0a7": {
     "views": []
    },
    "b0ac670342a74ce0a4f44dae4c21be11": {
     "views": []
    },
    "b0fbeaafa1b648d0b5eba892dc8169f3": {
     "views": []
    },
    "b41d81ea893f4932a3ca1cc55b05c285": {
     "views": [
      {
       "cell_index": 5
      }
     ]
    },
    "b44523bf07d543829933ecd397e4a609": {
     "views": []
    },
    "be9fe7aa589e498189b4c83e55695b25": {
     "views": []
    },
    "c141ffc040564d969d9c124d09c855ef": {
     "views": []
    },
    "c3d27612184244758517b362e31f492a": {
     "views": []
    },
    "c41c5d0680f64f8289f076cdfed5f2c3": {
     "views": []
    },
    "cba7e308621648ff9e3520c506c5fa19": {
     "views": []
    },
    "ccf98a1bed6e43eca8b168488788d9aa": {
     "views": []
    },
    "cf751e9950704cdc8dbcd103b13280ad": {
     "views": []
    },
    "cf8a346147b14f01903925a0a8952232": {
     "views": []
    },
    "d2102d55c98648a08b4e0f4006131723": {
     "views": []
    },
    "d7cf146c351042e78747834ea0fd84d4": {
     "views": []
    },
    "de4ddae995e04c3ebccf0b6f0188d5cf": {
     "views": []
    },
    "ed6cd71bcdc34791b982f5b6d45848c1": {
     "views": []
    },
    "f00c93962e7044feacb178c0308f994c": {
     "views": []
    },
    "f0eb7834555146cdad45edf13281616e": {
     "views": []
    },
    "f59321ff5217437288bbca42ba907888": {
     "views": []
    },
    "f62cc7ef3d2e4ff099183f3574e799f8": {
     "views": []
    },
    "fc5a7066636544338c84a9e1c481f6a1": {
     "views": []
    },
    "fcf1dabf423144008aae9567fdb60223": {
     "views": []
    },
    "ff5532d558b743758285b515424e6f59": {
     "views": []
    }
   },
   "version": "1.1.1"
  }
 },
 "nbformat": 4,
 "nbformat_minor": 0
}
