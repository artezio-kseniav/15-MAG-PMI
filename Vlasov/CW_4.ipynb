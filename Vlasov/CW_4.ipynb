{
 "cells": [
  {
   "cell_type": "code",
   "execution_count": 2,
   "metadata": {
    "collapsed": true
   },
   "outputs": [],
   "source": [
    "import numpy as np\n",
    "from sklearn.feature_extraction.text import TfidfVectorizer\n",
    "from sklearn.decomposition import TruncatedSVD\n",
    "from sklearn.cross_validation import train_test_split\n",
    "from sklearn.neighbors import KNeighborsClassifier\n",
    "from sklearn.datasets import fetch_20newsgroups\n",
    "data = fetch_20newsgroups(categories=['comp.sys.mac.hardware', 'rec.sport.hockey', 'sci.space', 'rec.motorcycles'])"
   ]
  },
  {
   "cell_type": "code",
   "execution_count": 3,
   "metadata": {
    "collapsed": true
   },
   "outputs": [],
   "source": [
    "tfidf = TfidfVectorizer(stop_words='english')\n",
    "corpus = tfidf.fit_transform(data.data)\n",
    "svd = TruncatedSVD(n_components=10)\n",
    "X_svd = svd.fit_transform(corpus)"
   ]
  },
  {
   "cell_type": "code",
   "execution_count": 4,
   "metadata": {
    "collapsed": false
   },
   "outputs": [
    {
     "name": "stdout",
     "output_type": "stream",
     "text": [
      "(0.031966224366706875, 0.04360056258790436)\n"
     ]
    }
   ],
   "source": [
    "X_train, X_test, y_train, y_test = train_test_split(X_svd, data.target, test_size = 0.3, random_state = 1) \n",
    "\n",
    "knn = KNeighborsClassifier().fit(X_train, y_train)\n",
    "\n",
    "y_train_predict = knn.predict(X_train)\n",
    "y_test_predict = knn.predict(X_test)\n",
    "\n",
    "err_train = np.mean(y_train != y_train_predict)\n",
    "err_test  = np.mean(y_test  != y_test_predict)\n",
    "\n",
    "print (err_train, err_test)"
   ]
  },
  {
   "cell_type": "code",
   "execution_count": 5,
   "metadata": {
    "collapsed": false
   },
   "outputs": [
    {
     "name": "stdout",
     "output_type": "stream",
     "text": [
      "===============================================================================\n",
      "Hidden category (component 1), twelve popular words:\n",
      "[u'university' u'just' u'don' u'like' u'lines' u'organization' u'subject'\n",
      " u'writes' u'article' u'space' u'ca' u'com']\n",
      "===============================================================================\n",
      "Hidden category (component 2), twelve popular words:\n",
      "[u'aurora' u'launch' u'shuttle' u'orbit' u'digex' u'moon' u'com' u'access'\n",
      " u'alaska' u'gov' u'henry' u'nasa']\n",
      "===============================================================================\n",
      "Hidden category (component 3), twelve popular words:\n",
      "[u'zoology' u'aurora' u'jpl' u'spencer' u'team' u'zoo' u'moon' u'gov'\n",
      " u'alaska' u'toronto' u'henry' u'nasa']\n",
      "===============================================================================\n",
      "Hidden category (component 4), twelve popular words:\n",
      "[u'zoo' u'keenan' u'toronto' u'espn' u'alaska' u'henry' u'dare' u'gary'\n",
      " u'cc' u'cunixb' u'columbia' u'gld']\n",
      "===============================================================================\n",
      "Hidden category (component 5), twelve popular words:\n",
      "[u'helmet' u'sun' u'nec' u'behanna' u'dod' u'gary' u'dare' u'bike' u'cc'\n",
      " u'cunixb' u'com' u'columbia']\n",
      "===============================================================================\n",
      "Hidden category (component 6), twelve popular words:\n",
      "[u'man' u'edu' u'kipling' u'eng' u'utzoo' u'umd' u'work' u'alaska'\n",
      " u'zoology' u'spencer' u'zoo' u'toronto']\n",
      "===============================================================================\n",
      "Hidden category (component 7), twelve popular words:\n",
      "[u'kelvin' u'nasa' u'zoology' u'__' u'spencer' u'jpl' u'zoo' u'bnr'\n",
      " u'baalke' u'gov' u'toronto' u'henry']\n",
      "===============================================================================\n",
      "Hidden category (component 8), twelve popular words:\n",
      "[u'express' u'cunixb' u'zoo' u'prb' u'columbia' u'apple' u'gld' u'com'\n",
      " u'toronto' u'pat' u'henry' u'digex']\n",
      "===============================================================================\n",
      "Hidden category (component 9), twelve popular words:\n",
      "[u'rauser' u'europeans' u'nhl' u'space' u'gld' u'laurentian' u'columbia'\n",
      " u'alaska' u'roger' u'gainey' u'players' u'maynard']\n",
      "===============================================================================\n",
      "Hidden category (component 10), twelve popular words:\n",
      "[u'baalke' u'pettefar' u'umd' u'sas' u'upenn' u'ca' u'nick' u'pat' u'digex'\n",
      " u'access' u'edu' u'bnr']\n"
     ]
    }
   ],
   "source": [
    "for com_num, topic in enumerate(svd.components_):\n",
    "    print('===============================================================================')\n",
    "    print(\"Hidden category (component {}), twelve popular words:\".format(com_num+1))\n",
    "    print(np.asarray(tfidf.get_feature_names())[np.argsort(topic)[-13:-1]][:])"
   ]
  },
  {
   "cell_type": "code",
   "execution_count": null,
   "metadata": {
    "collapsed": true
   },
   "outputs": [],
   "source": []
  }
 ],
 "metadata": {
  "kernelspec": {
   "display_name": "Python 2",
   "language": "python",
   "name": "python2"
  },
  "language_info": {
   "codemirror_mode": {
    "name": "ipython",
    "version": 2
   },
   "file_extension": ".py",
   "mimetype": "text/x-python",
   "name": "python",
   "nbconvert_exporter": "python",
   "pygments_lexer": "ipython2",
   "version": "2.7.9"
  }
 },
 "nbformat": 4,
 "nbformat_minor": 0
}
