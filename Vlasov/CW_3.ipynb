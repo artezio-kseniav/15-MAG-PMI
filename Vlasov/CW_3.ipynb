{
 "cells": [
  {
   "cell_type": "code",
   "execution_count": 2,
   "metadata": {
    "collapsed": false
   },
   "outputs": [],
   "source": [
    "import feedparser\n",
    "from urllib2 import urlopen\n",
    "import lxml.html as html\n",
    "import nltk\n",
    "import string"
   ]
  },
  {
   "cell_type": "code",
   "execution_count": 45,
   "metadata": {
    "collapsed": false
   },
   "outputs": [],
   "source": [
    "d = feedparser.parse('https://lenta.ru/rss/articles')\n",
    "dataDict = dict()\n",
    "for e in d.entries:\n",
    "    request = urlopen(e.link).read().decode('utf-8')\n",
    "    page = html.document_fromstring(request)\n",
    "    text = nltk.word_tokenize(''.join(page.xpath(\"//div[@class='b-text clearfix']/p//text()\")))\n",
    "    text = [word.encode('utf-8').lower() for word in text if word not in string.punctuation\n",
    "                    and word not in [u'\\u2012', u'\\u2013', u'\\u2014', u'\\u2015', u'``', u\"''\"]]\n",
    "    if e.category in dataDict:\n",
    "        dataDict[e.category] += text\n",
    "    else:\n",
    "        dataDict[e.category] = text"
   ]
  },
  {
   "cell_type": "code",
   "execution_count": 33,
   "metadata": {
    "collapsed": false
   },
   "outputs": [],
   "source": [
    "def load_ngrams(in_file):\n",
    "    input_f = open(in_file, \"r\")\n",
    "    n_dict = {}\n",
    "    for line in input_f:\n",
    "        line = line.replace('\\n','').split('\\t')\n",
    "        line = [word for word in line if word not in [''] and word not in string.punctuation]\n",
    "        n_dict[tuple(line[1:])] = int(line[0])\n",
    "    input_f.close()\n",
    "    return n_dict"
   ]
  },
  {
   "cell_type": "code",
   "execution_count": 34,
   "metadata": {
    "collapsed": false
   },
   "outputs": [],
   "source": [
    "n2_dict = load_ngrams(\"2grams-3.txt\")"
   ]
  },
  {
   "cell_type": "code",
   "execution_count": 35,
   "metadata": {
    "collapsed": false
   },
   "outputs": [],
   "source": [
    "n3_dict = load_ngrams(\"3grams-3.txt\")"
   ]
  },
  {
   "cell_type": "code",
   "execution_count": 52,
   "metadata": {
    "collapsed": true
   },
   "outputs": [],
   "source": [
    "import math\n",
    "def compute_perplexity(category, n3_dict, n2_dict):\n",
    "    sum_probability = 0\n",
    "    unknown_words = 0\n",
    "    min_probability = 1\n",
    "    sum_log = 0\n",
    "\n",
    "    for i in range(2, len(category)):\n",
    "        try:\n",
    "            current_probability = (n3_dict[(category[i-2], category[i-1], category[i])] + 0.0)/n2_dict[(category[i-2],category[i-1])]\n",
    "            sum_probability += current_probability\n",
    "            if current_probability < min_probability:\n",
    "                min_probability = current_probability\n",
    "        except KeyError:\n",
    "            unknown_words +=1\n",
    "    print (unknown_words, len(category), sum_probability)\n",
    "    known_words = len(category) - unknown_words\n",
    "    min_probability /= 10\n",
    "    probability_to_substract = (unknown_words * min_probability + 0.0) / known_words\n",
    "    for i in range(2, len(category)):\n",
    "        try:\n",
    "            current_probability = (n3_dict[(category[i-2], category[i-1], category[i])] + 0.0)/(n2_dict[(category[i-2], category[i-1])])\n",
    "            sum_log += math.log(current_probability - probability_to_substract, 2)\n",
    "        except KeyError:\n",
    "            sum_log += math.log(min_probability, 2)\n",
    "\n",
    "    return sum_log"
   ]
  },
  {
   "cell_type": "code",
   "execution_count": 60,
   "metadata": {
    "collapsed": false
   },
   "outputs": [
    {
     "name": "stdout",
     "output_type": "stream",
     "text": [
      "(3940, 4624, 12781.013231984643)\n",
      "Perplexity for 69-я параллель = 26243.4414926\n",
      "(13028, 15474, 61845.62473183796)\n",
      "Perplexity for Наука и техника = 50323.0255395\n",
      "(14480, 17502, 81203.32692778941)\n",
      "Perplexity for Мир = 36493.4434325\n",
      "(4801, 5521, 29043.137931312463)\n",
      "Perplexity for Ценности = 44066.2385491\n",
      "(10678, 12834, 46052.21317224106)\n",
      "Perplexity for Финансы = 23285.1819143\n",
      "(3584, 4525, 18198.70219022509)\n",
      "Perplexity for Из жизни = 27972.5519146\n",
      "(9805, 11669, 38699.30409394305)\n",
      "Perplexity for Путешествия = 50765.65036\n",
      "(9613, 11906, 57770.93361333205)\n",
      "Perplexity for Библиотека = 29040.5312117\n",
      "(15041, 17598, 34282.60132377665)\n",
      "Perplexity for Культура = 45121.9571557\n",
      "(32164, 38899, 200529.8689486297)\n",
      "Perplexity for Россия = 42726.9866872\n",
      "(16419, 19213, 102035.4801184347)\n",
      "Perplexity for Силовые структуры = 47469.8308416\n",
      "(7847, 9295, 48977.88934164327)\n",
      "Perplexity for Интернет и СМИ = 28872.0009843\n",
      "(12330, 14639, 60325.93189266505)\n",
      "Perplexity for Бывший СССР = 51917.5238794\n",
      "(24185, 28730, 156830.3836332658)\n",
      "Perplexity for Спорт = 42909.9151606\n",
      "(9768, 11785, 92714.40774035577)\n",
      "Perplexity for Бизнес = 26488.3945132\n"
     ]
    }
   ],
   "source": [
    "for key,value in dataDict.items():\n",
    "    sum_log_2 = compute_perplexity(value, n3_dict, n2_dict)\n",
    "    print(\"Perplexity for {} = {}\".format(key.encode('utf-8'), 2**(-sum_log_2 / len(value))))"
   ]
  }
 ],
 "metadata": {
  "kernelspec": {
   "display_name": "Python 2",
   "language": "python",
   "name": "python2"
  },
  "language_info": {
   "codemirror_mode": {
    "name": "ipython",
    "version": 2
   },
   "file_extension": ".py",
   "mimetype": "text/x-python",
   "name": "python",
   "nbconvert_exporter": "python",
   "pygments_lexer": "ipython2",
   "version": "2.7.11"
  }
 },
 "nbformat": 4,
 "nbformat_minor": 0
}
