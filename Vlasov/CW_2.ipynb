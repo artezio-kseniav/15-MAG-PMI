{
 "cells": [
  {
   "cell_type": "code",
   "execution_count": 1,
   "metadata": {
    "collapsed": true
   },
   "outputs": [],
   "source": [
    "from nltk import word_tokenize\n",
    "from sklearn.metrics.pairwise import cosine_similarity\n",
    "from sklearn.datasets import fetch_20newsgroups\n",
    "from sklearn.feature_extraction.text import TfidfVectorizer\n",
    "from nltk.stem import SnowballStemmer\n",
    "import matplotlib.pyplot as plt\n",
    "import pylab as pl\n",
    "import numpy as np\n",
    "%matplotlib inline"
   ]
  },
  {
   "cell_type": "code",
   "execution_count": 2,
   "metadata": {
    "collapsed": true
   },
   "outputs": [],
   "source": [
    "def do_search(query):\n",
    "\n",
    "    tfidf_query = tfidfVectorizer.transform([query])\n",
    "    words = query.split()\n",
    "        \n",
    "    fig = pl.figure()\n",
    "    ax = pl.subplot(111)\n",
    "    width=0.3\n",
    "    ax.bar(range(len(words)), [tfidf_query.data[i] for i in range(len(words))], width=width)\n",
    "    ax.set_xticks(np.arange(len(words)) + width/2)\n",
    "    ax.set_xticklabels(words, rotation=90)\n",
    "    ax.set_ylabel('TF-IDF')\n",
    "    ax.set_xlabel('Query words')\n",
    "    ax.set_title('TF-IDF index for words of query')\n",
    "\n",
    "    similarity = {}\n",
    "    index = 0\n",
    "    for document in tfidf_index:\n",
    "        similarity[texts.data[index]] = cosine_similarity(document, tfidf_query)[0][0]\n",
    "        index += 1\n",
    "\n",
    "    result = sorted(similarity.values(), reverse=True)\n",
    "\n",
    "    for i in range(5):\n",
    "        text = similarity.keys()[similarity.values().index(result[i])]\n",
    "        lines = text.split('\\n')\n",
    "        print 'Score: ', result[i], '\\n'\n",
    "\n",
    "        for i in range(6):\n",
    "            print lines[i].encode(\"ascii\", \"ignore\")\n",
    "        print '**********************************************************\\n'"
   ]
  },
  {
   "cell_type": "code",
   "execution_count": 3,
   "metadata": {
    "collapsed": false
   },
   "outputs": [
    {
     "name": "stdout",
     "output_type": "stream",
     "text": [
      "Totics: ['alt.atheism', 'comp.graphics', 'comp.os.ms-windows.misc', 'comp.sys.ibm.pc.hardware', 'comp.sys.mac.hardware', 'comp.windows.x', 'misc.forsale', 'rec.autos', 'rec.motorcycles', 'rec.sport.baseball', 'rec.sport.hockey', 'sci.crypt', 'sci.electronics', 'sci.med', 'sci.space', 'soc.religion.christian', 'talk.politics.guns', 'talk.politics.mideast', 'talk.politics.misc', 'talk.religion.misc']\n",
      "Totics num: 20\n",
      "Total files: 18846\n"
     ]
    }
   ],
   "source": [
    "texts = fetch_20newsgroups(subset='all')\n",
    "print 'Totics:',texts.target_names\n",
    "print 'Totics num:', len(texts.target_names)\n",
    "print 'Total files:', len(texts.data)\n",
    "tfidfVectorizer = TfidfVectorizer(stop_words='english', analyzer='word')\n",
    "tfidf_index = tfidfVectorizer.fit_transform(texts.data)"
   ]
  },
  {
   "cell_type": "code",
   "execution_count": 4,
   "metadata": {
    "collapsed": false
   },
   "outputs": [
    {
     "name": "stdout",
     "output_type": "stream",
     "text": [
      "Score:  0.336986390006 \n",
      "\n",
      "From: scotts@bbking.FtCollinsCO.NCR.COM ( Scott Sherman)\n",
      "Subject: Re: Computer Engr vs.  Computer Science\n",
      "Distribution: usa\n",
      "Organization: NCR Microelectronics Products Division (an AT&T Company)\n",
      "Lines: 20\n",
      "\n",
      "**********************************************************\n",
      "\n",
      "Score:  0.277700273281 \n",
      "\n",
      "From: rh@smds.com (Richard Harter)\n",
      "Subject: Re: Rawlins debunks creationism\n",
      "Reply-To: rh@ishmael.UUCP (Richard Harter)\n",
      "Organization: Software Maintenance & Development Systems, Inc.\n",
      "Lines: 79\n",
      "\n",
      "**********************************************************\n",
      "\n",
      "Score:  0.263921675098 \n",
      "\n",
      "From: lady@uhunix.uhcc.Hawaii.Edu (Lee Lady)\n",
      "Subject: Re: Science and Methodology\n",
      "Summary: Merely avoiding mistakes doesn't get you anywhere.\n",
      "Organization: University of Hawaii (Mathematics Dept)\n",
      "Expires: Mon, 10 May 1993 10:00:00 GMT\n",
      "Lines: 57\n",
      "**********************************************************\n",
      "\n",
      "Score:  0.263658732292 \n",
      "\n",
      "From: greg@cs.uct.ac.za (Gregory Torrance)\n",
      "Subject: Automatic layout of state diagrams\n",
      "Organization: Computer Science Department, University of Cape Town\n",
      "Lines: 18\n",
      "\n",
      "Hi,\n",
      "**********************************************************\n",
      "\n",
      "Score:  0.256166118735 \n",
      "\n",
      "From: tecot@Xenon.Stanford.EDU (Edward M. Tecot)\n",
      "Subject: Re: Computer Engr vs. Computer Science\n",
      "Organization: CS Department, Stanford University, California, USA\n",
      "Distribution: usa\n",
      "Lines: 21\n",
      "\n",
      "**********************************************************\n",
      "\n"
     ]
    },
    {
     "data": {
      "image/png": "[encoded data removed]",
      "text/plain": [
       "<matplotlib.figure.Figure at 0x108e38f10>"
      ]
     },
     "metadata": {},
     "output_type": "display_data"
    }
   ],
   "source": [
    "do_search(\"computer science\")"
   ]
  },
  {
   "cell_type": "code",
   "execution_count": null,
   "metadata": {
    "collapsed": true
   },
   "outputs": [],
   "source": []
  }
 ],
 "metadata": {
  "kernelspec": {
   "display_name": "Python 2",
   "language": "python",
   "name": "python2"
  },
  "language_info": {
   "codemirror_mode": {
    "name": "ipython",
    "version": 2
   },
   "file_extension": ".py",
   "mimetype": "text/x-python",
   "name": "python",
   "nbconvert_exporter": "python",
   "pygments_lexer": "ipython2",
   "version": "2.7.9"
  }
 },
 "nbformat": 4,
 "nbformat_minor": 0
}
