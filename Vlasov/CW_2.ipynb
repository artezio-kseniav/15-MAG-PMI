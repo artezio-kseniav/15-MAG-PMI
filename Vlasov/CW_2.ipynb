{
 "cells": [
  {
   "cell_type": "code",
   "execution_count": 1,
   "metadata": {
    "collapsed": true
   },
   "outputs": [],
   "source": [
    "from nltk import word_tokenize\n",
    "from sklearn.metrics.pairwise import cosine_similarity\n",
    "from sklearn.datasets import fetch_20newsgroups\n",
    "from sklearn.feature_extraction.text import TfidfVectorizer\n",
    "from nltk.stem import SnowballStemmer\n",
    "import matplotlib.pyplot as plt\n",
    "import pylab as pl\n",
    "import numpy as np\n",
    "%matplotlib inline"
   ]
  },
  {
   "cell_type": "code",
   "execution_count": 2,
   "metadata": {
    "collapsed": true
   },
   "outputs": [],
   "source": [
    "def do_search(query):\n",
    "\n",
    "    tfidf_query = tfidfVectorizer.transform([query])\n",
    "    words = query.split()\n",
    "        \n",
    "    fig = pl.figure()\n",
    "    ax = pl.subplot(111)\n",
    "    width=0.3\n",
    "    ax.bar(range(len(words)), [tfidf_query.data[i] for i in range(len(words))], width=width)\n",
    "    ax.set_xticks(np.arange(len(words)) + width/2)\n",
    "    ax.set_xticklabels(words, rotation=90)\n",
    "    ax.set_ylabel('TF-IDF')\n",
    "    ax.set_xlabel('Query words')\n",
    "    ax.set_title('TF-IDF index for words of query')\n",
    "\n",
    "    similarity = {}\n",
    "    index = 0\n",
    "    for document in tfidf_index:\n",
    "        similarity[texts.data[index]] = cosine_similarity(document, tfidf_query)[0][0]\n",
    "        index += 1\n",
    "\n",
    "    result = sorted(similarity.values(), reverse=True)\n",
    "\n",
    "    # Show top-5 the most relevant results\n",
    "    for i in range(5):\n",
    "        text = similarity.keys()[similarity.values().index(result[i])]\n",
    "        lines = text.split('\\n')\n",
    "        print 'Score: ', result[i], '\\n'\n",
    "\n",
    "        for i in range(6):\n",
    "            print lines[i].encode(\"ascii\", \"ignore\")\n",
    "        print '**********************************************************\\n'"
   ]
  },
  {
   "cell_type": "code",
   "execution_count": 3,
   "metadata": {
    "collapsed": false
   },
   "outputs": [
    {
     "name": "stdout",
     "output_type": "stream",
     "text": [
      "Totics: ['alt.atheism', 'comp.graphics', 'comp.os.ms-windows.misc', 'comp.sys.ibm.pc.hardware', 'comp.sys.mac.hardware', 'comp.windows.x', 'misc.forsale', 'rec.autos', 'rec.motorcycles', 'rec.sport.baseball', 'rec.sport.hockey', 'sci.crypt', 'sci.electronics', 'sci.med', 'sci.space', 'soc.religion.christian', 'talk.politics.guns', 'talk.politics.mideast', 'talk.politics.misc', 'talk.religion.misc']\n",
      "Totics num: 20\n",
      "Total files: 18846\n"
     ]
    }
   ],
   "source": [
    "texts = fetch_20newsgroups(subset='all')\n",
    "print 'Totics:',texts.target_names\n",
    "print 'Totics num:', len(texts.target_names)\n",
    "print 'Total files:', len(texts.data)\n",
    "tfidfVectorizer = TfidfVectorizer(stop_words='english', analyzer='word')\n",
    "tfidf_index = tfidfVectorizer.fit_transform(texts.data)"
   ]
  },
  {
   "cell_type": "code",
   "execution_count": null,
   "metadata": {
    "collapsed": true
   },
   "outputs": [],
   "source": [
    "do_search(\"computer science\")"
   ]
  },
  {
   "cell_type": "code",
   "execution_count": null,
   "metadata": {
    "collapsed": true
   },
   "outputs": [],
   "source": []
  }
 ],
 "metadata": {
  "kernelspec": {
   "display_name": "Python 2",
   "language": "python",
   "name": "python2"
  },
  "language_info": {
   "codemirror_mode": {
    "name": "ipython",
    "version": 2
   },
   "file_extension": ".py",
   "mimetype": "text/x-python",
   "name": "python",
   "nbconvert_exporter": "python",
   "pygments_lexer": "ipython2",
   "version": "2.7.9"
  }
 },
 "nbformat": 4,
 "nbformat_minor": 0
}
