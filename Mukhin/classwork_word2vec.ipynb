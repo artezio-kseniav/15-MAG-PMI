{
 "cells": [
  {
   "cell_type": "code",
   "execution_count": 3,
   "metadata": {
    "collapsed": false
   },
   "outputs": [],
   "source": [
    "from sklearn.datasets import fetch_20newsgroups\n",
    "import numpy as np\n",
    "import nltk\n",
    "from pprint import pprint\n",
    "from collections import defaultdict\n",
    "import string\n",
    "import gensim"
   ]
  },
  {
   "cell_type": "code",
   "execution_count": 110,
   "metadata": {
    "collapsed": true
   },
   "outputs": [],
   "source": [
    "newsgroups = fetch_20newsgroups(subset='all', shuffle=True, random_state=1)"
   ]
  },
  {
   "cell_type": "markdown",
   "metadata": {},
   "source": [
    "Список категорий новостей"
   ]
  },
  {
   "cell_type": "code",
   "execution_count": 111,
   "metadata": {
    "collapsed": false
   },
   "outputs": [],
   "source": [
    "newsgroups_tokenized = [nltk.word_tokenize(text) for text in newsgroups.data]\n",
    "\n",
    "news_corpus = []\n",
    "for text in newsgroups_tokenized:\n",
    "    lemms = []\n",
    "    for word in text:\n",
    "        if word not in string.punctuation:\n",
    "            lemms.append(word.lower())\n",
    "    news_corpus.append(lemms)"
   ]
  },
  {
   "cell_type": "markdown",
   "metadata": {},
   "source": [
    "## Word2Vec"
   ]
  },
  {
   "cell_type": "code",
   "execution_count": 112,
   "metadata": {
    "collapsed": false
   },
   "outputs": [
    {
     "name": "stdout",
     "output_type": "stream",
     "text": [
      "CPU times: user 1min 47s, sys: 140 ms, total: 1min 47s\n",
      "Wall time: 41.2 s\n"
     ]
    }
   ],
   "source": [
    "%time news_model = gensim.models.Word2Vec(news_corpus)"
   ]
  },
  {
   "cell_type": "markdown",
   "metadata": {},
   "source": [
    "## Word Similarity"
   ]
  },
  {
   "cell_type": "code",
   "execution_count": 113,
   "metadata": {
    "collapsed": false
   },
   "outputs": [
    {
     "data": {
      "text/plain": [
       "0.79468524095656834"
      ]
     },
     "execution_count": 113,
     "metadata": {},
     "output_type": "execute_result"
    }
   ],
   "source": [
    "news_model.similarity('woman', 'man')"
   ]
  },
  {
   "cell_type": "code",
   "execution_count": 114,
   "metadata": {
    "collapsed": false
   },
   "outputs": [
    {
     "data": {
      "text/plain": [
       "0.26020104943079481"
      ]
     },
     "execution_count": 114,
     "metadata": {},
     "output_type": "execute_result"
    }
   ],
   "source": [
    "news_model.similarity('fish', 'sword')"
   ]
  },
  {
   "cell_type": "code",
   "execution_count": 115,
   "metadata": {
    "collapsed": false
   },
   "outputs": [
    {
     "data": {
      "text/plain": [
       "0.04857417685691872"
      ]
     },
     "execution_count": 115,
     "metadata": {},
     "output_type": "execute_result"
    }
   ],
   "source": [
    "news_model.similarity('dinosaur', 'hello')"
   ]
  },
  {
   "cell_type": "code",
   "execution_count": 116,
   "metadata": {
    "collapsed": false
   },
   "outputs": [
    {
     "data": {
      "text/plain": [
       "0.71518765170173382"
      ]
     },
     "execution_count": 116,
     "metadata": {},
     "output_type": "execute_result"
    }
   ],
   "source": [
    "news_model.similarity('good', 'bad')"
   ]
  },
  {
   "cell_type": "markdown",
   "metadata": {},
   "source": [
    "## Extra word"
   ]
  },
  {
   "cell_type": "code",
   "execution_count": 117,
   "metadata": {
    "collapsed": false
   },
   "outputs": [
    {
     "data": {
      "text/plain": [
       "'young'"
      ]
     },
     "execution_count": 117,
     "metadata": {},
     "output_type": "execute_result"
    }
   ],
   "source": [
    "news_model.doesnt_match(['white','black', 'yellow', 'young'])"
   ]
  },
  {
   "cell_type": "code",
   "execution_count": 118,
   "metadata": {
    "collapsed": false
   },
   "outputs": [
    {
     "data": {
      "text/plain": [
       "'mushroom'"
      ]
     },
     "execution_count": 118,
     "metadata": {},
     "output_type": "execute_result"
    }
   ],
   "source": [
    "news_model.doesnt_match(['bear', 'wolf', 'mushroom', 'fox', 'dog', 'sheep'])"
   ]
  },
  {
   "cell_type": "code",
   "execution_count": 119,
   "metadata": {
    "collapsed": false
   },
   "outputs": [
    {
     "data": {
      "text/plain": [
       "'tasty'"
      ]
     },
     "execution_count": 119,
     "metadata": {},
     "output_type": "execute_result"
    }
   ],
   "source": [
    "news_model.doesnt_match(['high', 'medium', 'low', 'tasty'])"
   ]
  },
  {
   "cell_type": "markdown",
   "metadata": {},
   "source": [
    "Word2Vec довольно хорошо справляется с определением лишнего слова"
   ]
  },
  {
   "cell_type": "markdown",
   "metadata": {},
   "source": [
    "## Word operations"
   ]
  },
  {
   "cell_type": "code",
   "execution_count": 123,
   "metadata": {
    "collapsed": false
   },
   "outputs": [
    {
     "data": {
      "text/plain": [
       "[('hail', 0.7127733826637268),\n",
       " ('no-hitter', 0.7109435796737671),\n",
       " ('horse', 0.7021899819374084),\n",
       " ('king', 0.6842073202133179),\n",
       " ('abraham', 0.6611087322235107),\n",
       " ('song', 0.6604819893836975),\n",
       " ('anointed', 0.6539974212646484),\n",
       " ('behold', 0.6536659002304077),\n",
       " ('supper', 0.6508122086524963),\n",
       " ('bosio', 0.6447402238845825)]"
      ]
     },
     "execution_count": 123,
     "metadata": {},
     "output_type": "execute_result"
    }
   ],
   "source": [
    "news_model.most_similar(positive=['knight', 'man'])"
   ]
  },
  {
   "cell_type": "code",
   "execution_count": 136,
   "metadata": {
    "collapsed": false
   },
   "outputs": [
    {
     "data": {
      "text/plain": [
       "[('person', 0.6234979033470154),\n",
       " ('children', 0.5605962872505188),\n",
       " ('child', 0.5492953062057495),\n",
       " ('people', 0.5437657833099365),\n",
       " ('god', 0.5394831895828247),\n",
       " ('her', 0.5270007252693176),\n",
       " ('she', 0.5183849334716797),\n",
       " ('them', 0.5121266841888428),\n",
       " ('myself', 0.5064300894737244),\n",
       " ('individuals', 0.49890971183776855)]"
      ]
     },
     "execution_count": 136,
     "metadata": {},
     "output_type": "execute_result"
    }
   ],
   "source": [
    "news_model.most_similar(positive=['man'], negative = ['knight'])"
   ]
  },
  {
   "cell_type": "code",
   "execution_count": 141,
   "metadata": {
    "collapsed": false
   },
   "outputs": [
    {
     "data": {
      "text/plain": [
       "[('nation', 0.8266297578811646),\n",
       " ('leadership', 0.7458621263504028),\n",
       " ('administration', 0.7339550256729126),\n",
       " ('continued', 0.7272189259529114),\n",
       " ('battle', 0.7249901294708252),\n",
       " ('investigation', 0.7223186492919922),\n",
       " ('democracy', 0.7207075357437134),\n",
       " ('movement', 0.7201599478721619),\n",
       " ('land', 0.7179700136184692),\n",
       " ('negotiations', 0.7149029970169067)]"
      ]
     },
     "execution_count": 141,
     "metadata": {},
     "output_type": "execute_result"
    }
   ],
   "source": [
    "news_model.most_similar(positive=['war', 'president', 'country'])"
   ]
  }
 ],
 "metadata": {
  "kernelspec": {
   "display_name": "Python 3",
   "language": "python",
   "name": "python3"
  },
  "language_info": {
   "codemirror_mode": {
    "name": "ipython",
    "version": 3
   },
   "file_extension": ".py",
   "mimetype": "text/x-python",
   "name": "python",
   "nbconvert_exporter": "python",
   "pygments_lexer": "ipython3",
   "version": "3.5.1"
  }
 },
 "nbformat": 4,
 "nbformat_minor": 0
}
