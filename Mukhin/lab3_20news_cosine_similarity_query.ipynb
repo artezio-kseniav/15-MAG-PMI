{
 "cells": [
  {
   "cell_type": "code",
   "execution_count": 1,
   "metadata": {
    "collapsed": true
   },
   "outputs": [],
   "source": [
    "from sklearn.datasets import fetch_20newsgroups\n",
    "from sklearn.feature_extraction.text import TfidfVectorizer\n",
    "from pprint import pprint\n",
    "import re"
   ]
  },
  {
   "cell_type": "code",
   "execution_count": 2,
   "metadata": {
    "collapsed": false
   },
   "outputs": [],
   "source": [
    "import nltk\n",
    "from nltk.stem.snowball import SnowballStemmer\n",
    "#nltk.download()\n",
    "stemmer = SnowballStemmer(\"english\")\n",
    "\n",
    "def tokenize_and_stem(text):\n",
    "    # first tokenize by sentence, then by word to ensure that punctuation is caught as it's own token\n",
    "    tokens = [word for sent in nltk.sent_tokenize(text) for word in nltk.word_tokenize(sent)]\n",
    "    filtered_tokens = []\n",
    "    # filter out any tokens not containing letters (e.g., numeric tokens, raw punctuation)\n",
    "    for token in tokens:\n",
    "        if re.search('[a-zA-Z]', token):\n",
    "            filtered_tokens.append(token)\n",
    "    stems = [stemmer.stem(t) for t in filtered_tokens]\n",
    "    return stems"
   ]
  },
  {
   "cell_type": "code",
   "execution_count": 3,
   "metadata": {
    "collapsed": false,
    "scrolled": true
   },
   "outputs": [
    {
     "name": "stdout",
     "output_type": "stream",
     "text": [
      "['sci.crypt', 'sci.electronics', 'sci.med', 'sci.space']\n"
     ]
    }
   ],
   "source": [
    "newsgroups = fetch_20newsgroups(categories=['sci.crypt', 'sci.electronics', 'sci.med', 'sci.space'], \\\n",
    "                                shuffle=True, random_state=1)\n",
    "pprint(list(newsgroups.target_names))"
   ]
  },
  {
   "cell_type": "code",
   "execution_count": 4,
   "metadata": {
    "collapsed": false
   },
   "outputs": [
    {
     "name": "stdout",
     "output_type": "stream",
     "text": [
      "Elements number: 2373\n"
     ]
    }
   ],
   "source": [
    "print 'Elements number:', len(newsgroups.data)"
   ]
  },
  {
   "cell_type": "code",
   "execution_count": 5,
   "metadata": {
    "collapsed": false
   },
   "outputs": [
    {
     "name": "stdout",
     "output_type": "stream",
     "text": [
      "CPU times: user 18.1 s, sys: 116 ms, total: 18.2 s\n",
      "Wall time: 18.3 s\n"
     ]
    }
   ],
   "source": [
    "vectorizer = TfidfVectorizer(stop_words='english', use_idf=True,\n",
    "                             max_df=0.8, max_features=200000, tokenizer=tokenize_and_stem)\n",
    "%time data = vectorizer.fit_transform(newsgroups.data)"
   ]
  },
  {
   "cell_type": "code",
   "execution_count": 6,
   "metadata": {
    "collapsed": false
   },
   "outputs": [],
   "source": [
    "def get_subject(number):\n",
    "    # get subject by number of new\n",
    "    head = newsgroups.data[number].split(\"\\n\")[:5]\n",
    "    return \" \".join([x if 'Subject' in x else '' for x in head])    "
   ]
  },
  {
   "cell_type": "code",
   "execution_count": 11,
   "metadata": {
    "collapsed": false
   },
   "outputs": [],
   "source": [
    "from sklearn.metrics.pairwise import cosine_similarity\n",
    "import warnings\n",
    "warnings.filterwarnings('ignore')\n",
    "\n",
    "data_array  = data.toarray()\n",
    "\n",
    "def do_query(query, results_number=10):\n",
    "    tfidf_query = vectorizer.transform((query,))\n",
    "    query_array = tfidf_query.toarray()\n",
    "    \n",
    "    results = []\n",
    "    for news_count in xrange(data.shape[0]):\n",
    "        results.append((cosine_similarity(data_array[news_count], query_array), get_subject(news_count)))\n",
    "\n",
    "\n",
    "    for i in sorted(results, reverse = True)[:results_number]:\n",
    "        print '(similarity: ', '%5f' % i[0][0], ')        ', i[1].lstrip()\n",
    "    "
   ]
  },
  {
   "cell_type": "code",
   "execution_count": 12,
   "metadata": {
    "collapsed": false
   },
   "outputs": [
    {
     "name": "stdout",
     "output_type": "stream",
     "text": [
      "(similarity:  0.337688 )         Subject: Re: Discussions on alt.psychoactives   \n",
      "(similarity:  0.293077 )         Subject: Re: Once tapped, your code is no good any more.    \n",
      "(similarity:  0.282552 )         Subject: Should patients read package inserts (PDR)?   \n",
      "(similarity:  0.252110 )         Subject: Re: Once tapped, your code is no good any more.   \n",
      "(similarity:  0.223682 )         Subject: Re: Would \"clipper\" make a good cover for other encryption method?   \n",
      "(similarity:  0.193691 )         Subject: **Sorry folks** (read this)   \n",
      "(similarity:  0.168738 )         Subject: Re: Clipper Chip. LONG follow up.   \n",
      "(similarity:  0.166855 )         Subject: Re: tuberculosis   \n",
      "(similarity:  0.154703 )         Subject: Re: fibromyalgia   \n",
      "(similarity:  0.153091 )         Subject: Re: Altitude adjustment   \n"
     ]
    }
   ],
   "source": [
    "do_query(\"drugs\")"
   ]
  },
  {
   "cell_type": "code",
   "execution_count": 14,
   "metadata": {
    "collapsed": false
   },
   "outputs": [
    {
     "name": "stdout",
     "output_type": "stream",
     "text": [
      "(similarity:  0.509334 )         Subject: End of the Space Age   \n",
      "(similarity:  0.496821 )         Subject: Space FAQ 13/15 - Interest Groups & Publications   \n",
      "(similarity:  0.365454 )         Subject: Space FAQ 08/15 - Addresses   \n",
      "(similarity:  0.353916 )         Subject: Alaska Pipeline and Space Station!   \n",
      "(similarity:  0.305852 )         Subject: A flawed propulsion system: Space Shuttle   \n",
      "(similarity:  0.305026 )         Subject: Space FAQ 02/15 - Network Resources    \n",
      "(similarity:  0.301404 )         Subject: End of the Space Age?   \n",
      "(similarity:  0.299803 )         Subject: Space Clipper Launch Article   \n",
      "(similarity:  0.296308 )         Subject: Space Clippers launched   \n",
      "(similarity:  0.282328 )         Subject: Re: space food sticks   \n"
     ]
    }
   ],
   "source": [
    "do_query(\"space\")"
   ]
  },
  {
   "cell_type": "code",
   "execution_count": 15,
   "metadata": {
    "collapsed": false
   },
   "outputs": [
    {
     "name": "stdout",
     "output_type": "stream",
     "text": [
      "(similarity:  0.165520 )         Subject: Privacy & Anonymity on the Internet FAQ (2 of 3)   \n",
      "(similarity:  0.160194 )         Subject: Screw the people, crypto is for hard-core hackers & spooks only   \n",
      "(similarity:  0.139711 )         Subject: Re: Licensing of public key implementations   \n",
      "(similarity:  0.139664 )         Subject: HELP: 20ma current loop to RS232 converter needed.   \n",
      "(similarity:  0.131292 )         Subject: Re: The [secret] source of that announcement   \n",
      "(similarity:  0.128254 )         Subject: Re: Don't fight Clipper Chip, subvert or replace it !   \n",
      "(similarity:  0.121868 )         Subject: Re: Sunrise/ sunset times   \n",
      "(similarity:  0.121007 )         Subject: Cryptography FAQ 10/10 - References   \n",
      "(similarity:  0.120482 )         Subject: Re: text of White House announcement and Q&As on clipper chip encryption   \n",
      "(similarity:  0.118645 )         Subject: Space FAQ 04/15 - Calculations   \n"
     ]
    }
   ],
   "source": [
    "do_query(\"computer\")"
   ]
  },
  {
   "cell_type": "code",
   "execution_count": 20,
   "metadata": {
    "collapsed": false
   },
   "outputs": [
    {
     "name": "stdout",
     "output_type": "stream",
     "text": [
      "(similarity:  0.496701 )         Subject: Re: Is MSG sensitivity superstition?   \n",
      "(similarity:  0.416468 )         Subject: Re: space food sticks   \n",
      "(similarity:  0.383777 )         Subject: Re: Is MSG sensitivity superstition?   \n",
      "(similarity:  0.359315 )         Subject: Re: Is MSG sensitivity superstition?   \n",
      "(similarity:  0.357552 )         Subject: Re: space food sticks   \n",
      "(similarity:  0.346709 )         Subject: Re: Barbecued foods and health risk   \n",
      "(similarity:  0.319753 )         Subject: Re: space food sticks   \n",
      "(similarity:  0.315675 )         Subject: Re: Is MSG sensitivity superstition?   \n",
      "(similarity:  0.312388 )         Subject: Re: Is MSG sensitivity superstition?   \n",
      "(similarity:  0.295430 )         Subject: End of the Space Age   \n"
     ]
    }
   ],
   "source": [
    "do_query(\"space food\")"
   ]
  }
 ],
 "metadata": {
  "kernelspec": {
   "display_name": "Python 2",
   "language": "python",
   "name": "python2"
  },
  "language_info": {
   "codemirror_mode": {
    "name": "ipython",
    "version": 2
   },
   "file_extension": ".py",
   "mimetype": "text/x-python",
   "name": "python",
   "nbconvert_exporter": "python",
   "pygments_lexer": "ipython2",
   "version": "2.7.11"
  }
 },
 "nbformat": 4,
 "nbformat_minor": 0
}
