{
 "cells": [
  {
   "cell_type": "code",
   "execution_count": 1,
   "metadata": {
    "collapsed": false
   },
   "outputs": [],
   "source": [
    "from sklearn.feature_extraction.text import TfidfVectorizer as tf_idf \n",
    "import scipy.sparse \n",
    "import sklearn.cluster \n",
    "import sklearn.decomposition \n",
    "import matplotlib \n",
    "import numpy as np\n",
    "from matplotlib import pyplot as plt \n",
    "from sklearn.datasets import fetch_20newsgroups \n",
    "import matplotlib.cm as cm"
   ]
  },
  {
   "cell_type": "code",
   "execution_count": 2,
   "metadata": {
    "collapsed": false
   },
   "outputs": [
    {
     "name": "stdout",
     "output_type": "stream",
     "text": [
      "(18846,)\n"
     ]
    }
   ],
   "source": [
    "X= fetch_20newsgroups(subset='all') \n",
    "n_class=len(X.target_names) \n",
    "print X.target.shape"
   ]
  },
  {
   "cell_type": "code",
   "execution_count": 3,
   "metadata": {
    "collapsed": false
   },
   "outputs": [],
   "source": [
    "X_tf_idf = tf_idf().fit_transform(X.data) \n",
    "filled_markers = (u\"o\", u'v', u'^', u'<', u'>', u'8', u's', u'p', u'*', u'h', u'H', u'D', u'd',u'+',u'>',u'<',u'x',u'.',u'|',u'_',u',') \n",
    "classes = sklearn.cluster.k_means(X_tf_idf, n_class)[1] \n",
    "fig=[] \n"
   ]
  },
  {
   "cell_type": "code",
   "execution_count": 4,
   "metadata": {
    "collapsed": false
   },
   "outputs": [],
   "source": [
    "col=[]\n",
    "#filled_markers = (\"o\", \"v\", \"^\", \"<\", \">\", \"8\", \"s\", \"p\", \"*\", \"h\", \"H\", \"D\", \"d\",\"+\",\">\",\"<\",\"x\",\".\",\"|\",\"_\",\",\") \n",
    "colors = cm.rainbow(np.linspace(0, 1, 20))\n",
    "for i in range(len(classes)): \n",
    "    fig.append(filled_markers[classes[i]]) \n",
    "    col.append(colors[X.target[i]])\n",
    "#print len(fig),col "
   ]
  },
  {
   "cell_type": "code",
   "execution_count": 11,
   "metadata": {
    "collapsed": false
   },
   "outputs": [],
   "source": [
    "components = sklearn.decomposition.TruncatedSVD(2).fit_transform(X_tf_idf) \n",
    "\n",
    "\n"
   ]
  },
  {
   "cell_type": "markdown",
   "metadata": {},
   "source": [
    "# 20 классов (отличаются цветом) и 20 кластреров (отличаются маркером)"
   ]
  },
  {
   "cell_type": "code",
   "execution_count": 12,
   "metadata": {
    "collapsed": true
   },
   "outputs": [],
   "source": [
    "plt.figure(figsize = (20, 20))\n",
    "for _s, c, _x, _y in zip(fig, col, components[:,0], components[:,1]): \n",
    "    plt.scatter(_x, _y,s=80,   color=c,marker=_s) \n",
    "    #print _x, _y, _s,c\n",
    "\n",
    "plt.xlim(-0.05,0.8) \n",
    "plt.ylim(-0.3,0.4) \n",
    "#for h in range(len(fig)):\n",
    "    #plt.legend(fig[h],label=h,hold='on')\n",
    "\n",
    "plt.show()"
   ]
  },
  {
   "cell_type": "code",
   "execution_count": 13,
   "metadata": {
    "collapsed": true
   },
   "outputs": [],
   "source": [
    "classes = sklearn.cluster.k_means(X_tf_idf, 5)[1] "
   ]
  },
  {
   "cell_type": "code",
   "execution_count": 21,
   "metadata": {
    "collapsed": false
   },
   "outputs": [],
   "source": [
    "col=[]\n",
    "fig=[]\n",
    "filled_markers = (\"o\", \"v\", \"^\", \"<\", \">\") \n",
    "colors = cm.rainbow(np.linspace(0, 1, 20))\n",
    "for i in range(len(classes)): \n",
    "    fig.append(filled_markers[classes[i]]) \n",
    "    col.append(colors[X.target[i]])\n"
   ]
  },
  {
   "cell_type": "markdown",
   "metadata": {},
   "source": [
    "# 20 классов (отличаются цветом) и 5 кластреров (отличаются маркером)"
   ]
  },
  {
   "cell_type": "code",
   "execution_count": 20,
   "metadata": {
    "collapsed": false
   },
   "outputs": [],
   "source": [
    "components = sklearn.decomposition.TruncatedSVD(2).fit_transform(X_tf_idf) \n",
    "plt.figure(figsize = (20, 20))\n",
    "for _s, c, _x, _y in zip(fig, col, components[:,0], components[:,1]): \n",
    "    plt.scatter(_x, _y,s=80,   color=c,marker=_s,hold='on') \n",
    "    #print _x, _y, _s,c\n",
    "\n",
    "plt.xlim(-0.05,0.8) \n",
    "plt.ylim(-0.3,0.4) \n",
    "#for h in range(len(fig)):\n",
    "    #plt.legend(fig[h],label=h,hold='on')\n",
    "plt.show()"
   ]
  }
 ],
 "metadata": {
  "kernelspec": {
   "display_name": "Python 2",
   "language": "python",
   "name": "python2"
  },
  "language_info": {
   "codemirror_mode": {
    "name": "ipython",
    "version": 2
   },
   "file_extension": ".py",
   "mimetype": "text/x-python",
   "name": "python",
   "nbconvert_exporter": "python",
   "pygments_lexer": "ipython2",
   "version": "2.7.11"
  }
 },
 "nbformat": 4,
 "nbformat_minor": 0
}
