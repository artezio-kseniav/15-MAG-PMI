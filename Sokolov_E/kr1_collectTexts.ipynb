{
 "cells": [
  {
   "cell_type": "code",
   "execution_count": 2,
   "metadata": {
    "collapsed": false
   },
   "outputs": [
    {
     "name": "stderr",
     "output_type": "stream",
     "text": [
      "100%|██████████████████████████████████████████████████████████████████████████████████████████████████████████████████████| 47/47 [00:51<00:00,  1.68s/it]"
     ]
    },
    {
     "name": "stdout",
     "output_type": "stream",
     "text": [
      "business\n",
      "business: 47\n",
      "sports"
     ]
    },
    {
     "name": "stderr",
     "output_type": "stream",
     "text": [
      "\n",
      "100%|██████████████████████████████████████████████████████████████████████████████████████████████████████████████████████| 88/88 [01:56<00:00,  1.14s/it]"
     ]
    },
    {
     "name": "stdout",
     "output_type": "stream",
     "text": [
      "\n",
      "sports: 88\n"
     ]
    },
    {
     "name": "stderr",
     "output_type": "stream",
     "text": [
      "\n"
     ]
    }
   ],
   "source": [
    "import urllib2\n",
    "from bs4 import BeautifulSoup, SoupStrainer\n",
    "from cookielib import CookieJar\n",
    "import time\n",
    "import re\n",
    "\n",
    "# Cookie enable\n",
    "cj = CookieJar()\n",
    "opener = urllib2.build_opener(urllib2.HTTPCookieProcessor(cj))\n",
    "\n",
    "def getPageText( pagelink ):\n",
    "        text = []\n",
    "        page = opener.open(pagelink).read()\n",
    "        response = BeautifulSoup( page , \"html.parser\", parse_only=SoupStrainer(\"p\") )\n",
    "        for a in response:\n",
    "            if 'class' in a.attrs:\n",
    "                if 'story-body-text' in a['class']:\n",
    "                     text.append(a.text)\n",
    "        return '\\n'.join(text)\n",
    "\n",
    "def grabNewForGroup( group ):\n",
    "    url = '''http://www.nytimes.com/pages/{}/index.html'''.format(group)\n",
    "    p = opener.open(url)\n",
    "    page = p.read()\n",
    "    #print page\n",
    "    response = BeautifulSoup( page , \"html.parser\", parse_only=SoupStrainer(\"a\") )\n",
    "    sports_pages = []\n",
    "    for a in response:\n",
    "            if 'href' in a.attrs:\n",
    "                if '?ref' in a['href']:\n",
    "                    if re.search(\"\\/[0-9]{4}\\/[0-9]{2}\\/[0-9]{2}\", a['href']):\n",
    "                        sports_pages.append(a['href'])\n",
    "    \n",
    "\n",
    "    sport_texts = []\n",
    "    print group\n",
    "    from tqdm import tqdm\n",
    "    for link in tqdm(sports_pages): \n",
    "        sport_texts.append(getPageText(link))\n",
    "    print group + \": \" + str(len(sports_pages))\n",
    "    return sport_texts    \n",
    "    \n",
    "    \n",
    "groups = ['business','sports']\n",
    "group_texts = dict()\n",
    "\n",
    "for g in groups:\n",
    "    group_texts[g] = grabNewForGroup(g)"
   ]
  },
  {
   "cell_type": "code",
   "execution_count": 72,
   "metadata": {
    "collapsed": false
   },
   "outputs": [
    {
     "name": "stdout",
     "output_type": "stream",
     "text": [
      "\n"
     ]
    }
   ],
   "source": [
    "print "
   ]
  },
  {
   "cell_type": "code",
   "execution_count": null,
   "metadata": {
    "collapsed": true
   },
   "outputs": [],
   "source": []
  }
 ],
 "metadata": {
  "kernelspec": {
   "display_name": "Python 2",
   "language": "python",
   "name": "python2"
  },
  "language_info": {
   "codemirror_mode": {
    "name": "ipython",
    "version": 2
   },
   "file_extension": ".py",
   "mimetype": "text/x-python",
   "name": "python",
   "nbconvert_exporter": "python",
   "pygments_lexer": "ipython2",
   "version": "2.7.10"
  }
 },
 "nbformat": 4,
 "nbformat_minor": 0
}
