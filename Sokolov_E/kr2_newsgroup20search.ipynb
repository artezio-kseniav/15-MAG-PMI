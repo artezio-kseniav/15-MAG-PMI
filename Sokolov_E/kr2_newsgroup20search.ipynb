{
 "cells": [
  {
   "cell_type": "code",
   "execution_count": 6,
   "metadata": {
    "collapsed": true
   },
   "outputs": [],
   "source": [
    "from sklearn.datasets import fetch_20newsgroups\n",
    "from pprint import pprint\n",
    "from sklearn.feature_extraction.text import TfidfVectorizer\n",
    "import numpy as np\n",
    "import nltk\n",
    "from collections import defaultdict\n",
    "import string\n",
    "from nltk.stem.porter import PorterStemmer"
   ]
  },
  {
   "cell_type": "code",
   "execution_count": 7,
   "metadata": {
    "collapsed": false
   },
   "outputs": [],
   "source": [
    "newsgroups = fetch_20newsgroups(categories=['comp.graphics','comp.os.ms-windows.misc','rec.autos','rec.sport.hockey'],\n",
    "                                subset='all', shuffle=True, random_state=1)"
   ]
  },
  {
   "cell_type": "code",
   "execution_count": 14,
   "metadata": {
    "collapsed": false
   },
   "outputs": [
    {
     "name": "stdout",
     "output_type": "stream",
     "text": [
      "3947 documents\n",
      "4 categories\n"
     ]
    }
   ],
   "source": [
    "print \"%d documents\" % len(newsgroups.data)\n",
    "print \"%d categories\" % len(newsgroups.target_names)"
   ]
  },
  {
   "cell_type": "code",
   "execution_count": 9,
   "metadata": {
    "collapsed": true
   },
   "outputs": [],
   "source": [
    "stemmer = PorterStemmer()\n",
    "def stem_tokens(tokens, stemmer):\n",
    "    stemmed = []\n",
    "    for item in tokens:\n",
    "        stemmed.append(stemmer.stem(item))\n",
    "    return stemmed\n",
    "\n",
    "def tokenize(text):\n",
    "    tokens = nltk.word_tokenize(text)\n",
    "    tokens = [i for i in tokens if i not in string.punctuation]\n",
    "    stems = stem_tokens(tokens, stemmer)\n",
    "    return stems"
   ]
  },
  {
   "cell_type": "code",
   "execution_count": 10,
   "metadata": {
    "collapsed": false
   },
   "outputs": [],
   "source": [
    "vectorizer = TfidfVectorizer(stop_words='english', tokenizer=tokenize)\n",
    "tfidf_data = vectorizer.fit_transform(newsgroups.data)"
   ]
  },
  {
   "cell_type": "code",
   "execution_count": 28,
   "metadata": {
    "collapsed": false
   },
   "outputs": [],
   "source": [
    "query = 'hockey ball news'\n",
    "tfidf_query = vectorizer.transform([query])"
   ]
  },
  {
   "cell_type": "code",
   "execution_count": 29,
   "metadata": {
    "collapsed": false
   },
   "outputs": [
    {
     "name": "stdout",
     "output_type": "stream",
     "text": [
      "news  -  0.5287165361\n",
      "hockey  -  0.433434690162\n",
      "ball  -  0.729789828525\n"
     ]
    }
   ],
   "source": [
    "feature_names = vectorizer.get_feature_names()\n",
    "\n",
    "for word in tfidf_query.nonzero()[1]:\n",
    "    print feature_names[word], ' - ', tfidf_query[0, word]\n"
   ]
  },
  {
   "cell_type": "markdown",
   "metadata": {},
   "source": [
    "#Print top_count texts simular to query sorted by cosine simularity"
   ]
  },
  {
   "cell_type": "code",
   "execution_count": 30,
   "metadata": {
    "collapsed": false
   },
   "outputs": [],
   "source": [
    "def query_results(query_string, top_count):\n",
    "    tfidf_query = vectorizer.transform([query_string])\n",
    "    cosine_similarities = defaultdict(float) #словарь всех дистанций\n",
    "    count = 0\n",
    "    for doc in tfidf_data: #for each document in corpus search cosin distance with query\n",
    "        cosine_similarity = doc*(tfidf_query[0].transpose()) \n",
    "        if not cosine_similarity:\n",
    "            cosine_similarity = 0.0\n",
    "        else:\n",
    "            # matrix -> number\n",
    "            cosine_similarity = cosine_similarity[0,0]\n",
    "        cosine_similarities[newsgroups.data[count]] = cosine_similarity\n",
    "        count += 1\n",
    "    for key, value in sorted(cosine_similarities.items(), reverse=True, key=lambda x:x[1])[:top_count]:\n",
    "        print'Similarity value = ', value, '', key\n",
    "        print '----------------------------------------------------------------------'"
   ]
  },
  {
   "cell_type": "code",
   "execution_count": 31,
   "metadata": {
    "collapsed": false
   },
   "outputs": [
    {
     "name": "stdout",
     "output_type": "stream",
     "text": [
      "Similarity value =  0.463363771111  From: zstern@adobe.com (Zalman Stern)\n",
      "Subject: Re: Adobe Photo Shop type software for Unix/X/Motif platforms?\n",
      "Organization: Adobe Systems Incorporated\n",
      "Lines: 24\n",
      "\n",
      "Charles Boesel writes\n",
      "> \n",
      "> In article <C5w8xB.Iv6@world.std.com>  \n",
      "(sci.image.processing,comp.graphics), wdm@world.std.com (Wayne Michael)  \n",
      "writes:\n",
      "> >    I have been searching for a quality image enhancement and\n",
      "> >    manipulation package for Unix/X/Motif platforms that is comparable\n",
      "> >    to Adobe Photo Shop for the Mac. [stuff deleted]\n",
      "> \n",
      "> I understand that Adobe is working on making Photoshop available for\n",
      "> the SGI Indigo, but that is just \"rumor\" and I wouldn't bet on it\n",
      "> until I see it. But they >are< going to release Illustrator for the SGI\n",
      "> \"real soon now.\"\n",
      "> \n",
      "\n",
      "Illustrator for SGI is a shipping product. Adobe and SGI have announced that  \n",
      "Photoshop is being ported to SGI machines. A simillar announcement has been  \n",
      "made by Adobe and Sun for Sun platforms. No dates have been announced to the  \n",
      "best of my knowledge.\n",
      "--\n",
      "Zalman Stern\t\t   zalman@adobe.com\t\t    (415) 962 3824\n",
      "Adobe Systems, 1585 Charleston Rd., POB 7900, Mountain View, CA 94039-7900\n",
      "  \"We're just a couple of joyful little pervo-goats.\" -- Akbar (Jeff?)\n",
      "\n",
      "\n",
      "----------------------------------------------------------------------\n",
      "Similarity value =  0.386970419512  From: ib@ivan.asd.sgi.com (Ivan Bach)\n",
      "Subject: Re: Adobe Photo Shop type software for Unix/X/Motif platforms?\n",
      "Nntp-Posting-Host: ivan.asd.sgi.com\n",
      "Organization: Silicon Graphics, Inc., Mountain View, CA\n",
      "Lines: 9\n",
      "\n",
      "We have been shipping for over one year the Adobe Display PostScript (DPS)\n",
      "on Silicon Graphics workstations, file servers, and supercomputers.\n",
      "The Adobe Illustrator 3.5 for Silicon Graphics machines was released\n",
      "last February.  Adobe and SGI announced last October that Photoshop\n",
      "will be available on SGI systems in 1993.  Initial release will support \n",
      "24-bit color graphics.\n",
      "\n",
      "Ivan Bach, ib@sgi.com\n",
      "Disclaimer: I do not speak for my employer.\n",
      "\n",
      "----------------------------------------------------------------------\n"
     ]
    }
   ],
   "source": [
    "query_results(\"photoshot adobe\", 2)"
   ]
  },
  {
   "cell_type": "code",
   "execution_count": 39,
   "metadata": {
    "collapsed": false
   },
   "outputs": [
    {
     "name": "stdout",
     "output_type": "stream",
     "text": [
      "('Similarity value = ', 0.40246044928991215, '', u\"From: apland@mala.bc.ca (Ron Apland)\\nSubject: Re: DOS6 & Novell Netware\\nOrganization: Malaspina College\\nLines: 21\\n\\nIn article <1rre2d$26d@usenet.INS.CWRU.Edu>, cu826@cleveland.Freenet.Edu (Mahbub Anam) writes:\\n> \\n> I friend of mine installed dos6 at work and is hooked up to a Novell\\n> network, running Netware 386 v.3.11.  The problem he's having is that the\\n> doublespace program is using drive 'h' as the swap drive, which is\\n> confliting with the networks mapped drives.\\n> \\n> Is there switch to place the swap drive to someother drive?\\n> Please e-mail....thanks a bunch!!\\n> -- \\n> Mahbub\\n> cu826@cleveland.freenet.edu\\n\\nDetermine the last dblspace drive required and set that as lastdrive in your\\nconfig.sys  If you are using W4WW you might want to go a couple of drives higher\\nto give you some shared drive space.  Reboot and Novell will set its first\\ndrive one above the lastdrive in config.sys.  You might have to remap some\\nof your Novell drives if they were originally mapped to lower drives.  Make\\nsure that the bat file or whatever you are using to log onto Novell is set\\nto the correct drive (one above the lastdrive setting in the config.sys file).\\n\\n\")\n",
      "----------------------------------------------------------------------\n",
      "('Similarity value = ', 0.36481875226019467, '', u'From: apland@mala.bc.ca (Ron Apland)\\nSubject: Re: W4WG & Novell\\nOrganization: Malaspina College\\nLines: 29\\n\\nIn article <1993Apr27.102626.1@csc.canterbury.ac.nz>, cctr132@csc.canterbury.ac.nz (Nick FitzGerald, PC Software Consultant, CSC, UoC, NZ) writes:\\n> In article <1rh2mi$ea4@msuinfo.cl.msu.edu>, bilan@cps.msu.edu (Thomas J\\n> Bilan) writes:\\n> \\n>> If I put LASTDRIVE = Z in my config.sys, NETX will run but I can\\'t access\\n>> drive f: to log in to Novell.  \\n>> If I don\\'t put LASTDRIVE = Z in my config.sys I can\\'t access other W4WG \\n>> drives from the file-manager.\\n>>\\n>> It seems that there should be a way to make NETX work with the LASTDRIVE = \\n>> statement in my Config.Sys.\\n> \\n> First off, I haven\\'t used W4WG (but I think that\\'s about to change!).\\n> \\n> The problem is the LASTDRIVE command and the way NetWare in general (and\\n> in this case NETX in particular) adds drives to the device chain. \\n> Setting LASTDRIVE=Z means there are no \"unassigned\" (as opposed to\\n> \"unused\") drive letters for NetWare to use, as it tacks its drive\\n> mappings -onto the end- of the existing list of drives.  W4WG obviously\\n> attaches its network drives to \"existing, unused\" drive letters.\\n> \\n> I\\'d guess the next thing I\\'d try is something like LASTDRIVE=M, which on\\n> most machines will leave a fair swathe of drives for W4WG and still\\n> allow up to 13 NetWare drive mappings as well.\\n\\nW4WG requires DOS drives.  I use LASTDRIVE=J which makes my first Novell drive\\nK and leaves me drives G, H, I and J for W4WG.  My local DOS drives use A-F.\\n\\nRon\\n')\n",
      "----------------------------------------------------------------------\n"
     ]
    }
   ],
   "source": [
    "query_results(\"car drive\", 2)"
   ]
  }
 ],
 "metadata": {
  "kernelspec": {
   "display_name": "Python 2",
   "language": "python",
   "name": "python2"
  },
  "language_info": {
   "codemirror_mode": {
    "name": "ipython",
    "version": 2
   },
   "file_extension": ".py",
   "mimetype": "text/x-python",
   "name": "python",
   "nbconvert_exporter": "python",
   "pygments_lexer": "ipython2",
   "version": "2.7.10"
  }
 },
 "nbformat": 4,
 "nbformat_minor": 0
}
