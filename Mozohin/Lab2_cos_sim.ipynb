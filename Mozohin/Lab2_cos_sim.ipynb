{
 "cells": [
  {
   "cell_type": "code",
   "execution_count": 46,
   "metadata": {
    "collapsed": false
   },
   "outputs": [],
   "source": [
    "from nltk import word_tokenize\n",
    "from sklearn.metrics.pairwise import cosine_similarity\n",
    "from sklearn.datasets import fetch_20newsgroups\n",
    "from sklearn.feature_extraction.text import TfidfVectorizer\n",
    "from nltk.stem import SnowballStemmer\n",
    "import matplotlib.pyplot as plt\n",
    "import pylab as pl\n",
    "import numpy as np\n",
    "%matplotlib inline"
   ]
  },
  {
   "cell_type": "code",
   "execution_count": 63,
   "metadata": {
    "collapsed": false
   },
   "outputs": [],
   "source": [
    "def do_search(query):\n",
    "\n",
    "    tfidf_query = tfidfVectorizer.transform([query])\n",
    "    words = query.split()\n",
    "        \n",
    "    # Show bar with TF-IDF of each word in query\n",
    "    fig = pl.figure()\n",
    "    ax = pl.subplot(111)\n",
    "    width=0.3\n",
    "    ax.bar(range(len(words)), [tfidf_query.data[i] for i in range(len(words))], width=width)\n",
    "    ax.set_xticks(np.arange(len(words)) + width/2)\n",
    "    ax.set_xticklabels(words, rotation=90)\n",
    "    ax.set_ylabel('TF-IDF')\n",
    "    ax.set_xlabel('Query words')\n",
    "    ax.set_title('TF-IDF index for words of query')\n",
    "\n",
    "    # Find cosine similarity for query and texts\n",
    "    similarity = {}\n",
    "    index = 0\n",
    "    for document in tfidf_index:\n",
    "        similarity[texts.data[index]] = cosine_similarity(document, tfidf_query)[0][0]\n",
    "        index += 1\n",
    "\n",
    "    result = sorted(similarity.values(), reverse=True)\n",
    "\n",
    "    # Show top-5 the most relevant results\n",
    "    for i in range(5):\n",
    "        text = similarity.keys()[similarity.values().index(result[i])]\n",
    "        lines = text.split('\\n')\n",
    "        print 'Score: ', result[i], '\\n'\n",
    "\n",
    "        for i in range(6):\n",
    "            print lines[i].encode(\"ascii\", \"ignore\")\n",
    "        print '**********************************************************\\n'"
   ]
  },
  {
   "cell_type": "code",
   "execution_count": 64,
   "metadata": {
    "collapsed": false
   },
   "outputs": [
    {
     "name": "stdout",
     "output_type": "stream",
     "text": [
      "Totics: ['alt.atheism', 'comp.graphics', 'comp.os.ms-windows.misc', 'comp.sys.ibm.pc.hardware', 'comp.sys.mac.hardware', 'comp.windows.x', 'misc.forsale', 'rec.autos', 'rec.motorcycles', 'rec.sport.baseball', 'rec.sport.hockey', 'sci.crypt', 'sci.electronics', 'sci.med', 'sci.space', 'soc.religion.christian', 'talk.politics.guns', 'talk.politics.mideast', 'talk.politics.misc', 'talk.religion.misc']\n",
      "Totics num: 20\n",
      "Total files: 18846\n"
     ]
    }
   ],
   "source": [
    "texts = fetch_20newsgroups(subset='all')\n",
    "print 'Totics:',texts.target_names\n",
    "print 'Totics num:', len(texts.target_names)\n",
    "print 'Total files:', len(texts.data)\n",
    "tfidfVectorizer = TfidfVectorizer(stop_words='english', analyzer='word')\n",
    "tfidf_index = tfidfVectorizer.fit_transform(texts.data)"
   ]
  },
  {
   "cell_type": "code",
   "execution_count": 65,
   "metadata": {
    "collapsed": false
   },
   "outputs": [
    {
     "name": "stdout",
     "output_type": "stream",
     "text": [
      "Score:  0.231304731933 \n",
      "\n",
      "From: dempsey@stsci.edu\n",
      "Subject: Re: HST Servicing Mission Scheduled for 11 Days\n",
      "Lines: 46\n",
      "Organization: Space Telescope Science Institute\n",
      "Distribution: na\n",
      "\n",
      "**********************************************************\n",
      "\n",
      "Score:  0.224856512128 \n",
      "\n",
      "From: august1@server.uwindsor.ca (AUGUSTYN  ROBERT         )\n",
      "Subject: Data path width from 16 to 32 bits but speed less then double?\n",
      "Organization: University of Windsor, Ontario, Canada\n",
      "Lines: 5\n",
      "\n",
      "In evolution of 80-x86 data path width has been doubled from \n",
      "**********************************************************\n",
      "\n",
      "Score:  0.219756892803 \n",
      "\n",
      "From: nfotis@ntua.gr (Nick C. Fotis)\n",
      "Subject: (17 Apr 93) Computer Graphics Resource Listing : WEEKLY [part 2/3]\n",
      "Lines: 1023\n",
      "Reply-To: nfotis@theseas.ntua.gr (Nick (Nikolaos) Fotis)\n",
      "Organization: National Technical Univ. of Athens\n",
      "\n",
      "**********************************************************\n",
      "\n",
      "Score:  0.218560141111 \n",
      "\n",
      "From: nfotis@ntua.gr (Nick C. Fotis)\n",
      "Subject: (27 Apr 93) Computer Graphics Resource Listing : WEEKLY [part 2/3]\n",
      "Lines: 1029\n",
      "Reply-To: nfotis@theseas.ntua.gr (Nick (Nikolaos) Fotis)\n",
      "Organization: National Technical Univ. of Athens\n",
      "\n",
      "**********************************************************\n",
      "\n",
      "Score:  0.216466836361 \n",
      "\n",
      "From: nfotis@ntua.gr (Nick C. Fotis)\n",
      "Subject: (27 Apr 93) Computer Graphics Resource Listing : WEEKLY [part 3/3]\n",
      "Lines: 1529\n",
      "Reply-To: nfotis@theseas.ntua.gr (Nick (Nikolaos) Fotis)\n",
      "Organization: National Technical Univ. of Athens\n",
      "\n",
      "**********************************************************\n",
      "\n"
     ]
    },
    {
     "data": {
      "image/png": "[encoded data removed]",
      "text/plain": [
       "<matplotlib.figure.Figure at 0x2be99d68>"
      ]
     },
     "metadata": {},
     "output_type": "display_data"
    }
   ],
   "source": [
    "do_search(\"data analysis\")"
   ]
  },
  {
   "cell_type": "code",
   "execution_count": 66,
   "metadata": {
    "collapsed": false
   },
   "outputs": [
    {
     "name": "stdout",
     "output_type": "stream",
     "text": [
      "Score:  0.153051977609 \n",
      "\n",
      "From: jemurray@magnus.acs.ohio-state.edu (John E Murray)\n",
      "Subject: quality of Catholic liturgy\n",
      "Organization: The Ohio State University\n",
      "Lines: 20\n",
      "\n",
      "I appreciated the follow-ups and replies to my earlier query.  One reply, which\n",
      "**********************************************************\n",
      "\n",
      "Score:  0.144105221371 \n",
      "\n",
      "From: ski@wpi.WPI.EDU (Joseph Mich Krzeszewski)\n",
      "Subject: Re: Need to find out number to a phone line\n",
      "Organization: Worcester Polytechnic Institute\n",
      "Lines: 4\n",
      "NNTP-Posting-Host: wpi.wpi.edu\n",
      "\n",
      "**********************************************************\n",
      "\n",
      "Score:  0.124007762994 \n",
      "\n",
      "From: ski@wpi.WPI.EDU (Joseph Mich Krzeszewski)\n",
      "Subject: Re: Need to find out number to a phone line\n",
      "Organization: Worcester Polytechnic Institute\n",
      "Lines: 9\n",
      "NNTP-Posting-Host: wpi.wpi.edu\n",
      "\n",
      "**********************************************************\n",
      "\n",
      "Score:  0.0912706021636 \n",
      "\n",
      "From: Sean_Oliver@mindlink.bc.ca (Sean Oliver)\n",
      "Subject: Re: Need to find out number to a phone line\n",
      "Organization: MIND LINK! - British Columbia, Canada\n",
      "Lines: 28\n",
      "\n",
      "> Joseph Mich Krzeszewsk writes:\n",
      "**********************************************************\n",
      "\n",
      "Score:  0.0912646387384 \n",
      "\n",
      "From: jamiller@kuhub.cc.ukans.edu\n",
      "Subject: 4 Sale: Computer misc, books, RPG stuff, etc.y\n",
      "Article-I.D.: kuhub.1993Apr6.004808.48862\n",
      "Organization: University of Kansas Academic Computing Services\n",
      "Lines: 85\n",
      "\n",
      "**********************************************************\n",
      "\n"
     ]
    },
    {
     "data": {
      "image/png": "[encoded data removed]",
      "text/plain": [
       "<matplotlib.figure.Figure at 0x20c726d8>"
      ]
     },
     "metadata": {},
     "output_type": "display_data"
    }
   ],
   "source": [
    "do_search(\"corpus linguistics\")"
   ]
  },
  {
   "cell_type": "code",
   "execution_count": 69,
   "metadata": {
    "collapsed": false
   },
   "outputs": [
    {
     "name": "stdout",
     "output_type": "stream",
     "text": [
      "Score:  0.39128544858 \n",
      "\n",
      "From: dempsey@stsci.edu\n",
      "Subject: Re: HST Servicing Mission Scheduled for 11 Days\n",
      "Lines: 46\n",
      "Organization: Space Telescope Science Institute\n",
      "Distribution: na\n",
      "\n",
      "**********************************************************\n",
      "\n",
      "Score:  0.380377351034 \n",
      "\n",
      "From: august1@server.uwindsor.ca (AUGUSTYN  ROBERT         )\n",
      "Subject: Data path width from 16 to 32 bits but speed less then double?\n",
      "Organization: University of Windsor, Ontario, Canada\n",
      "Lines: 5\n",
      "\n",
      "In evolution of 80-x86 data path width has been doubled from \n",
      "**********************************************************\n",
      "\n",
      "Score:  0.346033476571 \n",
      "\n",
      "From: tribe831@snake.cs.uidaho.edu (Mr. Duane Tribe; Esq.)\n",
      "Subject: Underground encryption (was Re: text of White House announcement ...)\n",
      "Organization: University of Idaho, Moscow\n",
      "Lines: 28\n",
      "Distribution: na\n",
      "NNTP-Posting-Host: snake.cs.uidaho.edu\n",
      "**********************************************************\n",
      "\n",
      "Score:  0.337098472117 \n",
      "\n",
      "From: PPORTH@hq.nasa.gov (\"Tricia Porth (202\")\n",
      "Subject: Remote Sensing Data\n",
      "X-Added: Forwarded by Space Digest\n",
      "Mmdf-Warning: Parse error in original version of preceding line at VACATION.VENARI.CS.CMU.EDU\n",
      "Organization: [via International Space University]\n",
      "Original-Sender: isu@VACATION.VENARI.CS.CMU.EDU\n",
      "**********************************************************\n",
      "\n",
      "Score:  0.316624566269 \n",
      "\n",
      "From: danj@welchgate.welch.jhu.edu (Dan Jacobson)\n",
      "Subject: Re: Is there an FTP achive for USGS terrain data\n",
      "Organization: Johns Hopkins Univ. Welch Medical Library\n",
      "Lines: 123\n",
      "\n",
      "\n",
      "**********************************************************\n",
      "\n"
     ]
    },
    {
     "data": {
      "image/png": "[encoded data removed]",
      "text/plain": [
       "<matplotlib.figure.Figure at 0x285a24e0>"
      ]
     },
     "metadata": {},
     "output_type": "display_data"
    }
   ],
   "source": [
    "do_search(\"data\")"
   ]
  },
  {
   "cell_type": "code",
   "execution_count": null,
   "metadata": {
    "collapsed": true
   },
   "outputs": [],
   "source": []
  }
 ],
 "metadata": {
  "kernelspec": {
   "display_name": "Python 2",
   "language": "python",
   "name": "python2"
  },
  "language_info": {
   "codemirror_mode": {
    "name": "ipython",
    "version": 2
   },
   "file_extension": ".py",
   "mimetype": "text/x-python",
   "name": "python",
   "nbconvert_exporter": "python",
   "pygments_lexer": "ipython2",
   "version": "2.7.10"
  }
 },
 "nbformat": 4,
 "nbformat_minor": 0
}
