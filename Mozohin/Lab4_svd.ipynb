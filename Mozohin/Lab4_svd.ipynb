{
 "cells": [
  {
   "cell_type": "code",
   "execution_count": 1,
   "metadata": {
    "collapsed": true
   },
   "outputs": [],
   "source": [
    "from sklearn.datasets import fetch_20newsgroups\n",
    "from sklearn.decomposition import TruncatedSVD\n",
    "from sklearn.feature_extraction.text import TfidfVectorizer\n",
    "from sklearn.cross_validation import train_test_split\n",
    "import numpy\n",
    "from sklearn.neighbors import KNeighborsClassifier\n",
    "%matplotlib inline"
   ]
  },
  {
   "cell_type": "code",
   "execution_count": 2,
   "metadata": {
    "collapsed": false
   },
   "outputs": [
    {
     "name": "stdout",
     "output_type": "stream",
     "text": [
      "Totics: ['alt.atheism', 'comp.graphics', 'comp.os.ms-windows.misc', 'comp.sys.ibm.pc.hardware', 'comp.sys.mac.hardware', 'comp.windows.x', 'misc.forsale', 'rec.autos', 'rec.motorcycles', 'rec.sport.baseball', 'rec.sport.hockey', 'sci.crypt', 'sci.electronics', 'sci.med', 'sci.space', 'soc.religion.christian', 'talk.politics.guns', 'talk.politics.mideast', 'talk.politics.misc', 'talk.religion.misc']\n",
      "Totics num: 20\n",
      "Total files: 18846\n"
     ]
    }
   ],
   "source": [
    "texts = fetch_20newsgroups(subset='all')\n",
    "print 'Totics:',texts.target_names\n",
    "print 'Totics num:', len(texts.target_names)\n",
    "print 'Total files:', len(texts.data)"
   ]
  },
  {
   "cell_type": "markdown",
   "metadata": {},
   "source": [
    "#TF-IDF vectorization"
   ]
  },
  {
   "cell_type": "code",
   "execution_count": 3,
   "metadata": {
    "collapsed": true
   },
   "outputs": [],
   "source": [
    "tfidf = TfidfVectorizer(stop_words='english')\n",
    "transformed_data = tfidf.fit_transform(texts.data)"
   ]
  },
  {
   "cell_type": "markdown",
   "metadata": {},
   "source": [
    "#SVD"
   ]
  },
  {
   "cell_type": "code",
   "execution_count": 4,
   "metadata": {
    "collapsed": true
   },
   "outputs": [],
   "source": [
    "svd = TruncatedSVD(n_components=20)\n",
    "transformed_svd = svd.fit_transform(transformed_data)"
   ]
  },
  {
   "cell_type": "code",
   "execution_count": 5,
   "metadata": {
    "collapsed": false
   },
   "outputs": [
    {
     "name": "stdout",
     "output_type": "stream",
     "text": [
      "Train data: 13192\n",
      "Test data: 5654\n"
     ]
    }
   ],
   "source": [
    "X_train, X_test, y_train, y_test = train_test_split(transformed_svd, texts.target, test_size = 0.3)\n",
    "\n",
    "print(\"Train data: {}\".format(len(X_train)))\n",
    "print(\"Test data: {}\".format(len(X_test)))"
   ]
  },
  {
   "cell_type": "markdown",
   "metadata": {},
   "source": [
    "#K_NN"
   ]
  },
  {
   "cell_type": "code",
   "execution_count": 6,
   "metadata": {
    "collapsed": false
   },
   "outputs": [
    {
     "name": "stdout",
     "output_type": "stream",
     "text": [
      "*******Errors*******\n",
      "Train data: 0.235294117647\n",
      "Test data: 0.347541563495\n"
     ]
    }
   ],
   "source": [
    "knn_classifier = KNeighborsClassifier().fit(X_train, y_train)\n",
    "\n",
    "y_train_predict = knn_classifier.predict(X_train)\n",
    "y_test_predict = knn_classifier.predict(X_test)\n",
    "\n",
    "print(\"*******Errors*******\")\n",
    "print(\"Train data: {}\".format(numpy.mean(y_train != y_train_predict)))\n",
    "print(\"Test data: {}\".format(numpy.mean(y_test  != y_test_predict)))"
   ]
  },
  {
   "cell_type": "markdown",
   "metadata": {},
   "source": [
    "# AdaBoost"
   ]
  },
  {
   "cell_type": "code",
   "execution_count": 9,
   "metadata": {
    "collapsed": false
   },
   "outputs": [
    {
     "data": {
      "image/png": "[encoded data removed]",
      "text/plain": [
       "<matplotlib.figure.Figure at 0x401d0f0>"
      ]
     },
     "metadata": {},
     "output_type": "display_data"
    }
   ],
   "source": [
    "from sklearn import ensemble\n",
    "import numpy as np\n",
    "import matplotlib.pyplot as plt\n",
    "\n",
    "#кол-во деревьев\n",
    "estimators = range(20,500,20)\n",
    "\n",
    "AB_test = []\n",
    "\n",
    "for i in estimators:  \n",
    "    rf = ensemble.AdaBoostClassifier(n_estimators = i).fit(X_train, y_train)\n",
    "    err_test  = np.mean(y_test  != rf.predict(X_test))\n",
    "    #сохраняем значения oob и err_test\n",
    "    AB_test.append(err_test)\n",
    "\n",
    "plt.plot(estimators, AB_test, label=\"Test error rate\")\n",
    "\n",
    "plt.xlim(min(estimators), max(estimators))\n",
    "plt.xlabel(\"N estimators\")\n",
    "plt.ylabel(\"Error rate\")\n",
    "plt.legend(loc=\"upper right\")\n",
    "plt.show()"
   ]
  },
  {
   "cell_type": "code",
   "execution_count": 13,
   "metadata": {
    "collapsed": false
   },
   "outputs": [
    {
     "name": "stdout",
     "output_type": "stream",
     "text": [
      "1 category, specific words:\n",
      "[u'people' u'article' u'writes' u'com']\n",
      "2 category, specific words:\n",
      "[u'believe' u'bible' u'jesus' u'people']\n",
      "3 category, specific words:\n",
      "[u'team' u'cs' u'game' u'university']\n",
      "4 category, specific words:\n",
      "[u'drive' u'jesus' u'scsi' u'windows']\n",
      "5 category, specific words:\n",
      "[u'games' u'team' u'ca' u'game']\n",
      "6 category, specific words:\n",
      "[u'sgi' u'sandvik' u'stratus' u'edu']\n",
      "7 category, specific words:\n",
      "[u'chip' u'god' u'encryption' u'clipper']\n",
      "8 category, specific words:\n",
      "[u'state' u'ohio' u'ide' u'drive']\n",
      "9 category, specific words:\n",
      "[u'gov' u'henry' u'space' u'nasa']\n",
      "10 category, specific words:\n",
      "[u'god' u'cdt' u'sw' u'windows']\n",
      "11 category, specific words:\n",
      "[u'acs' u'cramer' u'state' u'magnus']\n",
      "12 category, specific words:\n",
      "[u'turkish' u'armenians' u'apple' u'armenian']\n",
      "13 category, specific words:\n",
      "[u'banks' u'gordon' u'geb' u'pitt']\n",
      "14 category, specific words:\n",
      "[u'virginia' u'jake' u'jews' u'israeli']\n",
      "15 category, specific words:\n",
      "[u'digex' u'windows' u'optilink' u'access']\n",
      "16 category, specific words:\n",
      "[u'scsi' u'god' u'cdt' u'sw']\n",
      "17 category, specific words:\n",
      "[u'kent' u'ac' u'apple' u'uk']\n",
      "18 category, specific words:\n",
      "[u'ohio' u'access' u'cleveland' u'ac']\n",
      "19 category, specific words:\n",
      "[u'magnus' u'state' u'gov' u'ohio']\n",
      "20 category, specific words:\n",
      "[u'reserve' u'ins' u'freenet' u'cwru']\n"
     ]
    }
   ],
   "source": [
    "for id, component in enumerate(svd.components_):\n",
    "    print(\"{} category, specific words:\".format(id+1))\n",
    "    w_len = numpy.argsort(component)\n",
    "    print(np.asarray(tfidf.get_feature_names())[w_len[-5:-1]][:])"
   ]
  },
  {
   "cell_type": "code",
   "execution_count": null,
   "metadata": {
    "collapsed": true
   },
   "outputs": [],
   "source": []
  }
 ],
 "metadata": {
  "kernelspec": {
   "display_name": "Python 2",
   "language": "python",
   "name": "python2"
  },
  "language_info": {
   "codemirror_mode": {
    "name": "ipython",
    "version": 2
   },
   "file_extension": ".py",
   "mimetype": "text/x-python",
   "name": "python",
   "nbconvert_exporter": "python",
   "pygments_lexer": "ipython2",
   "version": "2.7.11"
  }
 },
 "nbformat": 4,
 "nbformat_minor": 0
}
