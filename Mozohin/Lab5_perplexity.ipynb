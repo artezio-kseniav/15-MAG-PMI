{
 "cells": [
  {
   "cell_type": "code",
   "execution_count": 1,
   "metadata": {
    "collapsed": false
   },
   "outputs": [
    {
     "name": "stdout",
     "output_type": "stream",
     "text": [
      "234\n",
      "240\n"
     ]
    }
   ],
   "source": [
    "import lxml.html as html\n",
    "import io\n",
    "import nltk\n",
    "import string\n",
    "import math\n",
    "\n",
    "texts_auto = []\n",
    "texts_research = []\n",
    "\n",
    "\n",
    "base_auto = 'http://www.autonews.ru'\n",
    "for page in range(1,10):\n",
    "    main_page = html.parse('http://www.autonews.ru/news/list/' + str(page) + '/')\n",
    "    urls = main_page.getroot().xpath('//ul[@class=\"news-list__list\"]//a[@href]/@href')\n",
    "\n",
    "    for url in urls:\n",
    "        page = html.parse(base_auto + url)\n",
    "        # Getting article header\n",
    "        text = page.getroot().xpath('//*[contains(@class, \"article__\")]/text()')\n",
    "        text = [''.join(t).encode('utf-8', 'ignore').decode('utf-8') for t in text]\n",
    "        page_text = ''.join(text)\n",
    "        page_text = page_text.replace('\\n', ' ').replace('\\r', '')\n",
    "        page_text = \" \".join(page_text.split())\n",
    "        texts_auto.append(page_text)\n",
    "print len(texts_auto)\n",
    "\n",
    "for page in range(2,10):\n",
    "    main_page = html.parse('http://www.marketing.rbc.ru/news_research/p' + str(page) + '/')\n",
    "    urls = main_page.getroot().xpath('//div[@class=\"list\"]//a[@href]/@href')\n",
    "\n",
    "\n",
    "    for url in urls:\n",
    "        page = html.parse(url)\n",
    "        # Getting article header\n",
    "        text = page.getroot().xpath('//*[contains(@class, \"newsBlock\")]//p/text()')\n",
    "        text = [''.join(t).encode('utf-8', 'ignore').decode('utf-8') for t in text]\n",
    "        page_text = ''.join(text)\n",
    "        page_text = page_text.replace('\\n', ' ').replace('\\r', '')\n",
    "        page_text = \" \".join(page_text.split())\n",
    "        texts_research.append(page_text)\n",
    "print len(texts_research)"
   ]
  },
  {
   "cell_type": "code",
   "execution_count": 2,
   "metadata": {
    "collapsed": true
   },
   "outputs": [],
   "source": [
    "def load_ngrams(file):\n",
    "    input_f = io.open(file, \"r\", encoding='utf8')\n",
    "    n_dict = {}\n",
    "    for line in input_f:\n",
    "        line = line.replace('\\n', '').split('\\t')\n",
    "        n_dict[tuple(line[0:])] = int(line[0])\n",
    "    input_f.close()\n",
    "    return n_dict\n",
    "\n",
    "def tokenize(corpus):\n",
    "    news_list = corpus\n",
    "    words = []\n",
    "    for text in news_list:\n",
    "        text_str = ''.join(text)\n",
    "        line = nltk.word_tokenize(text_str)\n",
    "        line = [word.encode(\"utf-8\").decode(\"utf-8\").lower() for word in line if word not in string.punctuation\n",
    "                        and word not in [u'\\u2012', u'\\u2013', u'\\u2014', u'\\u2015', u'``', u\"''\"]]\n",
    "        words += line\n",
    "    return words\n",
    "\n",
    "def find_perplexity(category, n3_gram, n2_gram):\n",
    "    sum_probability = 0\n",
    "    unknown_words = 0\n",
    "    min_probability = 1\n",
    "    sum_log = 0\n",
    "\n",
    "    current_probability= {}\n",
    "\n",
    "    for i in range(2, len(category)):\n",
    "        try:\n",
    "            current_probability[i] = (n3_gram[(category[i-2], category[i-1], category[i])] + 0.0)/n2_gram[(category[i-2],category[i-1])]\n",
    "            sum_probability += current_probability\n",
    "            if current_probability[i] < min_probability:\n",
    "                min_probability = current_probability[i]\n",
    "        except KeyError:\n",
    "            unknown_words +=1\n",
    "    print (unknown_words, len(category), sum_probability)\n",
    "    known_words = len(category) - unknown_words\n",
    "    min_probability /= 10.0\n",
    "    probability_to_substract = (unknown_words * min_probability + 0.0) / known_words\n",
    "    for i in range(2, len(category)):\n",
    "        try:\n",
    "            sum_log += math.log(current_probability[i] - probability_to_substract, 2)\n",
    "        except KeyError:\n",
    "            sum_log += math.log(min_probability, 2)\n",
    "\n",
    "    return sum_log"
   ]
  },
  {
   "cell_type": "code",
   "execution_count": 4,
   "metadata": {
    "collapsed": false
   },
   "outputs": [],
   "source": [
    "n_2_grams = load_ngrams(\"2grams-3.txt\")"
   ]
  },
  {
   "cell_type": "code",
   "execution_count": 5,
   "metadata": {
    "collapsed": true
   },
   "outputs": [],
   "source": [
    "n_3_grams = load_ngrams(\"3grams-3.txt\")"
   ]
  },
  {
   "cell_type": "code",
   "execution_count": 6,
   "metadata": {
    "collapsed": true
   },
   "outputs": [],
   "source": [
    "tokenized_auto = tokenize(texts_auto)\n",
    "tokenized_research = tokenize(texts_research)"
   ]
  },
  {
   "cell_type": "code",
   "execution_count": 7,
   "metadata": {
    "collapsed": false
   },
   "outputs": [
    {
     "name": "stdout",
     "output_type": "stream",
     "text": [
      "(54643, 54645, 0)\n",
      "Perplexity for AUTO: 9.99915729233\n",
      "(45382, 45384, 0)\n",
      "Perplexity for RESEARCH: 9.99898533921\n"
     ]
    }
   ],
   "source": [
    "perplexity_auto = find_perplexity(tokenized_auto, n_2_grams, n_3_grams)\n",
    "perplexity = 2**(-perplexity_auto / len(tokenized_auto))\n",
    "print(\"Perplexity for AUTO: {}\".format(perplexity))\n",
    "perplexity_research = find_perplexity(tokenized_research, n_2_grams, n_3_grams)\n",
    "perplexity = 2**(-perplexity_research / len(tokenized_research))\n",
    "print(\"Perplexity for RESEARCH: {}\".format(perplexity))"
   ]
  },
  {
   "cell_type": "markdown",
   "metadata": {},
   "source": [
    "#------------------------------------------------------------------------------------------\n",
    "Предсказательная способность вероятностной модели корпуса для темы RESEARCH незначительно превосходит подобный показатель для темы AUTO."
   ]
  },
  {
   "cell_type": "code",
   "execution_count": null,
   "metadata": {
    "collapsed": true
   },
   "outputs": [],
   "source": []
  }
 ],
 "metadata": {
  "kernelspec": {
   "display_name": "Python 2",
   "language": "python",
   "name": "python2"
  },
  "language_info": {
   "codemirror_mode": {
    "name": "ipython",
    "version": 2
   },
   "file_extension": ".py",
   "mimetype": "text/x-python",
   "name": "python",
   "nbconvert_exporter": "python",
   "pygments_lexer": "ipython2",
   "version": "2.7.11"
  }
 },
 "nbformat": 4,
 "nbformat_minor": 0
}
